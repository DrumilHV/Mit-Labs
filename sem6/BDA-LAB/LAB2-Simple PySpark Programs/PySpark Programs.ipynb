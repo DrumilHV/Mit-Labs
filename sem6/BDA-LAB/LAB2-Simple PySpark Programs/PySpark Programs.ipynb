{
 "cells": [
  {
   "cell_type": "code",
   "execution_count": 31,
   "metadata": {},
   "outputs": [],
   "source": [
    "from pyspark.sql import SparkSession \n",
    "from pyspark.sql.functions import col\n",
    "from pyspark.sql.functions import lit, when, col, avg , sum"
   ]
  },
  {
   "cell_type": "code",
   "execution_count": 41,
   "metadata": {},
   "outputs": [
    {
     "name": "stdout",
     "output_type": "stream",
     "text": [
      "+--------------------+------------------+---------+----+----------------+------------+--------------------+--------------------+--------------------+\n",
      "|         BROKERTITLE|              TYPE|    PRICE|BEDS|            BATH|PROPERTYSQFT|             ADDRESS|               STATE|        MAIN_ADDRESS|\n",
      "+--------------------+------------------+---------+----+----------------+------------+--------------------+--------------------+--------------------+\n",
      "|Brokered by Dougl...|    Condo for sale|   315000|   2|             2.0|      1400.0|2 E 55th St Unit 803|  New York, NY 10022|2 E 55th St Unit ...|\n",
      "| Brokered by Serhant|    Condo for sale|195000000|   7|            10.0|     17545.0|Central Park Towe...|  New York, NY 10019|Central Park Towe...|\n",
      "|Brokered by Sowae...|    House for sale|   260000|   4|             2.0|      2015.0|    620 Sinclair Ave|Staten Island, NY...|620 Sinclair AveS...|\n",
      "| Brokered by COMPASS|    Condo for sale|    69000|   3|             1.0|       445.0|2 E 55th St Unit ...| Manhattan, NY 10022|2 E 55th St Unit ...|\n",
      "|Brokered by Sothe...|Townhouse for sale| 55000000|   7|2.37386085796844|     14175.0|         5 E 64th St|  New York, NY 10065|5 E 64th StNew Yo...|\n",
      "|Brokered by Sowae...|    House for sale|   690000|   5|             2.0|      4004.0|         584 Park Pl|  Brooklyn, NY 11238|584 Park PlBrookl...|\n",
      "|Brokered by Dougl...|    Condo for sale|   899500|   2|             2.0| 2184.207862|157 W 126th St Un...|  New York, NY 10027|157 W 126th St Un...|\n",
      "|Brokered by Conni...|    House for sale| 16800000|   8|            16.0|     33000.0|     177 Benedict Rd|Staten Island, NY...|177 Benedict RdSt...|\n",
      "|Brokered by Panti...|    Co-op for sale|   265000|   1|             1.0|       750.0|875 Morrison Ave ...|     Bronx, NY 10473|875 Morrison Ave ...|\n",
      "|Brokered by CENTU...|    Co-op for sale|   440000|   2|             1.0|       978.0|1350 Ocean Pkwy A...|  Brooklyn, NY 11230|1350 Ocean Pkwy A...|\n",
      "|Brokered by Engel...|    Co-op for sale|   375000|   2|             1.0|       850.0|800 Grand Concour...|     Bronx, NY 10451|800 Grand Concour...|\n",
      "|Brokered by Re/Ma...|Townhouse for sale|   689000|   3|2.37386085796844|      1162.0|    456 Van Name Ave|Staten Island, NY...|456 Van Name AveS...|\n",
      "| Brokered by COMPASS|    Co-op for sale|   259000|   3|             1.0| 2184.207862|34-41 85th St Uni...|Jackson Heights, ...|34-41 85th St Uni...|\n",
      "|Brokered by Jamie...|    Co-op for sale|   430000|   2|             2.0| 2184.207862|91-15 Lamont Ave ...|  Elmhurst, NY 11373|91-15 Lamont Ave ...|\n",
      "|Brokered by Corco...|    Co-op for sale|   895000|   3|             1.0| 2184.207862|   61 Jane St Apt 6N|  New York, NY 10014|61 Jane St Apt 6N...|\n",
      "|Brokered by Awaye...|    Condo for sale|   549000|   2|             2.0|      1000.0|4654 Amboy Rd Uni...|Staten Island, NY...|4654 Amboy Rd Uni...|\n",
      "|Brokered by Realt...|Townhouse for sale|   975000|   3|             2.0|      1734.0|     28-31 Hobart St|  Woodside, NY 11377|28-31 Hobart StWo...|\n",
      "|Brokered by Dorsa...|    Co-op for sale|   199000|   3|             1.0|       325.0|9430 Ridge Blvd A...|  Brooklyn, NY 11209|9430 Ridge Blvd A...|\n",
      "|Brokered by Coldw...|    Co-op for sale|   350000|   1|             1.0|       700.0|5800 Arlington Av...|     Bronx, NY 10471|5800 Arlington Av...|\n",
      "|Brokered by Kelle...|    Condo for sale|   599000|   2|             2.0|       974.0|92-29 Queens Blvd...| Rego Park, NY 11374|92-29 Queens Blvd...|\n",
      "+--------------------+------------------+---------+----+----------------+------------+--------------------+--------------------+--------------------+\n",
      "only showing top 20 rows\n",
      "\n"
     ]
    },
    {
     "name": "stderr",
     "output_type": "stream",
     "text": [
      "/home/lplab/anaconda3/lib/python3.7/site-packages/pyspark/context.py:317: FutureWarning: Python 3.7 support is deprecated in Spark 3.4.\n",
      "  warnings.warn(\"Python 3.7 support is deprecated in Spark 3.4.\", FutureWarning)\n"
     ]
    }
   ],
   "source": [
    "# Implement a PySpark script that applies transformations like filter and withColumn on a\n",
    "# DataFrame.\n",
    "\n",
    "spark = SparkSession.builder.appName(\"columnOperations\").getOrCreate()\n",
    "\n",
    "df = spark.read.csv(\"house_price.csv\", header=True, inferSchema=True)\n",
    "\n",
    "df.show()\n",
    "\n"
   ]
  },
  {
   "cell_type": "code",
   "execution_count": 42,
   "metadata": {},
   "outputs": [
    {
     "name": "stdout",
     "output_type": "stream",
     "text": [
      "Transformed data : Posh Properties\n",
      "+--------------------+--------------------+---------+----+----------------+------------+--------------------+--------------------+--------------------+\n",
      "|         BROKERTITLE|                TYPE|    PRICE|BEDS|            BATH|PROPERTYSQFT|             ADDRESS|               STATE|        MAIN_ADDRESS|\n",
      "+--------------------+--------------------+---------+----+----------------+------------+--------------------+--------------------+--------------------+\n",
      "| Brokered by Serhant|      Condo for sale|195000000|   7|            10.0|     17545.0|Central Park Towe...|  New York, NY 10019|Central Park Towe...|\n",
      "|Brokered by Sothe...|  Townhouse for sale| 55000000|   7|2.37386085796844|     14175.0|         5 E 64th St|  New York, NY 10065|5 E 64th StNew Yo...|\n",
      "|Brokered by Conni...|      House for sale| 16800000|   8|            16.0|     33000.0|     177 Benedict Rd|Staten Island, NY...|177 Benedict RdSt...|\n",
      "|Brokered by Apaus...|      Condo for sale|  1300000|   2|             2.0|      1244.0|10724 71st Rd Apt 9F|Forest Hills, NY ...|10724 71st Rd Apt...|\n",
      "|Brokered by Kelle...|Multi-family home...|  1100000|   6|             3.0|      2837.0|1038 Throggs Neck...|     Bronx, NY 10465|1038 Throggs Neck...|\n",
      "|Brokered by CENTU...|Multi-family home...|  1690000|   6|             4.0|      2200.0|        149-07 85 Rd| Briarwood, NY 11435|149-07 85 RdBriar...|\n",
      "|Brokered by Centu...|Multi-family home...|  2250000|  12|2.37386085796844|      5670.0|        2361 81st St|  Brooklyn, NY 11214|2361 81st StBrook...|\n",
      "|Brokered by Ashfo...|Multi-family home...|  1299888|  10|             6.0|      3156.0|310-312 Hillside Ave|Staten Island, NY...|310-312 Hillside ...|\n",
      "|Brokered by RJM R...|Multi-family home...|  1300000|  10|             8.0|      5040.0|366 Union Ave Unit 4|Staten Island, NY...|366 Union Ave Uni...|\n",
      "|Brokered by Ashfo...|Multi-family home...|  1299888|  11|             4.0|      3156.0|310-312 Hillside Ave|Staten Island, NY...|310-312 Hillside ...|\n",
      "|Brokered by Corco...|      Condo for sale|  1165000|   1|             1.0|       815.0| 338 Berry St Apt 4E|  Brooklyn, NY 11249|338 Berry St Apt ...|\n",
      "|Brokered by State...|Multi-family home...|  1199000|   6|             5.0|      3290.0|         10 Simon Ct|Staten Island, NY...|10 Simon CtStaten...|\n",
      "|Brokered by Centu...|Multi-family home...|  2150000|   8|             4.0|      3200.0|        2226 63rd St|  Brooklyn, NY 11204|2226 63rd StBrook...|\n",
      "|Brokered by E Rea...|Multi-family home...|  1280000|   7|             5.0|      2460.0|      86-05 91st Ave| Woodhaven, NY 11421|86-05 91st AveWoo...|\n",
      "|Brokered by Brown...|      Co-op for sale|  4250000|   3|             2.0|      2400.0|123 Prince St Unit 1| Manhattan, NY 10012|123 Prince St Uni...|\n",
      "|Brokered by eXp R...|Multi-family home...|  1200000|   4|             2.0|      2536.0|      66 Bay 22nd St|  Brooklyn, NY 11214|66 Bay 22nd StBro...|\n",
      "|Brokered by RE MA...|Multi-family home...|  1999000|   3|             3.0|      2739.0|         259 80th St|  Brooklyn, NY 11209|259 80th StBrookl...|\n",
      "|Brokered by Dougl...|      Co-op for sale|  3250000|   2|             2.0|      1300.0|240 Centre St Uni...|  New York, NY 10013|240 Centre St Uni...|\n",
      "|Brokered by Dougl...|      Condo for sale|  1650000|   2|             2.0|      1267.0|  473 Hicks St Apt 4|  Brooklyn, NY 11231|473 Hicks St Apt ...|\n",
      "|Brokered by Homes...|Multi-family home...|  1049000|   4|             4.0|      2554.0|    342 Manhattan St|Staten Island, NY...|342 Manhattan StS...|\n",
      "+--------------------+--------------------+---------+----+----------------+------------+--------------------+--------------------+--------------------+\n",
      "only showing top 20 rows\n",
      "\n"
     ]
    }
   ],
   "source": [
    "posh_properties = df.filter(col(\"PRICE\") >= 1000000)\n",
    "print(\"Transformed data : Posh Properties\")\n",
    "posh_properties.show()\n"
   ]
  },
  {
   "cell_type": "code",
   "execution_count": 43,
   "metadata": {},
   "outputs": [
    {
     "name": "stdout",
     "output_type": "stream",
     "text": [
      "Transformed data : New York Properties\n",
      "+--------------------+------------------+---------+----+----------------+------------+--------------------+--------------------+--------------------+-------------+\n",
      "|         BROKERTITLE|              TYPE|    PRICE|BEDS|            BATH|PROPERTYSQFT|             ADDRESS|               STATE|        MAIN_ADDRESS|New York Home|\n",
      "+--------------------+------------------+---------+----+----------------+------------+--------------------+--------------------+--------------------+-------------+\n",
      "|Brokered by Dougl...|    Condo for sale|   315000|   2|             2.0|      1400.0|2 E 55th St Unit 803|  New York, NY 10022|2 E 55th St Unit ...|        false|\n",
      "| Brokered by Serhant|    Condo for sale|195000000|   7|            10.0|     17545.0|Central Park Towe...|  New York, NY 10019|Central Park Towe...|         true|\n",
      "|Brokered by Sowae...|    House for sale|   260000|   4|             2.0|      2015.0|    620 Sinclair Ave|Staten Island, NY...|620 Sinclair AveS...|        false|\n",
      "| Brokered by COMPASS|    Condo for sale|    69000|   3|             1.0|       445.0|2 E 55th St Unit ...| Manhattan, NY 10022|2 E 55th St Unit ...|        false|\n",
      "|Brokered by Sothe...|Townhouse for sale| 55000000|   7|2.37386085796844|     14175.0|         5 E 64th St|  New York, NY 10065|5 E 64th StNew Yo...|        false|\n",
      "|Brokered by Sowae...|    House for sale|   690000|   5|             2.0|      4004.0|         584 Park Pl|  Brooklyn, NY 11238|584 Park PlBrookl...|        false|\n",
      "|Brokered by Dougl...|    Condo for sale|   899500|   2|             2.0| 2184.207862|157 W 126th St Un...|  New York, NY 10027|157 W 126th St Un...|        false|\n",
      "|Brokered by Conni...|    House for sale| 16800000|   8|            16.0|     33000.0|     177 Benedict Rd|Staten Island, NY...|177 Benedict RdSt...|        false|\n",
      "|Brokered by Panti...|    Co-op for sale|   265000|   1|             1.0|       750.0|875 Morrison Ave ...|     Bronx, NY 10473|875 Morrison Ave ...|        false|\n",
      "|Brokered by CENTU...|    Co-op for sale|   440000|   2|             1.0|       978.0|1350 Ocean Pkwy A...|  Brooklyn, NY 11230|1350 Ocean Pkwy A...|        false|\n",
      "|Brokered by Engel...|    Co-op for sale|   375000|   2|             1.0|       850.0|800 Grand Concour...|     Bronx, NY 10451|800 Grand Concour...|        false|\n",
      "|Brokered by Re/Ma...|Townhouse for sale|   689000|   3|2.37386085796844|      1162.0|    456 Van Name Ave|Staten Island, NY...|456 Van Name AveS...|        false|\n",
      "| Brokered by COMPASS|    Co-op for sale|   259000|   3|             1.0| 2184.207862|34-41 85th St Uni...|Jackson Heights, ...|34-41 85th St Uni...|        false|\n",
      "|Brokered by Jamie...|    Co-op for sale|   430000|   2|             2.0| 2184.207862|91-15 Lamont Ave ...|  Elmhurst, NY 11373|91-15 Lamont Ave ...|        false|\n",
      "|Brokered by Corco...|    Co-op for sale|   895000|   3|             1.0| 2184.207862|   61 Jane St Apt 6N|  New York, NY 10014|61 Jane St Apt 6N...|        false|\n",
      "|Brokered by Awaye...|    Condo for sale|   549000|   2|             2.0|      1000.0|4654 Amboy Rd Uni...|Staten Island, NY...|4654 Amboy Rd Uni...|        false|\n",
      "|Brokered by Realt...|Townhouse for sale|   975000|   3|             2.0|      1734.0|     28-31 Hobart St|  Woodside, NY 11377|28-31 Hobart StWo...|        false|\n",
      "|Brokered by Dorsa...|    Co-op for sale|   199000|   3|             1.0|       325.0|9430 Ridge Blvd A...|  Brooklyn, NY 11209|9430 Ridge Blvd A...|        false|\n",
      "|Brokered by Coldw...|    Co-op for sale|   350000|   1|             1.0|       700.0|5800 Arlington Av...|     Bronx, NY 10471|5800 Arlington Av...|        false|\n",
      "|Brokered by Kelle...|    Condo for sale|   599000|   2|             2.0|       974.0|92-29 Queens Blvd...| Rego Park, NY 11374|92-29 Queens Blvd...|        false|\n",
      "+--------------------+------------------+---------+----+----------------+------------+--------------------+--------------------+--------------------+-------------+\n",
      "only showing top 20 rows\n",
      "\n",
      "all:  4801 new_york_properties 1841\n"
     ]
    }
   ],
   "source": [
    "new_york_properties = df.withColumn(\"New York Home\",col(\"MAIN_ADDRESS\").contains(\"Central Park\"))\n",
    "print(\"Transformed data : New York Properties\")\n",
    "new_york_properties.show()\n",
    "print(\"all: \",df.count(),\"new_york_properties\",posh_properties.count())\n"
   ]
  },
  {
   "cell_type": "code",
   "execution_count": 44,
   "metadata": {},
   "outputs": [
    {
     "name": "stdout",
     "output_type": "stream",
     "text": [
      "Transformed data : Posh Properties\n",
      "+--------------------+--------------------+---------+----+----------------+------------+--------------------+--------------------+--------------------+\n",
      "|         BROKERTITLE|                TYPE|    PRICE|BEDS|            BATH|PROPERTYSQFT|             ADDRESS|               STATE|        MAIN_ADDRESS|\n",
      "+--------------------+--------------------+---------+----+----------------+------------+--------------------+--------------------+--------------------+\n",
      "| Brokered by Serhant|      Condo for sale|195000000|   7|            10.0|     17545.0|Central Park Towe...|  New York, NY 10019|Central Park Towe...|\n",
      "|Brokered by Sothe...|  Townhouse for sale| 55000000|   7|2.37386085796844|     14175.0|         5 E 64th St|  New York, NY 10065|5 E 64th StNew Yo...|\n",
      "|Brokered by Conni...|      House for sale| 16800000|   8|            16.0|     33000.0|     177 Benedict Rd|Staten Island, NY...|177 Benedict RdSt...|\n",
      "|Brokered by Apaus...|      Condo for sale|  1300000|   2|             2.0|      1244.0|10724 71st Rd Apt 9F|Forest Hills, NY ...|10724 71st Rd Apt...|\n",
      "|Brokered by Kelle...|Multi-family home...|  1100000|   6|             3.0|      2837.0|1038 Throggs Neck...|     Bronx, NY 10465|1038 Throggs Neck...|\n",
      "|Brokered by CENTU...|Multi-family home...|  1690000|   6|             4.0|      2200.0|        149-07 85 Rd| Briarwood, NY 11435|149-07 85 RdBriar...|\n",
      "|Brokered by Centu...|Multi-family home...|  2250000|  12|2.37386085796844|      5670.0|        2361 81st St|  Brooklyn, NY 11214|2361 81st StBrook...|\n",
      "|Brokered by Ashfo...|Multi-family home...|  1299888|  10|             6.0|      3156.0|310-312 Hillside Ave|Staten Island, NY...|310-312 Hillside ...|\n",
      "|Brokered by RJM R...|Multi-family home...|  1300000|  10|             8.0|      5040.0|366 Union Ave Unit 4|Staten Island, NY...|366 Union Ave Uni...|\n",
      "|Brokered by Ashfo...|Multi-family home...|  1299888|  11|             4.0|      3156.0|310-312 Hillside Ave|Staten Island, NY...|310-312 Hillside ...|\n",
      "|Brokered by Corco...|      Condo for sale|  1165000|   1|             1.0|       815.0| 338 Berry St Apt 4E|  Brooklyn, NY 11249|338 Berry St Apt ...|\n",
      "|Brokered by State...|Multi-family home...|  1199000|   6|             5.0|      3290.0|         10 Simon Ct|Staten Island, NY...|10 Simon CtStaten...|\n",
      "|Brokered by Centu...|Multi-family home...|  2150000|   8|             4.0|      3200.0|        2226 63rd St|  Brooklyn, NY 11204|2226 63rd StBrook...|\n",
      "|Brokered by E Rea...|Multi-family home...|  1280000|   7|             5.0|      2460.0|      86-05 91st Ave| Woodhaven, NY 11421|86-05 91st AveWoo...|\n",
      "|Brokered by Brown...|      Co-op for sale|  4250000|   3|             2.0|      2400.0|123 Prince St Unit 1| Manhattan, NY 10012|123 Prince St Uni...|\n",
      "|Brokered by eXp R...|Multi-family home...|  1200000|   4|             2.0|      2536.0|      66 Bay 22nd St|  Brooklyn, NY 11214|66 Bay 22nd StBro...|\n",
      "|Brokered by RE MA...|Multi-family home...|  1999000|   3|             3.0|      2739.0|         259 80th St|  Brooklyn, NY 11209|259 80th StBrookl...|\n",
      "|Brokered by Dougl...|      Co-op for sale|  3250000|   2|             2.0|      1300.0|240 Centre St Uni...|  New York, NY 10013|240 Centre St Uni...|\n",
      "|Brokered by Dougl...|      Condo for sale|  1650000|   2|             2.0|      1267.0|  473 Hicks St Apt 4|  Brooklyn, NY 11231|473 Hicks St Apt ...|\n",
      "|Brokered by Homes...|Multi-family home...|  1049000|   4|             4.0|      2554.0|    342 Manhattan St|Staten Island, NY...|342 Manhattan StS...|\n",
      "+--------------------+--------------------+---------+----+----------------+------------+--------------------+--------------------+--------------------+\n",
      "only showing top 20 rows\n",
      "\n",
      "avg_porsh_price_property 5230758.976643128 total_porsh_price_property 9629827276\n"
     ]
    }
   ],
   "source": [
    "avg_porsh_price_property = posh_properties.select(avg(col(\"PRICE\"))).collect()[0][0]\n",
    "total_porsh_price_property = posh_properties.select(sum(col(\"PRICE\"))).collect()[0][0]\n",
    "\n",
    "# Display the DataFrame\n",
    "print(\"Transformed data : Posh Properties\")\n",
    "posh_properties.show()\n",
    "\n",
    "# Print aggregation results\n",
    "print(\"avg_porsh_price_property\", avg_porsh_price_property, \"total_porsh_price_property\", total_porsh_price_property)\n",
    "\n"
   ]
  },
  {
   "cell_type": "code",
   "execution_count": null,
   "metadata": {},
   "outputs": [],
   "source": []
  },
  {
   "cell_type": "code",
   "execution_count": null,
   "metadata": {},
   "outputs": [],
   "source": []
  }
 ],
 "metadata": {
  "kernelspec": {
   "display_name": "Python 3",
   "language": "python",
   "name": "python3"
  },
  "language_info": {
   "codemirror_mode": {
    "name": "ipython",
    "version": 3
   },
   "file_extension": ".py",
   "mimetype": "text/x-python",
   "name": "python",
   "nbconvert_exporter": "python",
   "pygments_lexer": "ipython3",
   "version": "3.7.0"
  }
 },
 "nbformat": 4,
 "nbformat_minor": 2
}
