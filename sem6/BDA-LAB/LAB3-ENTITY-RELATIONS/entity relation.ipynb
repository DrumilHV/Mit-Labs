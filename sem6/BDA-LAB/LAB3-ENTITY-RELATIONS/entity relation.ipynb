{
 "cells": [
  {
   "cell_type": "code",
   "execution_count": 1,
   "metadata": {},
   "outputs": [],
   "source": [
    "import sys\n",
    "import os\n",
    "import pyspark\n",
    "from pyspark import SparkContext\n",
    "from pyspark.sql import SparkSession"
   ]
  },
  {
   "cell_type": "code",
   "execution_count": 2,
   "metadata": {},
   "outputs": [
    {
     "name": "stderr",
     "output_type": "stream",
     "text": [
      "/home/lplab/anaconda3/lib/python3.7/site-packages/pyspark/context.py:317: FutureWarning: Python 3.7 support is deprecated in Spark 3.4.\n",
      "  warnings.warn(\"Python 3.7 support is deprecated in Spark 3.4.\", FutureWarning)\n"
     ]
    }
   ],
   "source": [
    "spark = SparkSession.builder.config(\"spark.driver.config\", \"4g\").appName('entity-relation').getOrCreate()"
   ]
  },
  {
   "cell_type": "code",
   "execution_count": 3,
   "metadata": {},
   "outputs": [],
   "source": [
    "# Q1 Develop a PySpark script to clean and preprocess data before performing entity resolution.\n",
    "# Include steps like tokenization and normalization.\n",
    "\n",
    "# Sol) the given data is already normailzed , tokenized (no more possibility of tokenization!)"
   ]
  },
  {
   "cell_type": "code",
   "execution_count": 3,
   "metadata": {},
   "outputs": [
    {
     "name": "stdout",
     "output_type": "stream",
     "text": [
      "+-----+-----+-----------------+------------+------------+------------+-------+------+------+------+-------+--------+\n",
      "| id_1| id_2|     cmp_fname_c1|cmp_fname_c2|cmp_lname_c1|cmp_lname_c2|cmp_sex|cmp_bd|cmp_bm|cmp_by|cmp_plz|is_match|\n",
      "+-----+-----+-----------------+------------+------------+------------+-------+------+------+------+-------+--------+\n",
      "|37291|53113|0.833333333333333|        null|         1.0|        null|      1|     1|     1|     1|      0|    true|\n",
      "|39086|47614|              1.0|        null|         1.0|        null|      1|     1|     1|     1|      1|    true|\n",
      "|70031|70237|              1.0|        null|         1.0|        null|      1|     1|     1|     1|      1|    true|\n",
      "|84795|97439|              1.0|        null|         1.0|        null|      1|     1|     1|     1|      1|    true|\n",
      "|36950|42116|              1.0|        null|         1.0|         1.0|      1|     1|     1|     1|      1|    true|\n",
      "|42413|48491|              1.0|        null|         1.0|        null|      1|     1|     1|     1|      1|    true|\n",
      "|25965|64753|              1.0|        null|         1.0|        null|      1|     1|     1|     1|      1|    true|\n",
      "|49451|90407|              1.0|        null|         1.0|        null|      1|     1|     1|     1|      0|    true|\n",
      "|39932|40902|              1.0|        null|         1.0|        null|      1|     1|     1|     1|      1|    true|\n",
      "|46626|47940|              1.0|        null|         1.0|        null|      1|     1|     1|     1|      1|    true|\n",
      "|48948|98379|              1.0|        null|         1.0|        null|      1|     1|     1|     1|      1|    true|\n",
      "| 4767| 4826|              1.0|        null|         1.0|        null|      1|     1|     1|     1|      1|    true|\n",
      "|45463|69659|              1.0|        null|         1.0|        null|      1|     1|     1|     1|      1|    true|\n",
      "|11367|13169|              1.0|        null|         1.0|        null|      1|     1|     1|     1|      1|    true|\n",
      "|10782|89636|              1.0|        null|         1.0|        null|      1|     0|     1|     1|      1|    true|\n",
      "|26206|39147|              1.0|        null|         1.0|        null|      1|     1|     1|     1|      1|    true|\n",
      "|16662|27083|              1.0|         1.0|         1.0|        null|      1|     1|     1|     1|      1|    true|\n",
      "|18823|30204|              1.0|         1.0|         1.0|        null|      1|     1|     1|     1|      1|    true|\n",
      "|38545|85418|              1.0|        null|         1.0|        null|      1|     1|     1|     1|      1|    true|\n",
      "|28963|39172|              1.0|        null|         1.0|        null|      1|     1|     1|     1|      1|    true|\n",
      "+-----+-----+-----------------+------------+------------+------------+-------+------+------+------+-------+--------+\n",
      "only showing top 20 rows\n",
      "\n"
     ]
    }
   ],
   "source": [
    "prev =  spark.read.option(\"header\", \"true\").option(\"nullValue\", \"?\").\\\n",
    "option(\"inferSchema\", \"true\").csv(\"Data/csv-data/block_1.csv\")\n",
    "prev.show()"
   ]
  },
  {
   "cell_type": "code",
   "execution_count": 4,
   "metadata": {},
   "outputs": [
    {
     "name": "stdout",
     "output_type": "stream",
     "text": [
      "+-----+-----+-----------------+------------+------------+------------+-------+------+------+------+-------+--------+\n",
      "| id_1| id_2|     cmp_fname_c1|cmp_fname_c2|cmp_lname_c1|cmp_lname_c2|cmp_sex|cmp_bd|cmp_bm|cmp_by|cmp_plz|is_match|\n",
      "+-----+-----+-----------------+------------+------------+------------+-------+------+------+------+-------+--------+\n",
      "|37291|53113|0.833333333333333|         0.0|         1.0|         0.0|      1|     1|     1|     1|      0|    true|\n",
      "|39086|47614|              1.0|         0.0|         1.0|         0.0|      1|     1|     1|     1|      1|    true|\n",
      "|70031|70237|              1.0|         0.0|         1.0|         0.0|      1|     1|     1|     1|      1|    true|\n",
      "|84795|97439|              1.0|         0.0|         1.0|         0.0|      1|     1|     1|     1|      1|    true|\n",
      "|36950|42116|              1.0|         0.0|         1.0|         1.0|      1|     1|     1|     1|      1|    true|\n",
      "|42413|48491|              1.0|         0.0|         1.0|         0.0|      1|     1|     1|     1|      1|    true|\n",
      "|25965|64753|              1.0|         0.0|         1.0|         0.0|      1|     1|     1|     1|      1|    true|\n",
      "|49451|90407|              1.0|         0.0|         1.0|         0.0|      1|     1|     1|     1|      0|    true|\n",
      "|39932|40902|              1.0|         0.0|         1.0|         0.0|      1|     1|     1|     1|      1|    true|\n",
      "|46626|47940|              1.0|         0.0|         1.0|         0.0|      1|     1|     1|     1|      1|    true|\n",
      "|48948|98379|              1.0|         0.0|         1.0|         0.0|      1|     1|     1|     1|      1|    true|\n",
      "| 4767| 4826|              1.0|         0.0|         1.0|         0.0|      1|     1|     1|     1|      1|    true|\n",
      "|45463|69659|              1.0|         0.0|         1.0|         0.0|      1|     1|     1|     1|      1|    true|\n",
      "|11367|13169|              1.0|         0.0|         1.0|         0.0|      1|     1|     1|     1|      1|    true|\n",
      "|10782|89636|              1.0|         0.0|         1.0|         0.0|      1|     0|     1|     1|      1|    true|\n",
      "|26206|39147|              1.0|         0.0|         1.0|         0.0|      1|     1|     1|     1|      1|    true|\n",
      "|16662|27083|              1.0|         1.0|         1.0|         0.0|      1|     1|     1|     1|      1|    true|\n",
      "|18823|30204|              1.0|         1.0|         1.0|         0.0|      1|     1|     1|     1|      1|    true|\n",
      "|38545|85418|              1.0|         0.0|         1.0|         0.0|      1|     1|     1|     1|      1|    true|\n",
      "|28963|39172|              1.0|         0.0|         1.0|         0.0|      1|     1|     1|     1|      1|    true|\n",
      "+-----+-----+-----------------+------------+------------+------------+-------+------+------+------+-------+--------+\n",
      "only showing top 20 rows\n",
      "\n"
     ]
    }
   ],
   "source": [
    "prev = prev.fillna(0)\n",
    "prev.show()"
   ]
  },
  {
   "cell_type": "code",
   "execution_count": null,
   "metadata": {},
   "outputs": [],
   "source": []
  },
  {
   "cell_type": "code",
   "execution_count": 6,
   "metadata": {},
   "outputs": [],
   "source": [
    "from pyspark.sql import SparkSession\n",
    "from pyspark.ml.feature import VectorAssembler, BucketedRandomProjectionLSH\n",
    "from pyspark.ml.linalg import Vectors\n",
    "from pyspark.sql.functions import col\n"
   ]
  },
  {
   "cell_type": "code",
   "execution_count": null,
   "metadata": {},
   "outputs": [],
   "source": [
    "\n"
   ]
  },
  {
   "cell_type": "code",
   "execution_count": null,
   "metadata": {},
   "outputs": [],
   "source": [
    "feature_cols = [\"cmp_fname_c1\", \"cmp_fname_c2\", \"cmp_lname_c1\", \"cmp_lname_c2\",\n",
    "                \"cmp_sex\", \"cmp_bd\", \"cmp_bm\", \"cmp_by\", \"cmp_plz\"]\n",
    "\n",
    "# Assemble feature vectors\n",
    "assembler = VectorAssembler(inputCols=feature_cols, outputCol=\"features\")\n",
    "df = assembler.transform(prev)\n",
    "\n",
    "# Create a Bucketed Random Projection LSH model\n",
    "brp = BucketedRandomProjectionLSH(inputCol=\"features\", outputCol=\"hashes\", seed=42, numHashTables=5, bucketLength=1.0)\n",
    "model = brp.fit(df)\n",
    "\n",
    "# Transform the data to get hash values\n",
    "hashed_data = model.transform(df)\n",
    "\n",
    "# Self-join to find cosine similarity\n",
    "similarity_df = model.approxSimilarityJoin(hashed_data, hashed_data, threshold=0.6, distCol=\"cosineSimilarity\")\n",
    "\n",
    "# Filter for positive matches\n",
    "matches = similarity_df.filter(col(\"datasetA.id_1\") < col(\"datasetB.id_1\"))\n",
    "\n",
    "# Show the result\n",
    "matches.select(\"datasetA.id_1\", \"datasetA.id_2\", \"datasetB.id_1\", \"datasetB.id_2\", \"cosineSimilarity\").show(truncate=False)\n"
   ]
  },
  {
   "cell_type": "code",
   "execution_count": 13,
   "metadata": {},
   "outputs": [
    {
     "data": {
      "text/plain": [
       "<bound method SparkSession.stop of <pyspark.sql.session.SparkSession object at 0x7f3d6e9e1ef0>>"
      ]
     },
     "execution_count": 13,
     "metadata": {},
     "output_type": "execute_result"
    }
   ],
   "source": [
    "spark.stop"
   ]
  },
  {
   "cell_type": "code",
   "execution_count": null,
   "metadata": {},
   "outputs": [],
   "source": []
  },
  {
   "cell_type": "code",
   "execution_count": null,
   "metadata": {},
   "outputs": [],
   "source": []
  },
  {
   "cell_type": "code",
   "execution_count": null,
   "metadata": {},
   "outputs": [],
   "source": []
  },
  {
   "cell_type": "code",
   "execution_count": null,
   "metadata": {},
   "outputs": [],
   "source": []
  }
 ],
 "metadata": {
  "kernelspec": {
   "display_name": "Python 3",
   "language": "python",
   "name": "python3"
  },
  "language_info": {
   "codemirror_mode": {
    "name": "ipython",
    "version": 3
   },
   "file_extension": ".py",
   "mimetype": "text/x-python",
   "name": "python",
   "nbconvert_exporter": "python",
   "pygments_lexer": "ipython3",
   "version": "3.7.0"
  }
 },
 "nbformat": 4,
 "nbformat_minor": 2
}
