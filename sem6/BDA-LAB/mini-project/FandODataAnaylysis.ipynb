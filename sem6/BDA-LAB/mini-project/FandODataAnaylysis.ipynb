{
 "cells": [
  {
   "cell_type": "code",
   "execution_count": 1,
   "metadata": {},
   "outputs": [],
   "source": [
    "import pyspark\n",
    "from pyspark import SparkContext, SparkConf\n",
    "from pyspark.sql import SparkSession\n",
    "from pyspark.ml.feature import VectorAssembler\n",
    "from pyspark.ml.classification import MultilayerPerceptronClassifier\n",
    "from pyspark.ml.evaluation import MulticlassClassificationEvaluator\n",
    "from pyspark.ml.evaluation import RegressionEvaluator\n"
   ]
  },
  {
   "cell_type": "markdown",
   "metadata": {},
   "source": [
    "https://www.kaggle.com/datasets/tanay001/nseindia-futures-options-daily/data"
   ]
  },
  {
   "cell_type": "code",
   "execution_count": 2,
   "metadata": {},
   "outputs": [
    {
     "name": "stderr",
     "output_type": "stream",
     "text": [
      "/home/lplab/anaconda3/lib/python3.7/site-packages/pyspark/context.py:317: FutureWarning: Python 3.7 support is deprecated in Spark 3.4.\n",
      "  warnings.warn(\"Python 3.7 support is deprecated in Spark 3.4.\", FutureWarning)\n"
     ]
    }
   ],
   "source": [
    "from pyspark.sql import SparkSession\n",
    "from pyspark.sql.functions import col\n",
    "\n",
    "spark = SparkSession.builder.config('spark.driver.memory', '10g').appName('Future and Option Data Analysis').getOrCreate()\n"
   ]
  },
  {
   "cell_type": "code",
   "execution_count": 5,
   "metadata": {},
   "outputs": [],
   "source": [
    "\n",
    "# Load your dataset\n",
    "data = spark.read.csv(\"fobhav.csv\", header=True, inferSchema=True)\n",
    "\n",
    "## Filter rows where INSTRUMENT is FUTIDX\n",
    "#futures_data = data.filter(data['INSTRUMENT'] == 'FUTIDX')\n",
    "\n",
    "## Show the filtered data\n",
    "#futures_data.show()\n",
    "\n",
    "\n"
   ]
  },
  {
   "cell_type": "code",
   "execution_count": 12,
   "metadata": {},
   "outputs": [
    {
     "name": "stdout",
     "output_type": "stream",
     "text": [
      "['GODREJCP' 'LT' 'ICICIBANK' 'L&TFH' 'IDEA' 'TITAN' 'MINDTREE'\n",
      " 'TORNTPOWER' 'SRTRANSFIN' 'IBULHSGFIN' 'BOSCHLTD' 'MANAPPURAM' 'PETRONET'\n",
      " 'PFC' 'DIVISLAB' 'SAIL' 'EXIDEIND' 'HDFCBANK' 'EQUITAS' 'CIPLA'\n",
      " 'AUROPHARMA' 'MFSL' 'CENTURYTEX' 'BHARATFORG' 'MRF' 'HINDALCO' 'SBILIFE'\n",
      " 'ZEEL' 'ACC' 'BAJAJ-AUTO' 'BALKRISIND' 'INFY' 'BATAINDIA' 'M&M' 'IGL'\n",
      " 'POWERGRID' 'ONGC' 'PNB' 'ASHOKLEY' 'NATIONALUM' 'ADANIPORTS'\n",
      " 'APOLLOHOSP' 'HDFC' 'M&MFIN' 'AMBUJACEM' 'CUMMINSIND' 'UBL' 'RAMCOCEM'\n",
      " 'BAJFINANCE' 'SIEMENS' 'VOLTAS' 'SRF' 'HAVELLS' 'BPCL' 'TATACONSUM'\n",
      " 'EICHERMOT' 'HINDPETRO' 'HINDUNILVR' 'ASIANPAINT' 'MOTHERSUMI'\n",
      " 'MUTHOOTFIN' 'NAUKRI' 'BHEL' 'NCC' 'NTPC' 'RELIANCE' 'NMDC' 'TATAPOWER'\n",
      " 'COFORGE' 'TVSMOTOR' 'DABUR' 'DLF' 'MARUTI' 'UPL' 'LICHSGFIN' 'NESTLEIND'\n",
      " 'TECHM' 'CONCOR' 'UJJIVAN' 'INDIGO' 'MCDOWELL-N' 'SUNPHARMA' 'COLPAL'\n",
      " 'MARICO' 'PVR' 'BHARTIARTL' 'PAGEIND' 'COALINDIA' 'ADANIENT' 'TORNTPHARM'\n",
      " 'RECLTD' 'TCS' 'CHOLAFIN' 'RBLBANK' 'INDUSINDBK' 'BANDHANBNK'\n",
      " 'FEDERALBNK' 'HDFCLIFE' 'GRASIM' 'SHREECEM' 'LUPIN' 'TATAMOTORS' 'SBIN'\n",
      " 'ULTRACEMCO' 'WIPRO' 'VEDL' 'BERGEPAINT' 'DRREDDY' 'IDFCFIRSTB'\n",
      " 'BANKBARODA' 'MGL' 'AXISBANK' 'SUNTV' 'TATASTEEL' 'BAJAJFINSV'\n",
      " 'BRITANNIA' 'BIOCON' 'APOLLOTYRE' 'ESCORTS' 'IOC' 'AMARAJABAT'\n",
      " 'GODREJPROP' 'JUSTDIAL' 'GMRINFRA' 'GLENMARK' 'ICICIPRULI' 'JINDALSTEL'\n",
      " 'PEL' 'CANBK' 'GAIL' 'JSWSTEEL' 'BEL' 'CADILAHC' 'INFRATEL' 'KOTAKBANK'\n",
      " 'HEROMOTOCO' 'JUBLFOOD' 'PIDILITIND' 'ITC' 'TATACHEM' 'HCLTECH'\n",
      " 'NIITTECH' 'ADANIPOWER' 'YESBANK' 'CESC' 'OIL' 'NBCC' 'DISHTV'\n",
      " 'TATAGLOBAL' 'CASTROLIND' 'TATAMTRDVR' 'HEXAWARE' 'BANKINDIA' 'TATAELXSI'\n",
      " 'UNIONBANK' 'STAR' 'ENGINERSIN' 'ARVIND' 'OFSS' 'IDBI' 'HINDZINC'\n",
      " 'RELINFRA' 'MCX' 'KAJARIACER' 'RELCAPITAL' 'BSOFT' 'RAYMOND' 'DHFL'\n",
      " 'CANFINHOME' 'JETAIRWAYS' 'KTKBANK' 'CHENNPETRO' 'TV18BRDCST'\n",
      " 'WOCKPHARMA' 'VGUARD' 'ALBK' 'TATACOMM' 'AJANTPHARM' 'GODREJIND'\n",
      " 'CGPOWER' 'PCJEWELLER' 'IRB' 'BHARATFIN' 'BEML' 'IDFC' 'SYNDIBANK'\n",
      " 'INDIACEM' 'DCBBANK' 'SUZLON' 'NHPC' 'MRPL' 'JISLJALEQS' 'REPCOHOME'\n",
      " 'GODFRYPHLP' 'ORIENTBANK' 'KSCL' 'GSFC' 'CEATLTD' 'IFCI' 'INDIANB'\n",
      " 'INFIBEAM' 'SOUTHBANK' 'RPOWER' 'JPASSOCIAT' 'RCOM' 'SREINFRA' 'PTC'\n",
      " 'IDFCBANK' 'KPIT' 'HCC' 'GRANULES' 'DALMIABHA' 'CAPF' 'ANDHRABANK'\n",
      " 'BALRAMCHIN' 'RNAVAL' 'FORTIS' 'HDIL' 'JSWENERGY' 'ICIL' 'IBREALEST'\n",
      " 'RDEL' 'SINTEX' 'ABIRLANUVO' 'CAIRN' 'CROMPGREAV' 'MCLEODRUSS' 'UCOBANK'\n",
      " 'IOB' 'SKSMICRO' 'UNITECH' 'JPPOWER' 'AMTEKAUTO' 'SSLT' 'RANBAXY'\n",
      " 'GSKCONS' 'FRL' 'DENABANK' 'VIJAYABANK' 'GSPL' 'SESAGOA' 'CHAMBLFERT'\n",
      " 'PUNJLLOYD' 'INDHOTEL' 'OPTOCIRCUI' 'FINANTECH' 'UNIPHOS' 'RENUKA' 'STER'\n",
      " 'IVRCLINFRA' 'PANTALOONR' 'BHUSANSTL' 'GVKPIL' 'WELCORP' 'ABB'\n",
      " 'GUJFLUORO' 'MPHASIS' 'ALOKTEXT' 'RUCHISOYA' 'HINDOILEXP' 'LITL'\n",
      " 'JINDALSAW' 'GMDCLTD' 'NAGAROIL' 'SOBHA' 'ABAN' 'COREEDUTEC' 'CENTRALBK'\n",
      " 'EDUCOMP' 'POLARIS' 'MTNL' 'TTKPRESTIG' 'TTML' 'BOMDYEING' 'SCI'\n",
      " 'STRTECH' 'VIPIND' 'AIL' 'VIDEOIND' 'GLAXO' 'BGRENERGY' 'JSWISPAT'\n",
      " 'ONMOBILE' 'BAJAJHLDNG' 'DELTACORP' 'INDIAINFO' 'ORCHIDCHEM' 'PRAJIND'\n",
      " 'MAX' 'SKUMARSYNF' 'TATACOFFEE' 'BAJAJHIND' 'PIRHEALTH' 'ROLTA'\n",
      " 'ESSAROIL' 'DCB' 'PATELENG' 'BFUTILITIE' 'GESHIP' 'BRFL' 'ABGSHIP' 'APIL'\n",
      " 'ALSTOMT&D' 'MERCATOR' 'EKC' 'DHANBANK' 'DCHL' 'PATNI' 'HOTELEELA'\n",
      " 'KSOILS' 'KFA' 'JINDALSWHL' 'MUNDRAPORT' 'AREVAT&D' 'GITANJALI'\n",
      " 'GTOFFSHORE' 'NEYVELILIG' 'TULIP' '3IINFOTECH' 'MLL' 'FSL' 'TRIVENI'\n",
      " 'GTLINFRA' 'NAGARFERT' 'MOSERBAER' 'COREPROTEC' 'GTL' 'ISPATIND'\n",
      " 'HEROHONDA' 'TV-18' 'ORBITCORP' 'INFOSYSTCH' 'RELMEDIA' 'STERLINBIO'\n",
      " 'NAGARCONST' 'NOIDATOLL' 'ICSA' 'RNRL' 'TATATEA' 'SAMRUDDHI' 'WELGUJ'\n",
      " 'JPHYDRO' 'ADLABSFILM' 'JSL' 'RPL' 'MAHSEAMLES' 'SREINTFIN' 'KESORAMIND'\n",
      " 'EVERONN' 'EDELWEISS' 'NIITLTD' 'THERMAX' 'RIIL' 'APTECHT' 'NETWORK18'\n",
      " 'BIRLACORPN' 'KSK' 'UTVSOF' 'HCL-INSYS' 'PENINLAND' 'NDTV' 'MAHLIFE'\n",
      " 'GUJALKALI' 'MONNETISPA' 'BALLARPUR' 'LAXMIMACH' 'NBVENTURES' 'CORPBANK'\n",
      " 'GNFC' 'RAJESHEXPO' 'GDL' 'BALAJITELE' 'VOLTAMP' 'MATRIXLABS'\n",
      " 'WALCHANNAG' 'AKRUTI' 'PRISMCEM' 'J&KBANK' 'PURVA' 'BINDALAGRO'\n",
      " 'ANSALINFRA' 'PARSVNATH' 'BONGAIREFN' 'BRIGADE' 'MIC' 'SATYAMCOMP'\n",
      " 'REDINGTON' 'CMC' 'AIAENG' 'IVRPRIME' 'IBN18' 'NUCLEUS' 'OMAXE' 'WWIL'\n",
      " 'KLGSYSTEL' 'JSTAINLESS' 'HINDUJAVEN' 'AIRDECCAN' 'BIRLAJUTE' 'SASKEN'\n",
      " 'HTMTGLOBAL' 'ARVINDMILL' 'I-FLEX' 'REL' 'NICOLASPIR' 'GBN' 'MICO'\n",
      " 'BAJAJAUTO' 'VSNL' 'BILT' 'HINDUJATMT' 'IPCL' 'GESCOCORP' 'STROPTICAL'\n",
      " 'COLGATE' 'GUJAMBCEM' 'UTIBANK' 'HINDALC0' 'HINDLEVER' 'ZEETELE' 'HTMT'\n",
      " 'GESHIPPING' 'COCHINREFN' 'MPHASISBFL' 'BHARTI' 'VDOCONINTL' 'NIPPONDENR'\n",
      " 'KIRLOSKCUM' 'TISCO' 'PFIZER' 'INDRAYON' 'NIIT' 'BSES' 'MASTEK' 'L&T'\n",
      " 'DIGITALEQP' 'TELCO' 'RELPETRO' 'ICICI']\n"
     ]
    }
   ],
   "source": [
    "import numpy as np\n",
    "all_options = np.array(data.filter(data['INSTRUMENT'] == 'OPTSTK').select('SYMBOL').distinct().collect()).tolist()\n",
    "#print all the different stock names\n",
    "all_option_1d_array = np.reshape(all_options,(1,-1))\n",
    "all_option_1d_array = all_option_1d_array[0]\n",
    "print(all_option_1d_array)"
   ]
  },
  {
   "cell_type": "code",
   "execution_count": null,
   "metadata": {},
   "outputs": [],
   "source": []
  },
  {
   "cell_type": "code",
   "execution_count": 13,
   "metadata": {},
   "outputs": [
    {
     "ename": "AttributeError",
     "evalue": "'list' object has no attribute 'show'",
     "output_type": "error",
     "traceback": [
      "\u001b[0;31m---------------------------------------------------------------------------\u001b[0m",
      "\u001b[0;31mAttributeError\u001b[0m                            Traceback (most recent call last)",
      "\u001b[0;32m<ipython-input-13-11c0b91f0915>\u001b[0m in \u001b[0;36m<module>\u001b[0;34m()\u001b[0m\n\u001b[1;32m      1\u001b[0m \u001b[0moption_data_LT\u001b[0m \u001b[0;34m=\u001b[0m \u001b[0mdata\u001b[0m\u001b[0;34m.\u001b[0m\u001b[0mfilter\u001b[0m\u001b[0;34m(\u001b[0m\u001b[0;34m(\u001b[0m\u001b[0mdata\u001b[0m\u001b[0;34m[\u001b[0m\u001b[0;34m'SYMBOL'\u001b[0m\u001b[0;34m]\u001b[0m \u001b[0;34m==\u001b[0m \u001b[0;34m'LT'\u001b[0m\u001b[0;34m)\u001b[0m \u001b[0;34m&\u001b[0m \u001b[0;34m(\u001b[0m\u001b[0mdata\u001b[0m\u001b[0;34m[\u001b[0m\u001b[0;34m'INSTRUMENT'\u001b[0m\u001b[0;34m]\u001b[0m \u001b[0;34m==\u001b[0m \u001b[0;34m'OPTSTK'\u001b[0m\u001b[0;34m)\u001b[0m\u001b[0;34m)\u001b[0m\u001b[0;34m.\u001b[0m\u001b[0mcollect\u001b[0m\u001b[0;34m(\u001b[0m\u001b[0;34m)\u001b[0m\u001b[0;34m\u001b[0m\u001b[0m\n\u001b[0;32m----> 2\u001b[0;31m \u001b[0moption_data_LT\u001b[0m\u001b[0;34m.\u001b[0m\u001b[0mshow\u001b[0m\u001b[0;34m(\u001b[0m\u001b[0;34m)\u001b[0m\u001b[0;34m\u001b[0m\u001b[0m\n\u001b[0m",
      "\u001b[0;31mAttributeError\u001b[0m: 'list' object has no attribute 'show'"
     ]
    }
   ],
   "source": [
    "option_data_LT = data.filter((data['SYMBOL'] == 'LT') & (data['INSTRUMENT'] == 'OPTSTK')).collect()"
   ]
  },
  {
   "cell_type": "code",
   "execution_count": 16,
   "metadata": {},
   "outputs": [
    {
     "data": {
      "text/plain": [
       "633054"
      ]
     },
     "execution_count": 16,
     "metadata": {},
     "output_type": "execute_result"
    }
   ],
   "source": [
    "len(option_data_LT)"
   ]
  },
  {
   "cell_type": "code",
   "execution_count": 17,
   "metadata": {},
   "outputs": [
    {
     "data": {
      "text/plain": [
       "list"
      ]
     },
     "execution_count": 17,
     "metadata": {},
     "output_type": "execute_result"
    }
   ],
   "source": [
    "type(option_data_LT)"
   ]
  },
  {
   "cell_type": "code",
   "execution_count": 18,
   "metadata": {},
   "outputs": [],
   "source": [
    "import csv\n",
    "header = ['Column1', 'Column2', 'Column3']\n",
    "with open('lt_option.csv','w') as f:\n",
    "    writer = csv.writer(f)\n",
    "    writer.writerows(option_data_LT)\n",
    "    "
   ]
  },
  {
   "cell_type": "code",
   "execution_count": 10,
   "metadata": {},
   "outputs": [
    {
     "data": {
      "text/plain": [
       "643420"
      ]
     },
     "execution_count": 10,
     "metadata": {},
     "output_type": "execute_result"
    }
   ],
   "source": [
    "option_data_LT.count()"
   ]
  },
  {
   "cell_type": "code",
   "execution_count": 4,
   "metadata": {},
   "outputs": [
    {
     "data": {
      "text/plain": [
       "94010"
      ]
     },
     "execution_count": 4,
     "metadata": {},
     "output_type": "execute_result"
    }
   ],
   "source": [
    "for name in all_option_1d_array"
   ]
  },
  {
   "cell_type": "code",
   "execution_count": 5,
   "metadata": {},
   "outputs": [],
   "source": [
    "from pyspark.sql.functions import col\n",
    "\n",
    "# Assuming futures_data is your DataFrame\n",
    "futures_data = futures_data.withColumn(\"SETTLE_PR\", col(\"SETTLE_PR\").cast(\"double\"))\n"
   ]
  },
  {
   "cell_type": "code",
   "execution_count": 6,
   "metadata": {},
   "outputs": [
    {
     "name": "stdout",
     "output_type": "stream",
     "text": [
      "root\n",
      " |-- INSTRUMENT: string (nullable = true)\n",
      " |-- SYMBOL: string (nullable = true)\n",
      " |-- EXPIRY_DT: string (nullable = true)\n",
      " |-- STRIKE_PR: string (nullable = true)\n",
      " |-- OPTION_TYP: string (nullable = true)\n",
      " |-- OPEN: string (nullable = true)\n",
      " |-- HIGH: string (nullable = true)\n",
      " |-- LOW: string (nullable = true)\n",
      " |-- CLOSE: string (nullable = true)\n",
      " |-- SETTLE_PR: double (nullable = true)\n",
      " |-- CONTRACTS: string (nullable = true)\n",
      " |-- VAL_INLAKH: string (nullable = true)\n",
      " |-- OPEN_INT: string (nullable = true)\n",
      " |-- CHG_IN_OI: string (nullable = true)\n",
      " |-- TIMESTAMP: string (nullable = true)\n",
      " |-- Unnamed: 15: string (nullable = true)\n",
      "\n"
     ]
    }
   ],
   "source": [
    "futures_data.printSchema()"
   ]
  },
  {
   "cell_type": "markdown",
   "metadata": {},
   "source": [
    "##### Now clean the FUTIDX data frame where the option type is xx"
   ]
  },
  {
   "cell_type": "code",
   "execution_count": 7,
   "metadata": {},
   "outputs": [
    {
     "name": "stdout",
     "output_type": "stream",
     "text": [
      "-RECORD 0------------------\n",
      " INSTRUMENT  | FUTIDX      \n",
      " SYMBOL      | BANKNIFTY   \n",
      " EXPIRY_DT   | 24-Sep-2020 \n",
      " STRIKE_PR   | 0.0         \n",
      " OPTION_TYP  | XX          \n",
      " OPEN        | 24900.05    \n",
      " HIGH        | 25270.0     \n",
      " LOW         | 23371.0     \n",
      " CLOSE       | 23743.0     \n",
      " SETTLE_PR   | 23743.0     \n",
      " CONTRACTS   | 504222      \n",
      " VAL_INLAKH  | 3051593.27  \n",
      " OPEN_INT    | 1432850     \n",
      " CHG_IN_OI   | -54500      \n",
      " TIMESTAMP   | 31-AUG-2020 \n",
      " Unnamed: 15 | null        \n",
      "-RECORD 1------------------\n",
      " INSTRUMENT  | FUTIDX      \n",
      " SYMBOL      | BANKNIFTY   \n",
      " EXPIRY_DT   | 29-Oct-2020 \n",
      " STRIKE_PR   | 0.0         \n",
      " OPTION_TYP  | XX          \n",
      " OPEN        | 24937.55    \n",
      " HIGH        | 25315.9     \n",
      " LOW         | 23391.9     \n",
      " CLOSE       | 23770.1     \n",
      " SETTLE_PR   | 23770.1     \n",
      " CONTRACTS   | 10630       \n",
      " VAL_INLAKH  | 64526.57    \n",
      " OPEN_INT    | 91375       \n",
      " CHG_IN_OI   | 19325       \n",
      " TIMESTAMP   | 31-AUG-2020 \n",
      " Unnamed: 15 | null        \n",
      "-RECORD 2------------------\n",
      " INSTRUMENT  | FUTIDX      \n",
      " SYMBOL      | BANKNIFTY   \n",
      " EXPIRY_DT   | 26-Nov-2020 \n",
      " STRIKE_PR   | 0.0         \n",
      " OPTION_TYP  | XX          \n",
      " OPEN        | 24989.95    \n",
      " HIGH        | 25280.75    \n",
      " LOW         | 23437.15    \n",
      " CLOSE       | 23766.2     \n",
      " SETTLE_PR   | 23766.2     \n",
      " CONTRACTS   | 1171        \n",
      " VAL_INLAKH  | 7088.68     \n",
      " OPEN_INT    | 14400       \n",
      " CHG_IN_OI   | 8400        \n",
      " TIMESTAMP   | 31-AUG-2020 \n",
      " Unnamed: 15 | null        \n",
      "-RECORD 3------------------\n",
      " INSTRUMENT  | FUTIDX      \n",
      " SYMBOL      | NIFTY       \n",
      " EXPIRY_DT   | 24-Sep-2020 \n",
      " STRIKE_PR   | 0.0         \n",
      " OPTION_TYP  | XX          \n",
      " OPEN        | 11764.9     \n",
      " HIGH        | 11794.45    \n",
      " LOW         | 11350.5     \n",
      " CLOSE       | 11401.95    \n",
      " SETTLE_PR   | 11401.95    \n",
      " CONTRACTS   | 314090      \n",
      " VAL_INLAKH  | 2722114.47  \n",
      " OPEN_INT    | 11209650    \n",
      " CHG_IN_OI   | -1007775    \n",
      " TIMESTAMP   | 31-AUG-2020 \n",
      " Unnamed: 15 | null        \n",
      "-RECORD 4------------------\n",
      " INSTRUMENT  | FUTIDX      \n",
      " SYMBOL      | NIFTY       \n",
      " EXPIRY_DT   | 29-Oct-2020 \n",
      " STRIKE_PR   | 0.0         \n",
      " OPTION_TYP  | XX          \n",
      " OPEN        | 11765.6     \n",
      " HIGH        | 11804.3     \n",
      " LOW         | 11368.0     \n",
      " CLOSE       | 11430.5     \n",
      " SETTLE_PR   | 11430.5     \n",
      " CONTRACTS   | 8666        \n",
      " VAL_INLAKH  | 75149.14    \n",
      " OPEN_INT    | 536250      \n",
      " CHG_IN_OI   | 47925       \n",
      " TIMESTAMP   | 31-AUG-2020 \n",
      " Unnamed: 15 | null        \n",
      "-RECORD 5------------------\n",
      " INSTRUMENT  | FUTIDX      \n",
      " SYMBOL      | NIFTY       \n",
      " EXPIRY_DT   | 26-Nov-2020 \n",
      " STRIKE_PR   | 0.0         \n",
      " OPTION_TYP  | XX          \n",
      " OPEN        | 11789.0     \n",
      " HIGH        | 11814.95    \n",
      " LOW         | 11380.1     \n",
      " CLOSE       | 11426.95    \n",
      " SETTLE_PR   | 11426.95    \n",
      " CONTRACTS   | 1051        \n",
      " VAL_INLAKH  | 9127.75     \n",
      " OPEN_INT    | 37050       \n",
      " CHG_IN_OI   | 19575       \n",
      " TIMESTAMP   | 31-AUG-2020 \n",
      " Unnamed: 15 | null        \n",
      "-RECORD 6------------------\n",
      " INSTRUMENT  | FUTIDX      \n",
      " SYMBOL      | BANKNIFTY   \n",
      " EXPIRY_DT   | 24-Sep-2020 \n",
      " STRIKE_PR   | 0.0         \n",
      " OPTION_TYP  | XX          \n",
      " OPEN        | 23679.9     \n",
      " HIGH        | 24658.7     \n",
      " LOW         | 23601.5     \n",
      " CLOSE       | 24539.35    \n",
      " SETTLE_PR   | 24539.35    \n",
      " CONTRACTS   | 338932      \n",
      " VAL_INLAKH  | 2051998.73  \n",
      " OPEN_INT    | 1487350     \n",
      " CHG_IN_OI   | 214250      \n",
      " TIMESTAMP   | 28-AUG-2020 \n",
      " Unnamed: 15 | null        \n",
      "-RECORD 7------------------\n",
      " INSTRUMENT  | FUTIDX      \n",
      " SYMBOL      | BANKNIFTY   \n",
      " EXPIRY_DT   | 29-Oct-2020 \n",
      " STRIKE_PR   | 0.0         \n",
      " OPTION_TYP  | XX          \n",
      " OPEN        | 23562.75    \n",
      " HIGH        | 24650.0     \n",
      " LOW         | 23562.75    \n",
      " CLOSE       | 24543.2     \n",
      " SETTLE_PR   | 24543.2     \n",
      " CONTRACTS   | 6294        \n",
      " VAL_INLAKH  | 38105.29    \n",
      " OPEN_INT    | 72050       \n",
      " CHG_IN_OI   | 22825       \n",
      " TIMESTAMP   | 28-AUG-2020 \n",
      " Unnamed: 15 | null        \n",
      "-RECORD 8------------------\n",
      " INSTRUMENT  | FUTIDX      \n",
      " SYMBOL      | BANKNIFTY   \n",
      " EXPIRY_DT   | 26-Nov-2020 \n",
      " STRIKE_PR   | 0.0         \n",
      " OPTION_TYP  | XX          \n",
      " OPEN        | 23724.05    \n",
      " HIGH        | 24650.0     \n",
      " LOW         | 23000.0     \n",
      " CLOSE       | 24537.0     \n",
      " SETTLE_PR   | 24537.0     \n",
      " CONTRACTS   | 712         \n",
      " VAL_INLAKH  | 4323.63     \n",
      " OPEN_INT    | 6000        \n",
      " CHG_IN_OI   | 6000        \n",
      " TIMESTAMP   | 28-AUG-2020 \n",
      " Unnamed: 15 | null        \n",
      "-RECORD 9------------------\n",
      " INSTRUMENT  | FUTIDX      \n",
      " SYMBOL      | NIFTY       \n",
      " EXPIRY_DT   | 24-Sep-2020 \n",
      " STRIKE_PR   | 0.0         \n",
      " OPTION_TYP  | XX          \n",
      " OPEN        | 11633.6     \n",
      " HIGH        | 11698.0     \n",
      " LOW         | 11602.0     \n",
      " CLOSE       | 11675.25    \n",
      " SETTLE_PR   | 11675.25    \n",
      " CONTRACTS   | 151946      \n",
      " VAL_INLAKH  | 1327755.59  \n",
      " OPEN_INT    | 12217425    \n",
      " CHG_IN_OI   | 495975      \n",
      " TIMESTAMP   | 28-AUG-2020 \n",
      " Unnamed: 15 | null        \n",
      "-RECORD 10-----------------\n",
      " INSTRUMENT  | FUTIDX      \n",
      " SYMBOL      | NIFTY       \n",
      " EXPIRY_DT   | 29-Oct-2020 \n",
      " STRIKE_PR   | 0.0         \n",
      " OPTION_TYP  | XX          \n",
      " OPEN        | 11630.0     \n",
      " HIGH        | 11708.0     \n",
      " LOW         | 11617.05    \n",
      " CLOSE       | 11689.05    \n",
      " SETTLE_PR   | 11689.05    \n",
      " CONTRACTS   | 3475        \n",
      " VAL_INLAKH  | 30406.45    \n",
      " OPEN_INT    | 488325      \n",
      " CHG_IN_OI   | 47850       \n",
      " TIMESTAMP   | 28-AUG-2020 \n",
      " Unnamed: 15 | null        \n",
      "-RECORD 11-----------------\n",
      " INSTRUMENT  | FUTIDX      \n",
      " SYMBOL      | NIFTY       \n",
      " EXPIRY_DT   | 26-Nov-2020 \n",
      " STRIKE_PR   | 0.0         \n",
      " OPTION_TYP  | XX          \n",
      " OPEN        | 11640.2     \n",
      " HIGH        | 11712.65    \n",
      " LOW         | 11628.7     \n",
      " CLOSE       | 11697.1     \n",
      " SETTLE_PR   | 11697.1     \n",
      " CONTRACTS   | 471         \n",
      " VAL_INLAKH  | 4123.51     \n",
      " OPEN_INT    | 17475       \n",
      " CHG_IN_OI   | 17475       \n",
      " TIMESTAMP   | 28-AUG-2020 \n",
      " Unnamed: 15 | null        \n",
      "-RECORD 12-----------------\n",
      " INSTRUMENT  | FUTIDX      \n",
      " SYMBOL      | BANKNIFTY   \n",
      " EXPIRY_DT   | 27-Aug-2020 \n",
      " STRIKE_PR   | 0.0         \n",
      " OPTION_TYP  | XX          \n",
      " OPEN        | 23490.0     \n",
      " HIGH        | 23716.15    \n",
      " LOW         | 23473.5     \n",
      " CLOSE       | 23611.4     \n",
      " SETTLE_PR   | 23600.35    \n",
      " CONTRACTS   | 160721      \n",
      " VAL_INLAKH  | 949102.15   \n",
      " OPEN_INT    | 374975      \n",
      " CHG_IN_OI   | -474650     \n",
      " TIMESTAMP   | 27-AUG-2020 \n",
      " Unnamed: 15 | null        \n",
      "-RECORD 13-----------------\n",
      " INSTRUMENT  | FUTIDX      \n",
      " SYMBOL      | BANKNIFTY   \n",
      " EXPIRY_DT   | 24-Sep-2020 \n",
      " STRIKE_PR   | 0.0         \n",
      " OPTION_TYP  | XX          \n",
      " OPEN        | 23535.05    \n",
      " HIGH        | 23671.0     \n",
      " LOW         | 23436.25    \n",
      " CLOSE       | 23602.0     \n",
      " SETTLE_PR   | 23602.0     \n",
      " CONTRACTS   | 95524       \n",
      " VAL_INLAKH  | 563547.74   \n",
      " OPEN_INT    | 1273100     \n",
      " CHG_IN_OI   | 316325      \n",
      " TIMESTAMP   | 27-AUG-2020 \n",
      " Unnamed: 15 | null        \n",
      "-RECORD 14-----------------\n",
      " INSTRUMENT  | FUTIDX      \n",
      " SYMBOL      | BANKNIFTY   \n",
      " EXPIRY_DT   | 29-Oct-2020 \n",
      " STRIKE_PR   | 0.0         \n",
      " OPTION_TYP  | XX          \n",
      " OPEN        | 23517.15    \n",
      " HIGH        | 23660.0     \n",
      " LOW         | 23516.2     \n",
      " CLOSE       | 23590.75    \n",
      " SETTLE_PR   | 23590.75    \n",
      " CONTRACTS   | 1907        \n",
      " VAL_INLAKH  | 11249.65    \n",
      " OPEN_INT    | 49225       \n",
      " CHG_IN_OI   | 16550       \n",
      " TIMESTAMP   | 27-AUG-2020 \n",
      " Unnamed: 15 | null        \n",
      "-RECORD 15-----------------\n",
      " INSTRUMENT  | FUTIDX      \n",
      " SYMBOL      | NIFTY       \n",
      " EXPIRY_DT   | 27-Aug-2020 \n",
      " STRIKE_PR   | 0.0         \n",
      " OPTION_TYP  | XX          \n",
      " OPEN        | 11590.1     \n",
      " HIGH        | 11608.1     \n",
      " LOW         | 11547.0     \n",
      " CLOSE       | 11560.55    \n",
      " SETTLE_PR   | 11559.25    \n",
      " CONTRACTS   | 109982      \n",
      " VAL_INLAKH  | 955212.42   \n",
      " OPEN_INT    | 3055050     \n",
      " CHG_IN_OI   | -1689900    \n",
      " TIMESTAMP   | 27-AUG-2020 \n",
      " Unnamed: 15 | null        \n",
      "-RECORD 16-----------------\n",
      " INSTRUMENT  | FUTIDX      \n",
      " SYMBOL      | NIFTY       \n",
      " EXPIRY_DT   | 24-Sep-2020 \n",
      " STRIKE_PR   | 0.0         \n",
      " OPTION_TYP  | XX          \n",
      " OPEN        | 11577.8     \n",
      " HIGH        | 11622.95    \n",
      " LOW         | 11561.25    \n",
      " CLOSE       | 11580.05    \n",
      " SETTLE_PR   | 11580.05    \n",
      " CONTRACTS   | 109009      \n",
      " VAL_INLAKH  | 947792.15   \n",
      " OPEN_INT    | 11721450    \n",
      " CHG_IN_OI   | 3313500     \n",
      " TIMESTAMP   | 27-AUG-2020 \n",
      " Unnamed: 15 | null        \n",
      "-RECORD 17-----------------\n",
      " INSTRUMENT  | FUTIDX      \n",
      " SYMBOL      | NIFTY       \n",
      " EXPIRY_DT   | 29-Oct-2020 \n",
      " STRIKE_PR   | 0.0         \n",
      " OPTION_TYP  | XX          \n",
      " OPEN        | 11619.95    \n",
      " HIGH        | 11636.8     \n",
      " LOW         | 11575.5     \n",
      " CLOSE       | 11589.2     \n",
      " SETTLE_PR   | 11589.2     \n",
      " CONTRACTS   | 2571        \n",
      " VAL_INLAKH  | 22377.03    \n",
      " OPEN_INT    | 440475      \n",
      " CHG_IN_OI   | 36675       \n",
      " TIMESTAMP   | 27-AUG-2020 \n",
      " Unnamed: 15 | null        \n",
      "-RECORD 18-----------------\n",
      " INSTRUMENT  | FUTIDX      \n",
      " SYMBOL      | BANKNIFTY   \n",
      " EXPIRY_DT   | 27-Aug-2020 \n",
      " STRIKE_PR   | 0.0         \n",
      " OPTION_TYP  | XX          \n",
      " OPEN        | 23150.0     \n",
      " HIGH        | 23451.8     \n",
      " LOW         | 23070.0     \n",
      " CLOSE       | 23407.15    \n",
      " SETTLE_PR   | 23407.15    \n",
      " CONTRACTS   | 192914      \n",
      " VAL_INLAKH  | 1121732.62  \n",
      " OPEN_INT    | 849625      \n",
      " CHG_IN_OI   | -176300     \n",
      " TIMESTAMP   | 26-AUG-2020 \n",
      " Unnamed: 15 | null        \n",
      "-RECORD 19-----------------\n",
      " INSTRUMENT  | FUTIDX      \n",
      " SYMBOL      | BANKNIFTY   \n",
      " EXPIRY_DT   | 24-Sep-2020 \n",
      " STRIKE_PR   | 0.0         \n",
      " OPTION_TYP  | XX          \n",
      " OPEN        | 23123.4     \n",
      " HIGH        | 23699.9     \n",
      " LOW         | 23064.0     \n",
      " CLOSE       | 23399.9     \n",
      " SETTLE_PR   | 23399.9     \n",
      " CONTRACTS   | 48368       \n",
      " VAL_INLAKH  | 281129.32   \n",
      " OPEN_INT    | 956775      \n",
      " CHG_IN_OI   | 254275      \n",
      " TIMESTAMP   | 26-AUG-2020 \n",
      " Unnamed: 15 | null        \n",
      "only showing top 20 rows\n",
      "\n"
     ]
    }
   ],
   "source": [
    "futures_data.show(vertical=True)"
   ]
  },
  {
   "cell_type": "code",
   "execution_count": 8,
   "metadata": {},
   "outputs": [],
   "source": [
    "futures_data.createGlobalTempView('FUTIDX')"
   ]
  },
  {
   "cell_type": "code",
   "execution_count": 9,
   "metadata": {},
   "outputs": [],
   "source": [
    "# futures_data_unique = spark.sql('SELECT DISTINCT TIMESTAMP, OPEN, HIGH, LOW, CLOSE FROM global_temp.FUTIDX')"
   ]
  },
  {
   "cell_type": "code",
   "execution_count": null,
   "metadata": {},
   "outputs": [],
   "source": [
    "['INSTRUMENT','SYMBOL','EXPIRY_DT',]"
   ]
  },
  {
   "cell_type": "code",
   "execution_count": 10,
   "metadata": {},
   "outputs": [
    {
     "name": "stdout",
     "output_type": "stream",
     "text": [
      "+----------+---------+-----------+---------+----------+--------+--------+--------+--------+---------+---------+----------+--------+---------+-----------+-----------+\n",
      "|INSTRUMENT|   SYMBOL|  EXPIRY_DT|STRIKE_PR|OPTION_TYP|    OPEN|    HIGH|     LOW|   CLOSE|SETTLE_PR|CONTRACTS|VAL_INLAKH|OPEN_INT|CHG_IN_OI|  TIMESTAMP|Unnamed: 15|\n",
      "+----------+---------+-----------+---------+----------+--------+--------+--------+--------+---------+---------+----------+--------+---------+-----------+-----------+\n",
      "|    FUTIDX|BANKNIFTY|24-Sep-2020|      0.0|        XX|24900.05| 25270.0| 23371.0| 23743.0|  23743.0|   504222|3051593.27| 1432850|   -54500|31-AUG-2020|       null|\n",
      "|    FUTIDX|BANKNIFTY|29-Oct-2020|      0.0|        XX|24937.55| 25315.9| 23391.9| 23770.1|  23770.1|    10630|  64526.57|   91375|    19325|31-AUG-2020|       null|\n",
      "|    FUTIDX|BANKNIFTY|26-Nov-2020|      0.0|        XX|24989.95|25280.75|23437.15| 23766.2|  23766.2|     1171|   7088.68|   14400|     8400|31-AUG-2020|       null|\n",
      "|    FUTIDX|    NIFTY|24-Sep-2020|      0.0|        XX| 11764.9|11794.45| 11350.5|11401.95| 11401.95|   314090|2722114.47|11209650| -1007775|31-AUG-2020|       null|\n",
      "|    FUTIDX|    NIFTY|29-Oct-2020|      0.0|        XX| 11765.6| 11804.3| 11368.0| 11430.5|  11430.5|     8666|  75149.14|  536250|    47925|31-AUG-2020|       null|\n",
      "|    FUTIDX|    NIFTY|26-Nov-2020|      0.0|        XX| 11789.0|11814.95| 11380.1|11426.95| 11426.95|     1051|   9127.75|   37050|    19575|31-AUG-2020|       null|\n",
      "|    FUTIDX|BANKNIFTY|24-Sep-2020|      0.0|        XX| 23679.9| 24658.7| 23601.5|24539.35| 24539.35|   338932|2051998.73| 1487350|   214250|28-AUG-2020|       null|\n",
      "|    FUTIDX|BANKNIFTY|29-Oct-2020|      0.0|        XX|23562.75| 24650.0|23562.75| 24543.2|  24543.2|     6294|  38105.29|   72050|    22825|28-AUG-2020|       null|\n",
      "|    FUTIDX|BANKNIFTY|26-Nov-2020|      0.0|        XX|23724.05| 24650.0| 23000.0| 24537.0|  24537.0|      712|   4323.63|    6000|     6000|28-AUG-2020|       null|\n",
      "|    FUTIDX|    NIFTY|24-Sep-2020|      0.0|        XX| 11633.6| 11698.0| 11602.0|11675.25| 11675.25|   151946|1327755.59|12217425|   495975|28-AUG-2020|       null|\n",
      "|    FUTIDX|    NIFTY|29-Oct-2020|      0.0|        XX| 11630.0| 11708.0|11617.05|11689.05| 11689.05|     3475|  30406.45|  488325|    47850|28-AUG-2020|       null|\n",
      "|    FUTIDX|    NIFTY|26-Nov-2020|      0.0|        XX| 11640.2|11712.65| 11628.7| 11697.1|  11697.1|      471|   4123.51|   17475|    17475|28-AUG-2020|       null|\n",
      "|    FUTIDX|BANKNIFTY|27-Aug-2020|      0.0|        XX| 23490.0|23716.15| 23473.5| 23611.4| 23600.35|   160721| 949102.15|  374975|  -474650|27-AUG-2020|       null|\n",
      "|    FUTIDX|BANKNIFTY|24-Sep-2020|      0.0|        XX|23535.05| 23671.0|23436.25| 23602.0|  23602.0|    95524| 563547.74| 1273100|   316325|27-AUG-2020|       null|\n",
      "|    FUTIDX|BANKNIFTY|29-Oct-2020|      0.0|        XX|23517.15| 23660.0| 23516.2|23590.75| 23590.75|     1907|  11249.65|   49225|    16550|27-AUG-2020|       null|\n",
      "|    FUTIDX|    NIFTY|27-Aug-2020|      0.0|        XX| 11590.1| 11608.1| 11547.0|11560.55| 11559.25|   109982| 955212.42| 3055050| -1689900|27-AUG-2020|       null|\n",
      "|    FUTIDX|    NIFTY|24-Sep-2020|      0.0|        XX| 11577.8|11622.95|11561.25|11580.05| 11580.05|   109009| 947792.15|11721450|  3313500|27-AUG-2020|       null|\n",
      "|    FUTIDX|    NIFTY|29-Oct-2020|      0.0|        XX|11619.95| 11636.8| 11575.5| 11589.2|  11589.2|     2571|  22377.03|  440475|    36675|27-AUG-2020|       null|\n",
      "|    FUTIDX|BANKNIFTY|27-Aug-2020|      0.0|        XX| 23150.0| 23451.8| 23070.0|23407.15| 23407.15|   192914|1121732.62|  849625|  -176300|26-AUG-2020|       null|\n",
      "|    FUTIDX|BANKNIFTY|24-Sep-2020|      0.0|        XX| 23123.4| 23699.9| 23064.0| 23399.9|  23399.9|    48368| 281129.32|  956775|   254275|26-AUG-2020|       null|\n",
      "+----------+---------+-----------+---------+----------+--------+--------+--------+--------+---------+---------+----------+--------+---------+-----------+-----------+\n",
      "only showing top 20 rows\n",
      "\n"
     ]
    }
   ],
   "source": [
    "futures_data.show()"
   ]
  },
  {
   "cell_type": "code",
   "execution_count": 11,
   "metadata": {},
   "outputs": [],
   "source": [
    "import matplotlib.pyplot as plt\n",
    "import numpy as np\n",
    "date = np.array(futures_data.select('TIMESTAMP').collect()).tolist()\n",
    "openPrice = np.array(futures_data.select('OPEN').collect()).tolist()\n",
    "high = np.array(futures_data.select('HIGH').collect()).tolist()"
   ]
  },
  {
   "cell_type": "code",
   "execution_count": 12,
   "metadata": {},
   "outputs": [
    {
     "name": "stdout",
     "output_type": "stream",
     "text": [
      "[['31-AUG-2020' '31-AUG-2020' '31-AUG-2020' ... '12-JUN-2000'\n",
      "  '12-JUN-2000' '12-JUN-2000']] [['24900.05' '24937.55' '24989.95' ... '1461' '1478' '1480']] [['25270.0' '25315.9' '25280.75' ... '1472' '1478' '1482']]\n"
     ]
    }
   ],
   "source": [
    "date= np.reshape(date, (1,-1))\n",
    "openPrice= np.reshape(openPrice, (1,-1))\n",
    "high = np.reshape(high, (1,-1))\n",
    "print(date,openPrice,high)"
   ]
  },
  {
   "cell_type": "code",
   "execution_count": 13,
   "metadata": {},
   "outputs": [
    {
     "name": "stdout",
     "output_type": "stream",
     "text": [
      "['31-AUG-2020' '31-AUG-2020' '31-AUG-2020' ... '12-JUN-2000' '12-JUN-2000'\n",
      " '12-JUN-2000'] ['24900.05' '24937.55' '24989.95' ... '1461' '1478' '1480'] ['25270.0' '25315.9' '25280.75' ... '1472' '1478' '1482']\n"
     ]
    }
   ],
   "source": [
    "date= date[0]\n",
    "openPrice= openPrice[0]\n",
    "high = high[0]\n",
    "print(date,openPrice,high)"
   ]
  },
  {
   "cell_type": "code",
   "execution_count": 14,
   "metadata": {},
   "outputs": [
    {
     "name": "stdout",
     "output_type": "stream",
     "text": [
      "['24900.05' '24937.55' '24989.95' ... '1461' '1478' '1480']\n"
     ]
    }
   ],
   "source": [
    "print(openPrice)"
   ]
  },
  {
   "cell_type": "code",
   "execution_count": 16,
   "metadata": {},
   "outputs": [],
   "source": [
    "futures_data.coalesce(1).write.csv('FUTIDX.csv')"
   ]
  },
  {
   "cell_type": "code",
   "execution_count": 15,
   "metadata": {},
   "outputs": [
    {
     "ename": "ValueError",
     "evalue": "not enough values to unpack (expected 3, got 1)",
     "output_type": "error",
     "traceback": [
      "\u001b[0;31m---------------------------------------------------------------------------\u001b[0m",
      "\u001b[0;31mValueError\u001b[0m                                Traceback (most recent call last)",
      "\u001b[0;32m<ipython-input-15-891cd4b7d4f0>\u001b[0m in \u001b[0;36m<module>\u001b[0;34m()\u001b[0m\n\u001b[1;32m     18\u001b[0m \u001b[0;34m\u001b[0m\u001b[0m\n\u001b[1;32m     19\u001b[0m \u001b[0;31m# Create a new list of corrected dates\u001b[0m\u001b[0;34m\u001b[0m\u001b[0;34m\u001b[0m\u001b[0m\n\u001b[0;32m---> 20\u001b[0;31m \u001b[0mcorrected_dates\u001b[0m \u001b[0;34m=\u001b[0m \u001b[0;34m[\u001b[0m\u001b[0mcorrect_date_format\u001b[0m\u001b[0;34m(\u001b[0m\u001b[0mdate_str\u001b[0m\u001b[0;34m)\u001b[0m \u001b[0;32mfor\u001b[0m \u001b[0mdate_str\u001b[0m \u001b[0;32min\u001b[0m \u001b[0mdate\u001b[0m\u001b[0;34m[\u001b[0m\u001b[0;36m0\u001b[0m\u001b[0;34m]\u001b[0m\u001b[0;34m]\u001b[0m\u001b[0;34m\u001b[0m\u001b[0m\n\u001b[0m\u001b[1;32m     21\u001b[0m \u001b[0;34m\u001b[0m\u001b[0m\n\u001b[1;32m     22\u001b[0m \u001b[0mprint\u001b[0m\u001b[0;34m(\u001b[0m\u001b[0mcorrected_dates\u001b[0m\u001b[0;34m)\u001b[0m\u001b[0;34m\u001b[0m\u001b[0m\n",
      "\u001b[0;32m<ipython-input-15-891cd4b7d4f0>\u001b[0m in \u001b[0;36m<listcomp>\u001b[0;34m(.0)\u001b[0m\n\u001b[1;32m     18\u001b[0m \u001b[0;34m\u001b[0m\u001b[0m\n\u001b[1;32m     19\u001b[0m \u001b[0;31m# Create a new list of corrected dates\u001b[0m\u001b[0;34m\u001b[0m\u001b[0;34m\u001b[0m\u001b[0m\n\u001b[0;32m---> 20\u001b[0;31m \u001b[0mcorrected_dates\u001b[0m \u001b[0;34m=\u001b[0m \u001b[0;34m[\u001b[0m\u001b[0mcorrect_date_format\u001b[0m\u001b[0;34m(\u001b[0m\u001b[0mdate_str\u001b[0m\u001b[0;34m)\u001b[0m \u001b[0;32mfor\u001b[0m \u001b[0mdate_str\u001b[0m \u001b[0;32min\u001b[0m \u001b[0mdate\u001b[0m\u001b[0;34m[\u001b[0m\u001b[0;36m0\u001b[0m\u001b[0;34m]\u001b[0m\u001b[0;34m]\u001b[0m\u001b[0;34m\u001b[0m\u001b[0m\n\u001b[0m\u001b[1;32m     21\u001b[0m \u001b[0;34m\u001b[0m\u001b[0m\n\u001b[1;32m     22\u001b[0m \u001b[0mprint\u001b[0m\u001b[0;34m(\u001b[0m\u001b[0mcorrected_dates\u001b[0m\u001b[0;34m)\u001b[0m\u001b[0;34m\u001b[0m\u001b[0m\n",
      "\u001b[0;32m<ipython-input-15-891cd4b7d4f0>\u001b[0m in \u001b[0;36mcorrect_date_format\u001b[0;34m(date_str)\u001b[0m\n\u001b[1;32m      1\u001b[0m \u001b[0;32mdef\u001b[0m \u001b[0mcorrect_date_format\u001b[0m\u001b[0;34m(\u001b[0m\u001b[0mdate_str\u001b[0m\u001b[0;34m)\u001b[0m\u001b[0;34m:\u001b[0m\u001b[0;34m\u001b[0m\u001b[0m\n\u001b[1;32m      2\u001b[0m     \u001b[0;31m# Split the date string into day, month, and year\u001b[0m\u001b[0;34m\u001b[0m\u001b[0;34m\u001b[0m\u001b[0m\n\u001b[0;32m----> 3\u001b[0;31m     \u001b[0mday\u001b[0m\u001b[0;34m,\u001b[0m \u001b[0mmonth\u001b[0m\u001b[0;34m,\u001b[0m \u001b[0myear\u001b[0m \u001b[0;34m=\u001b[0m \u001b[0mdate_str\u001b[0m\u001b[0;34m.\u001b[0m\u001b[0msplit\u001b[0m\u001b[0;34m(\u001b[0m\u001b[0;34m'-'\u001b[0m\u001b[0;34m)\u001b[0m\u001b[0;34m\u001b[0m\u001b[0m\n\u001b[0m\u001b[1;32m      4\u001b[0m \u001b[0;34m\u001b[0m\u001b[0m\n\u001b[1;32m      5\u001b[0m     \u001b[0;31m# Check if day, month, and year are in correct format\u001b[0m\u001b[0;34m\u001b[0m\u001b[0;34m\u001b[0m\u001b[0m\n",
      "\u001b[0;31mValueError\u001b[0m: not enough values to unpack (expected 3, got 1)"
     ]
    }
   ],
   "source": [
    "def correct_date_format(date_str):\n",
    "    # Split the date string into day, month, and year\n",
    "    day, month, year = date_str.split('-')\n",
    "\n",
    "    # Check if day, month, and year are in correct format\n",
    "    if len(day) != 2:\n",
    "        # Manually correct day format\n",
    "        day = '0' + day if len(day) == 1 else day\n",
    "    if len(month) != 3:\n",
    "        # Manually correct month format\n",
    "        month = month[:3]\n",
    "    if len(year) != 4:\n",
    "        # Manually correct year format\n",
    "        year = '20' + year if len(year) == 2 else year\n",
    "\n",
    "    # Return the corrected date string\n",
    "    return f\"{day}-{month}-{year}\"\n",
    "\n",
    "# Create a new list of corrected dates\n",
    "corrected_dates = [correct_date_format(date_str) for date_str in date[0]]\n",
    "\n",
    "print(corrected_dates)"
   ]
  },
  {
   "cell_type": "code",
   "execution_count": null,
   "metadata": {},
   "outputs": [],
   "source": [
    "import matplotlib.pyplot as plt\n",
    "import numpy as np\n",
    "from datetime import datetime\n",
    "from dateutil import parser\n",
    "\n",
    "date_objects = [datetime.strptime(d, '%d-%b-%Y') for d in corrected_dates]\n",
    "# date_objects = date_objects.tolist()\n",
    "# Plotting\n",
    "plt.figure(figsize=(10,20))\n",
    "plt.plot(date_objects, openPrice)\n",
    "plt.title('Open Prices Over Time')\n",
    "plt.xlabel('Date')\n",
    "plt.ylabel('Price')\n",
    "plt.xticks(date_objects, dates, rotation=45)  # Set the tick labels as dates with rotation\n",
    "plt.grid(True)\n",
    "plt.tight_layout()\n",
    "\n",
    "# Show plot\n",
    "plt.show()\n"
   ]
  },
  {
   "cell_type": "code",
   "execution_count": null,
   "metadata": {},
   "outputs": [],
   "source": []
  },
  {
   "cell_type": "code",
   "execution_count": null,
   "metadata": {
    "scrolled": true
   },
   "outputs": [],
   "source": [
    "print((date_objects[100]))"
   ]
  },
  {
   "cell_type": "code",
   "execution_count": null,
   "metadata": {},
   "outputs": [],
   "source": [
    "from pyspark.sql.functions import col\n",
    "from pyspark.ml.feature import VectorAssembler\n",
    "\n",
    "\n",
    "# Convert string columns to numeric types\n",
    "futures_data = futures_data.withColumn('OPEN', futures_data['OPEN'].cast('double'))\n",
    "futures_data = futures_data.withColumn('HIGH', futures_data['HIGH'].cast('double'))\n",
    "futures_data = futures_data.withColumn('LOW', futures_data['LOW'].cast('double'))\n",
    "futures_data = futures_data.withColumn('CLOSE', futures_data['CLOSE'].cast('double'))\n",
    "futures_data = futures_data.withColumn('SETTLE_PR', futures_data['SETTLE_PR'].cast('double')) # Assuming SETTLE_PR is the label column\n",
    "\n",
    "# Now you can proceed with the VectorAssembler and model training\n",
    "feature_columns = ['OPEN', 'HIGH', 'LOW', 'CLOSE']\n",
    "assembler = VectorAssembler(inputCols=feature_columns, outputCol=\"features\")\n",
    "data = assembler.transform(futures_data)\n",
    "\n",
    "# Define the neural network architecture\n",
    "layers = [len(feature_columns), 64, 32, 1]  # Input size, hidden layers, output size\n",
    "mlp = MultilayerPerceptronClassifier(layers=layers, seed=1, featuresCol=\"features\", labelCol=\"SETTLE_PR\") # Use SETTLE_PR as labelCol\n",
    "\n",
    "# Split data into training and test sets\n",
    "(training_data, test_data) = data.randomSplit([0.8, 0.2])\n",
    "\n",
    "# Train the neural network model\n",
    "model = mlp.fit(training_data)\n",
    "\n",
    "# Make predictions on the test data\n",
    "predictions = model.transform(test_data)\n"
   ]
  },
  {
   "cell_type": "code",
   "execution_count": null,
   "metadata": {},
   "outputs": [],
   "source": []
  },
  {
   "cell_type": "code",
   "execution_count": null,
   "metadata": {},
   "outputs": [],
   "source": [
    "# Evaluate the model\n",
    "evaluator = RegressionEvaluator(labelCol=\"OPTION_PRICE\", predictionCol=\"prediction\", metricName=\"rmse\")\n",
    "rmse = evaluator.evaluate(predictions)\n",
    "print(\"Root Mean Squared Error (RMSE):\", rmse)"
   ]
  },
  {
   "cell_type": "code",
   "execution_count": null,
   "metadata": {},
   "outputs": [],
   "source": [
    "futures_data.printSchema()"
   ]
  }
 ],
 "metadata": {
  "kernelspec": {
   "display_name": "Python 3",
   "language": "python",
   "name": "python3"
  },
  "language_info": {
   "codemirror_mode": {
    "name": "ipython",
    "version": 3
   },
   "file_extension": ".py",
   "mimetype": "text/x-python",
   "name": "python",
   "nbconvert_exporter": "python",
   "pygments_lexer": "ipython3",
   "version": "3.7.0"
  }
 },
 "nbformat": 4,
 "nbformat_minor": 2
}
