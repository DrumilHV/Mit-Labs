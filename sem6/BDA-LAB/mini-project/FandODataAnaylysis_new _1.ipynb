{
  "cells": [
    {
      "cell_type": "code",
      "source": [
        "! pip install pyspark"
      ],
      "metadata": {
        "id": "BM4ku1zZAt6X"
      },
      "execution_count": null,
      "outputs": []
    },
    {
      "cell_type": "code",
      "execution_count": 17,
      "metadata": {
        "id": "S0B6-CV0jHhJ",
        "colab": {
          "base_uri": "https://localhost:8080/"
        },
        "outputId": "9cf63465-bc8e-4c0c-a044-5bffba4d3f8c"
      },
      "outputs": [
        {
          "output_type": "stream",
          "name": "stdout",
          "text": [
            "Requirement already satisfied: pyspark in /usr/local/lib/python3.10/dist-packages (3.5.1)\n",
            "Requirement already satisfied: py4j==0.10.9.7 in /usr/local/lib/python3.10/dist-packages (from pyspark) (0.10.9.7)\n"
          ]
        }
      ],
      "source": [
        "import pyspark\n",
        "from pyspark import SparkContext, SparkConf\n",
        "from pyspark.sql import SparkSession\n",
        "from pyspark.ml.feature import VectorAssembler\n",
        "from pyspark.ml.classification import MultilayerPerceptronClassifier\n",
        "from pyspark.ml.evaluation import MulticlassClassificationEvaluator\n",
        "from pyspark.ml.evaluation import RegressionEvaluator\n",
        "import numpy as np"
      ]
    },
    {
      "cell_type": "markdown",
      "metadata": {
        "id": "u-HMM2cBjHhN"
      },
      "source": [
        "https://www.kaggle.com/datasets/tanay001/nseindia-futures-options-daily/data"
      ]
    },
    {
      "cell_type": "code",
      "source": [
        "! mkdir ~/.kaggle\n",
        "! cp kaggle.json ~/.kaggle/\n",
        "! chmod 600 ~/.kaggle/kaggle.json\n",
        "! kaggle datasets download -d tanay001/nseindia-futures-options-daily\n",
        "! unzip nseindia-futures-options-daily.zip"
      ],
      "metadata": {
        "colab": {
          "base_uri": "https://localhost:8080/"
        },
        "id": "BLiER6oHjtnf",
        "outputId": "a24ea97e-a996-46aa-c000-2fb072a6db4f"
      },
      "execution_count": 3,
      "outputs": [
        {
          "output_type": "stream",
          "name": "stdout",
          "text": [
            "mkdir: cannot create directory ‘/root/.kaggle’: File exists\n",
            "Downloading nseindia-futures-options-daily.zip to /content\n",
            "100% 1.12G/1.12G [00:09<00:00, 165MB/s]\n",
            "100% 1.12G/1.12G [00:09<00:00, 128MB/s]\n",
            "Archive:  nseindia-futures-options-daily.zip\n",
            "  inflating: fobhav.csv              \n"
          ]
        }
      ]
    },
    {
      "cell_type": "code",
      "execution_count": 18,
      "metadata": {
        "id": "EY2M6XzFjHhP"
      },
      "outputs": [],
      "source": [
        "from pyspark.sql import SparkSession\n",
        "from pyspark.sql.functions import col\n",
        "\n",
        "spark = SparkSession.builder.config('spark.driver.memory', '10g').appName('Future and Option Data Analysis').getOrCreate()\n"
      ]
    },
    {
      "cell_type": "code",
      "execution_count": 19,
      "metadata": {
        "id": "eIvIyN7XjHhP",
        "outputId": "dc85e015-cf3a-46c8-cc31-91d5a078bcca",
        "colab": {
          "base_uri": "https://localhost:8080/",
          "height": 460
        }
      },
      "outputs": [
        {
          "output_type": "stream",
          "name": "stderr",
          "text": [
            "ERROR:root:KeyboardInterrupt while sending command.\n",
            "Traceback (most recent call last):\n",
            "  File \"/usr/local/lib/python3.10/dist-packages/py4j/java_gateway.py\", line 1038, in send_command\n",
            "    response = connection.send_command(command)\n",
            "  File \"/usr/local/lib/python3.10/dist-packages/py4j/clientserver.py\", line 511, in send_command\n",
            "    answer = smart_decode(self.stream.readline()[:-1])\n",
            "  File \"/usr/lib/python3.10/socket.py\", line 705, in readinto\n",
            "    return self._sock.recv_into(b)\n",
            "KeyboardInterrupt\n"
          ]
        },
        {
          "output_type": "error",
          "ename": "KeyboardInterrupt",
          "evalue": "",
          "traceback": [
            "\u001b[0;31m---------------------------------------------------------------------------\u001b[0m",
            "\u001b[0;31mKeyboardInterrupt\u001b[0m                         Traceback (most recent call last)",
            "\u001b[0;32m<ipython-input-19-fae4db0d07f7>\u001b[0m in \u001b[0;36m<cell line: 2>\u001b[0;34m()\u001b[0m\n\u001b[1;32m      1\u001b[0m \u001b[0;31m# Load your dataset\u001b[0m\u001b[0;34m\u001b[0m\u001b[0;34m\u001b[0m\u001b[0m\n\u001b[0;32m----> 2\u001b[0;31m \u001b[0mdata\u001b[0m \u001b[0;34m=\u001b[0m \u001b[0mspark\u001b[0m\u001b[0;34m.\u001b[0m\u001b[0mread\u001b[0m\u001b[0;34m.\u001b[0m\u001b[0mcsv\u001b[0m\u001b[0;34m(\u001b[0m\u001b[0;34m\"fobhav.csv\"\u001b[0m\u001b[0;34m,\u001b[0m \u001b[0mheader\u001b[0m\u001b[0;34m=\u001b[0m\u001b[0;32mTrue\u001b[0m\u001b[0;34m,\u001b[0m \u001b[0minferSchema\u001b[0m\u001b[0;34m=\u001b[0m\u001b[0;32mTrue\u001b[0m\u001b[0;34m)\u001b[0m\u001b[0;34m\u001b[0m\u001b[0;34m\u001b[0m\u001b[0m\n\u001b[0m",
            "\u001b[0;32m/usr/local/lib/python3.10/dist-packages/pyspark/sql/readwriter.py\u001b[0m in \u001b[0;36mcsv\u001b[0;34m(self, path, schema, sep, encoding, quote, escape, comment, header, inferSchema, ignoreLeadingWhiteSpace, ignoreTrailingWhiteSpace, nullValue, nanValue, positiveInf, negativeInf, dateFormat, timestampFormat, maxColumns, maxCharsPerColumn, maxMalformedLogPerPartition, mode, columnNameOfCorruptRecord, multiLine, charToEscapeQuoteEscaping, samplingRatio, enforceSchema, emptyValue, locale, lineSep, pathGlobFilter, recursiveFileLookup, modifiedBefore, modifiedAfter, unescapedQuoteHandling)\u001b[0m\n\u001b[1;32m    738\u001b[0m         \u001b[0;32mif\u001b[0m \u001b[0mtype\u001b[0m\u001b[0;34m(\u001b[0m\u001b[0mpath\u001b[0m\u001b[0;34m)\u001b[0m \u001b[0;34m==\u001b[0m \u001b[0mlist\u001b[0m\u001b[0;34m:\u001b[0m\u001b[0;34m\u001b[0m\u001b[0;34m\u001b[0m\u001b[0m\n\u001b[1;32m    739\u001b[0m             \u001b[0;32massert\u001b[0m \u001b[0mself\u001b[0m\u001b[0;34m.\u001b[0m\u001b[0m_spark\u001b[0m\u001b[0;34m.\u001b[0m\u001b[0m_sc\u001b[0m\u001b[0;34m.\u001b[0m\u001b[0m_jvm\u001b[0m \u001b[0;32mis\u001b[0m \u001b[0;32mnot\u001b[0m \u001b[0;32mNone\u001b[0m\u001b[0;34m\u001b[0m\u001b[0;34m\u001b[0m\u001b[0m\n\u001b[0;32m--> 740\u001b[0;31m             \u001b[0;32mreturn\u001b[0m \u001b[0mself\u001b[0m\u001b[0;34m.\u001b[0m\u001b[0m_df\u001b[0m\u001b[0;34m(\u001b[0m\u001b[0mself\u001b[0m\u001b[0;34m.\u001b[0m\u001b[0m_jreader\u001b[0m\u001b[0;34m.\u001b[0m\u001b[0mcsv\u001b[0m\u001b[0;34m(\u001b[0m\u001b[0mself\u001b[0m\u001b[0;34m.\u001b[0m\u001b[0m_spark\u001b[0m\u001b[0;34m.\u001b[0m\u001b[0m_sc\u001b[0m\u001b[0;34m.\u001b[0m\u001b[0m_jvm\u001b[0m\u001b[0;34m.\u001b[0m\u001b[0mPythonUtils\u001b[0m\u001b[0;34m.\u001b[0m\u001b[0mtoSeq\u001b[0m\u001b[0;34m(\u001b[0m\u001b[0mpath\u001b[0m\u001b[0;34m)\u001b[0m\u001b[0;34m)\u001b[0m\u001b[0;34m)\u001b[0m\u001b[0;34m\u001b[0m\u001b[0;34m\u001b[0m\u001b[0m\n\u001b[0m\u001b[1;32m    741\u001b[0m         \u001b[0;32melif\u001b[0m \u001b[0misinstance\u001b[0m\u001b[0;34m(\u001b[0m\u001b[0mpath\u001b[0m\u001b[0;34m,\u001b[0m \u001b[0mRDD\u001b[0m\u001b[0;34m)\u001b[0m\u001b[0;34m:\u001b[0m\u001b[0;34m\u001b[0m\u001b[0;34m\u001b[0m\u001b[0m\n\u001b[1;32m    742\u001b[0m \u001b[0;34m\u001b[0m\u001b[0m\n",
            "\u001b[0;32m/usr/local/lib/python3.10/dist-packages/py4j/java_gateway.py\u001b[0m in \u001b[0;36m__call__\u001b[0;34m(self, *args)\u001b[0m\n\u001b[1;32m   1319\u001b[0m             \u001b[0mproto\u001b[0m\u001b[0;34m.\u001b[0m\u001b[0mEND_COMMAND_PART\u001b[0m\u001b[0;34m\u001b[0m\u001b[0;34m\u001b[0m\u001b[0m\n\u001b[1;32m   1320\u001b[0m \u001b[0;34m\u001b[0m\u001b[0m\n\u001b[0;32m-> 1321\u001b[0;31m         \u001b[0manswer\u001b[0m \u001b[0;34m=\u001b[0m \u001b[0mself\u001b[0m\u001b[0;34m.\u001b[0m\u001b[0mgateway_client\u001b[0m\u001b[0;34m.\u001b[0m\u001b[0msend_command\u001b[0m\u001b[0;34m(\u001b[0m\u001b[0mcommand\u001b[0m\u001b[0;34m)\u001b[0m\u001b[0;34m\u001b[0m\u001b[0;34m\u001b[0m\u001b[0m\n\u001b[0m\u001b[1;32m   1322\u001b[0m         return_value = get_return_value(\n\u001b[1;32m   1323\u001b[0m             answer, self.gateway_client, self.target_id, self.name)\n",
            "\u001b[0;32m/usr/local/lib/python3.10/dist-packages/py4j/java_gateway.py\u001b[0m in \u001b[0;36msend_command\u001b[0;34m(self, command, retry, binary)\u001b[0m\n\u001b[1;32m   1036\u001b[0m         \u001b[0mconnection\u001b[0m \u001b[0;34m=\u001b[0m \u001b[0mself\u001b[0m\u001b[0;34m.\u001b[0m\u001b[0m_get_connection\u001b[0m\u001b[0;34m(\u001b[0m\u001b[0;34m)\u001b[0m\u001b[0;34m\u001b[0m\u001b[0;34m\u001b[0m\u001b[0m\n\u001b[1;32m   1037\u001b[0m         \u001b[0;32mtry\u001b[0m\u001b[0;34m:\u001b[0m\u001b[0;34m\u001b[0m\u001b[0;34m\u001b[0m\u001b[0m\n\u001b[0;32m-> 1038\u001b[0;31m             \u001b[0mresponse\u001b[0m \u001b[0;34m=\u001b[0m \u001b[0mconnection\u001b[0m\u001b[0;34m.\u001b[0m\u001b[0msend_command\u001b[0m\u001b[0;34m(\u001b[0m\u001b[0mcommand\u001b[0m\u001b[0;34m)\u001b[0m\u001b[0;34m\u001b[0m\u001b[0;34m\u001b[0m\u001b[0m\n\u001b[0m\u001b[1;32m   1039\u001b[0m             \u001b[0;32mif\u001b[0m \u001b[0mbinary\u001b[0m\u001b[0;34m:\u001b[0m\u001b[0;34m\u001b[0m\u001b[0;34m\u001b[0m\u001b[0m\n\u001b[1;32m   1040\u001b[0m                 \u001b[0;32mreturn\u001b[0m \u001b[0mresponse\u001b[0m\u001b[0;34m,\u001b[0m \u001b[0mself\u001b[0m\u001b[0;34m.\u001b[0m\u001b[0m_create_connection_guard\u001b[0m\u001b[0;34m(\u001b[0m\u001b[0mconnection\u001b[0m\u001b[0;34m)\u001b[0m\u001b[0;34m\u001b[0m\u001b[0;34m\u001b[0m\u001b[0m\n",
            "\u001b[0;32m/usr/local/lib/python3.10/dist-packages/py4j/clientserver.py\u001b[0m in \u001b[0;36msend_command\u001b[0;34m(self, command)\u001b[0m\n\u001b[1;32m    509\u001b[0m         \u001b[0;32mtry\u001b[0m\u001b[0;34m:\u001b[0m\u001b[0;34m\u001b[0m\u001b[0;34m\u001b[0m\u001b[0m\n\u001b[1;32m    510\u001b[0m             \u001b[0;32mwhile\u001b[0m \u001b[0;32mTrue\u001b[0m\u001b[0;34m:\u001b[0m\u001b[0;34m\u001b[0m\u001b[0;34m\u001b[0m\u001b[0m\n\u001b[0;32m--> 511\u001b[0;31m                 \u001b[0manswer\u001b[0m \u001b[0;34m=\u001b[0m \u001b[0msmart_decode\u001b[0m\u001b[0;34m(\u001b[0m\u001b[0mself\u001b[0m\u001b[0;34m.\u001b[0m\u001b[0mstream\u001b[0m\u001b[0;34m.\u001b[0m\u001b[0mreadline\u001b[0m\u001b[0;34m(\u001b[0m\u001b[0;34m)\u001b[0m\u001b[0;34m[\u001b[0m\u001b[0;34m:\u001b[0m\u001b[0;34m-\u001b[0m\u001b[0;36m1\u001b[0m\u001b[0;34m]\u001b[0m\u001b[0;34m)\u001b[0m\u001b[0;34m\u001b[0m\u001b[0;34m\u001b[0m\u001b[0m\n\u001b[0m\u001b[1;32m    512\u001b[0m                 \u001b[0mlogger\u001b[0m\u001b[0;34m.\u001b[0m\u001b[0mdebug\u001b[0m\u001b[0;34m(\u001b[0m\u001b[0;34m\"Answer received: {0}\"\u001b[0m\u001b[0;34m.\u001b[0m\u001b[0mformat\u001b[0m\u001b[0;34m(\u001b[0m\u001b[0manswer\u001b[0m\u001b[0;34m)\u001b[0m\u001b[0;34m)\u001b[0m\u001b[0;34m\u001b[0m\u001b[0;34m\u001b[0m\u001b[0m\n\u001b[1;32m    513\u001b[0m                 \u001b[0;31m# Happens when a the other end is dead. There might be an empty\u001b[0m\u001b[0;34m\u001b[0m\u001b[0;34m\u001b[0m\u001b[0m\n",
            "\u001b[0;32m/usr/lib/python3.10/socket.py\u001b[0m in \u001b[0;36mreadinto\u001b[0;34m(self, b)\u001b[0m\n\u001b[1;32m    703\u001b[0m         \u001b[0;32mwhile\u001b[0m \u001b[0;32mTrue\u001b[0m\u001b[0;34m:\u001b[0m\u001b[0;34m\u001b[0m\u001b[0;34m\u001b[0m\u001b[0m\n\u001b[1;32m    704\u001b[0m             \u001b[0;32mtry\u001b[0m\u001b[0;34m:\u001b[0m\u001b[0;34m\u001b[0m\u001b[0;34m\u001b[0m\u001b[0m\n\u001b[0;32m--> 705\u001b[0;31m                 \u001b[0;32mreturn\u001b[0m \u001b[0mself\u001b[0m\u001b[0;34m.\u001b[0m\u001b[0m_sock\u001b[0m\u001b[0;34m.\u001b[0m\u001b[0mrecv_into\u001b[0m\u001b[0;34m(\u001b[0m\u001b[0mb\u001b[0m\u001b[0;34m)\u001b[0m\u001b[0;34m\u001b[0m\u001b[0;34m\u001b[0m\u001b[0m\n\u001b[0m\u001b[1;32m    706\u001b[0m             \u001b[0;32mexcept\u001b[0m \u001b[0mtimeout\u001b[0m\u001b[0;34m:\u001b[0m\u001b[0;34m\u001b[0m\u001b[0;34m\u001b[0m\u001b[0m\n\u001b[1;32m    707\u001b[0m                 \u001b[0mself\u001b[0m\u001b[0;34m.\u001b[0m\u001b[0m_timeout_occurred\u001b[0m \u001b[0;34m=\u001b[0m \u001b[0;32mTrue\u001b[0m\u001b[0;34m\u001b[0m\u001b[0;34m\u001b[0m\u001b[0m\n",
            "\u001b[0;31mKeyboardInterrupt\u001b[0m: "
          ]
        }
      ],
      "source": [
        "\n",
        "# Load your dataset\n",
        "data = spark.read.csv(\"fobhav.csv\", header=True, inferSchema=True)\n"
      ]
    },
    {
      "cell_type": "code",
      "execution_count": null,
      "metadata": {
        "id": "cx4RlkkPjHhQ",
        "outputId": "5e02bb33-46b6-4d53-974f-741d658cdc3a"
      },
      "outputs": [
        {
          "name": "stdout",
          "output_type": "stream",
          "text": [
            "root\n",
            " |-- INSTRUMENT: string (nullable = true)\n",
            " |-- SYMBOL: string (nullable = true)\n",
            " |-- EXPIRY_DT: string (nullable = true)\n",
            " |-- STRIKE_PR: string (nullable = true)\n",
            " |-- OPTION_TYP: string (nullable = true)\n",
            " |-- OPEN: string (nullable = true)\n",
            " |-- HIGH: string (nullable = true)\n",
            " |-- LOW: string (nullable = true)\n",
            " |-- CLOSE: string (nullable = true)\n",
            " |-- SETTLE_PR: string (nullable = true)\n",
            " |-- CONTRACTS: string (nullable = true)\n",
            " |-- VAL_INLAKH: string (nullable = true)\n",
            " |-- OPEN_INT: string (nullable = true)\n",
            " |-- CHG_IN_OI: string (nullable = true)\n",
            " |-- TIMESTAMP: string (nullable = true)\n",
            " |-- Unnamed: 15: string (nullable = true)\n",
            "\n"
          ]
        }
      ],
      "source": [
        "data.printSchema()"
      ]
    },
    {
      "cell_type": "code",
      "execution_count": 8,
      "metadata": {
        "id": "bVTjHDSyjHhQ"
      },
      "outputs": [],
      "source": [
        "headers = ['INSTRUMENT','SYMBOL','EXPIRY_DT','STRIKE_PR','OPTION_TYP','OPEN','HIGH','LOW','CLOSE','SETTLE_PR','CONTRACTS','VAL_INLAKH','OPEN_INT','CHG_IN_OI','TIMESTAMP','Unnamed']"
      ]
    },
    {
      "cell_type": "code",
      "execution_count": null,
      "metadata": {
        "id": "T6VxSrYUjHhQ",
        "outputId": "eb4a7432-c355-4596-eb9c-10ee6b432ea2"
      },
      "outputs": [
        {
          "name": "stderr",
          "output_type": "stream",
          "text": [
            "[Stage 2:========================================================>(71 + 1) / 72]\r"
          ]
        },
        {
          "name": "stdout",
          "output_type": "stream",
          "text": [
            "['GODREJCP' 'LT' 'ICICIBANK' 'L&TFH' 'IDEA' 'TITAN' 'MINDTREE'\n",
            " 'TORNTPOWER' 'SRTRANSFIN' 'IBULHSGFIN' 'BOSCHLTD' 'MANAPPURAM' 'PETRONET'\n",
            " 'PFC' 'DIVISLAB' 'SAIL' 'EXIDEIND' 'HDFCBANK' 'EQUITAS' 'CIPLA'\n",
            " 'AUROPHARMA' 'MFSL' 'CENTURYTEX' 'BHARATFORG' 'MRF' 'HINDALCO' 'SBILIFE'\n",
            " 'ZEEL' 'ACC' 'BAJAJ-AUTO' 'BALKRISIND' 'INFY' 'BATAINDIA' 'M&M' 'IGL'\n",
            " 'POWERGRID' 'ONGC' 'PNB' 'ASHOKLEY' 'NATIONALUM' 'ADANIPORTS'\n",
            " 'APOLLOHOSP' 'HDFC' 'M&MFIN' 'AMBUJACEM' 'CUMMINSIND' 'UBL' 'RAMCOCEM'\n",
            " 'BAJFINANCE' 'SIEMENS' 'VOLTAS' 'SRF' 'HAVELLS' 'BPCL' 'TATACONSUM'\n",
            " 'EICHERMOT' 'HINDPETRO' 'HINDUNILVR' 'ASIANPAINT' 'MOTHERSUMI'\n",
            " 'MUTHOOTFIN' 'NAUKRI' 'BHEL' 'NCC' 'NTPC' 'RELIANCE' 'NMDC' 'TATAPOWER'\n",
            " 'COFORGE' 'TVSMOTOR' 'DABUR' 'DLF' 'MARUTI' 'UPL' 'LICHSGFIN' 'NESTLEIND'\n",
            " 'TECHM' 'CONCOR' 'UJJIVAN' 'INDIGO' 'MCDOWELL-N' 'SUNPHARMA' 'COLPAL'\n",
            " 'MARICO' 'PVR' 'BHARTIARTL' 'PAGEIND' 'COALINDIA' 'ADANIENT' 'TORNTPHARM'\n",
            " 'RECLTD' 'TCS' 'CHOLAFIN' 'RBLBANK' 'INDUSINDBK' 'BANDHANBNK'\n",
            " 'FEDERALBNK' 'HDFCLIFE' 'GRASIM' 'SHREECEM' 'LUPIN' 'TATAMOTORS' 'SBIN'\n",
            " 'ULTRACEMCO' 'WIPRO' 'VEDL' 'BERGEPAINT' 'DRREDDY' 'IDFCFIRSTB'\n",
            " 'BANKBARODA' 'MGL' 'AXISBANK' 'SUNTV' 'TATASTEEL' 'BAJAJFINSV'\n",
            " 'BRITANNIA' 'BIOCON' 'APOLLOTYRE' 'ESCORTS' 'IOC' 'AMARAJABAT'\n",
            " 'GODREJPROP' 'JUSTDIAL' 'GMRINFRA' 'GLENMARK' 'ICICIPRULI' 'JINDALSTEL'\n",
            " 'PEL' 'CANBK' 'GAIL' 'JSWSTEEL' 'BEL' 'CADILAHC' 'INFRATEL' 'KOTAKBANK'\n",
            " 'HEROMOTOCO' 'JUBLFOOD' 'PIDILITIND' 'ITC' 'TATACHEM' 'HCLTECH'\n",
            " 'NIITTECH' 'ADANIPOWER' 'YESBANK' 'CESC' 'OIL' 'NBCC' 'DISHTV'\n",
            " 'TATAGLOBAL' 'CASTROLIND' 'TATAMTRDVR' 'HEXAWARE' 'BANKINDIA' 'TATAELXSI'\n",
            " 'UNIONBANK' 'STAR' 'ENGINERSIN' 'ARVIND' 'OFSS' 'IDBI' 'HINDZINC'\n",
            " 'RELINFRA' 'MCX' 'KAJARIACER' 'RELCAPITAL' 'BSOFT' 'RAYMOND' 'DHFL'\n",
            " 'CANFINHOME' 'JETAIRWAYS' 'KTKBANK' 'CHENNPETRO' 'TV18BRDCST'\n",
            " 'WOCKPHARMA' 'VGUARD' 'ALBK' 'TATACOMM' 'AJANTPHARM' 'GODREJIND'\n",
            " 'CGPOWER' 'PCJEWELLER' 'IRB' 'BHARATFIN' 'BEML' 'IDFC' 'SYNDIBANK'\n",
            " 'INDIACEM' 'DCBBANK' 'SUZLON' 'NHPC' 'MRPL' 'JISLJALEQS' 'REPCOHOME'\n",
            " 'GODFRYPHLP' 'ORIENTBANK' 'KSCL' 'GSFC' 'CEATLTD' 'IFCI' 'INDIANB'\n",
            " 'INFIBEAM' 'SOUTHBANK' 'RPOWER' 'JPASSOCIAT' 'RCOM' 'SREINFRA' 'PTC'\n",
            " 'IDFCBANK' 'KPIT' 'HCC' 'GRANULES' 'DALMIABHA' 'CAPF' 'ANDHRABANK'\n",
            " 'BALRAMCHIN' 'RNAVAL' 'FORTIS' 'HDIL' 'JSWENERGY' 'ICIL' 'IBREALEST'\n",
            " 'RDEL' 'SINTEX' 'ABIRLANUVO' 'CAIRN' 'CROMPGREAV' 'MCLEODRUSS' 'UCOBANK'\n",
            " 'IOB' 'SKSMICRO' 'UNITECH' 'JPPOWER' 'AMTEKAUTO' 'SSLT' 'RANBAXY'\n",
            " 'GSKCONS' 'FRL' 'DENABANK' 'VIJAYABANK' 'GSPL' 'SESAGOA' 'CHAMBLFERT'\n",
            " 'PUNJLLOYD' 'INDHOTEL' 'OPTOCIRCUI' 'FINANTECH' 'UNIPHOS' 'RENUKA' 'STER'\n",
            " 'IVRCLINFRA' 'PANTALOONR' 'BHUSANSTL' 'GVKPIL' 'WELCORP' 'ABB'\n",
            " 'GUJFLUORO' 'MPHASIS' 'ALOKTEXT' 'RUCHISOYA' 'HINDOILEXP' 'LITL'\n",
            " 'JINDALSAW' 'GMDCLTD' 'NAGAROIL' 'SOBHA' 'ABAN' 'COREEDUTEC' 'CENTRALBK'\n",
            " 'EDUCOMP' 'POLARIS' 'MTNL' 'TTKPRESTIG' 'TTML' 'BOMDYEING' 'SCI'\n",
            " 'STRTECH' 'VIPIND' 'AIL' 'VIDEOIND' 'GLAXO' 'BGRENERGY' 'JSWISPAT'\n",
            " 'ONMOBILE' 'BAJAJHLDNG' 'DELTACORP' 'INDIAINFO' 'ORCHIDCHEM' 'PRAJIND'\n",
            " 'MAX' 'SKUMARSYNF' 'TATACOFFEE' 'BAJAJHIND' 'PIRHEALTH' 'ROLTA'\n",
            " 'ESSAROIL' 'DCB' 'PATELENG' 'BFUTILITIE' 'GESHIP' 'BRFL' 'ABGSHIP' 'APIL'\n",
            " 'ALSTOMT&D' 'MERCATOR' 'EKC' 'DHANBANK' 'DCHL' 'PATNI' 'HOTELEELA'\n",
            " 'KSOILS' 'KFA' 'JINDALSWHL' 'MUNDRAPORT' 'AREVAT&D' 'GITANJALI'\n",
            " 'GTOFFSHORE' 'NEYVELILIG' 'TULIP' '3IINFOTECH' 'MLL' 'FSL' 'TRIVENI'\n",
            " 'GTLINFRA' 'NAGARFERT' 'MOSERBAER' 'COREPROTEC' 'GTL' 'ISPATIND'\n",
            " 'HEROHONDA' 'TV-18' 'ORBITCORP' 'INFOSYSTCH' 'RELMEDIA' 'STERLINBIO'\n",
            " 'NAGARCONST' 'NOIDATOLL' 'ICSA' 'RNRL' 'TATATEA' 'SAMRUDDHI' 'WELGUJ'\n",
            " 'JPHYDRO' 'ADLABSFILM' 'JSL' 'RPL' 'MAHSEAMLES' 'SREINTFIN' 'KESORAMIND'\n",
            " 'EVERONN' 'EDELWEISS' 'NIITLTD' 'THERMAX' 'RIIL' 'APTECHT' 'NETWORK18'\n",
            " 'BIRLACORPN' 'KSK' 'UTVSOF' 'HCL-INSYS' 'PENINLAND' 'NDTV' 'MAHLIFE'\n",
            " 'GUJALKALI' 'MONNETISPA' 'BALLARPUR' 'LAXMIMACH' 'NBVENTURES' 'CORPBANK'\n",
            " 'GNFC' 'RAJESHEXPO' 'GDL' 'BALAJITELE' 'VOLTAMP' 'MATRIXLABS'\n",
            " 'WALCHANNAG' 'AKRUTI' 'PRISMCEM' 'J&KBANK' 'PURVA' 'BINDALAGRO'\n",
            " 'ANSALINFRA' 'PARSVNATH' 'BONGAIREFN' 'BRIGADE' 'MIC' 'SATYAMCOMP'\n",
            " 'REDINGTON' 'CMC' 'AIAENG' 'IVRPRIME' 'IBN18' 'NUCLEUS' 'OMAXE' 'WWIL'\n",
            " 'KLGSYSTEL' 'JSTAINLESS' 'HINDUJAVEN' 'AIRDECCAN' 'BIRLAJUTE' 'SASKEN'\n",
            " 'HTMTGLOBAL' 'ARVINDMILL' 'I-FLEX' 'REL' 'NICOLASPIR' 'GBN' 'MICO'\n",
            " 'BAJAJAUTO' 'VSNL' 'BILT' 'HINDUJATMT' 'IPCL' 'GESCOCORP' 'STROPTICAL'\n",
            " 'COLGATE' 'GUJAMBCEM' 'UTIBANK' 'HINDALC0' 'HINDLEVER' 'ZEETELE' 'HTMT'\n",
            " 'GESHIPPING' 'COCHINREFN' 'MPHASISBFL' 'BHARTI' 'VDOCONINTL' 'NIPPONDENR'\n",
            " 'KIRLOSKCUM' 'TISCO' 'PFIZER' 'INDRAYON' 'NIIT' 'BSES' 'MASTEK' 'L&T'\n",
            " 'DIGITALEQP' 'TELCO' 'RELPETRO' 'ICICI']\n"
          ]
        },
        {
          "name": "stderr",
          "output_type": "stream",
          "text": [
            "\r",
            "                                                                                \r"
          ]
        }
      ],
      "source": [
        "import numpy as np\n",
        "all_options = np.array(data.filter(data['INSTRUMENT'] == 'OPTSTK').select('SYMBOL').distinct().collect()).tolist()\n",
        "#print all the different stock names\n",
        "all_option_1d_array = np.reshape(all_options,(1,-1))\n",
        "all_option_1d_array = all_option_1d_array[0]\n",
        "print(all_option_1d_array)"
      ]
    },
    {
      "cell_type": "code",
      "execution_count": 15,
      "metadata": {
        "id": "aMYckVjojHhR"
      },
      "outputs": [],
      "source": [
        "industry_leader_in_each_sector = ['NAUKRI', 'JUBLFOOD', 'PIIND',\n",
        "                                  'SIEMENS', 'ULTRACEMCO', 'BHARATIARTL', 'ADANITRANS']"
      ]
    },
    {
      "cell_type": "code",
      "execution_count": 10,
      "metadata": {
        "id": "ypCO7ciVjHhR",
        "outputId": "c0ffd40b-2d43-4875-b5be-13705c56b38e",
        "colab": {
          "base_uri": "https://localhost:8080/"
        }
      },
      "outputs": [
        {
          "output_type": "stream",
          "name": "stderr",
          "text": [
            "IOPub data rate exceeded.\n",
            "The notebook server will temporarily stop sending output\n",
            "to the client in order to avoid crashing it.\n",
            "To change this limit, set the config variable\n",
            "`--NotebookApp.iopub_data_rate_limit`.\n",
            "\n",
            "Current values:\n",
            "NotebookApp.iopub_data_rate_limit=1000000.0 (bytes/sec)\n",
            "NotebookApp.rate_limit_window=3.0 (secs)\n",
            "\n"
          ]
        }
      ],
      "source": [
        "option_data_LT = data.filter( \\\n",
        "                        (data['SYMBOL'] == 'LT') & \\\n",
        "                        (data['INSTRUMENT'] == 'OPTSTK') &\n",
        "                        ~(col(\"OPEN\") == 0) &  ~(col(\"HIGH\") == 0) & \\\n",
        "                        ~(col(\"LOW\") == 0) & \\\n",
        "                        ~(col(\"CLOSE\") == 0) & \\\n",
        "                        ~(col(\"SETTLE_PR\") == 0) & \\\n",
        "                        ~(col(\"CONTRACTS\") == 0) & \\\n",
        "                        ~(col(\"VAL_INLAKH\") == 0) & \\\n",
        "                        ~(col(\"OPEN_INT\") == 0) & \\\n",
        "                        ~(col(\"CHG_IN_OI\") == 0)\n",
        "                        ).collect()\n"
      ]
    },
    {
      "cell_type": "code",
      "execution_count": 11,
      "metadata": {
        "id": "O0x7hoTDjHhR",
        "outputId": "7e13a938-ddc4-43d7-be37-edd5e64d632d",
        "colab": {
          "base_uri": "https://localhost:8080/"
        }
      },
      "outputs": [
        {
          "output_type": "execute_result",
          "data": {
            "text/plain": [
              "633054"
            ]
          },
          "metadata": {},
          "execution_count": 11
        }
      ],
      "source": [
        "len(option_data_LT)"
      ]
    },
    {
      "cell_type": "code",
      "execution_count": null,
      "metadata": {
        "id": "wFpA799EjHhS",
        "outputId": "036b7819-5d53-4245-f0c6-06836da5eed1"
      },
      "outputs": [
        {
          "data": {
            "text/plain": [
              "list"
            ]
          },
          "execution_count": 17,
          "metadata": {},
          "output_type": "execute_result"
        }
      ],
      "source": [
        "type(option_data_LT)"
      ]
    },
    {
      "cell_type": "code",
      "execution_count": 12,
      "metadata": {
        "id": "YZT9u865jHhS"
      },
      "outputs": [],
      "source": [
        "import csv\n",
        "header = ['INSTRUMENT','SYMBOL','EXPIRY_DT','STRIKE_PR','OPTION_TYP','OPEN','HIGH','LOW','CLOSE','SETTLE_PR','CONTRACTS','VAL_INLAKH','OPEN_INT','CHG_IN_OI','TIMESTAMP','Unnamed']\n",
        "with open('lt_option.csv','w') as f:\n",
        "    writer = csv.writer(f)\n",
        "    writer.writerow(header)\n",
        "    writer.writerows(option_data_LT)\n"
      ]
    },
    {
      "cell_type": "code",
      "execution_count": null,
      "metadata": {
        "id": "XOPZMr_8jHhS",
        "outputId": "4278ad17-4faf-435c-ec7d-e234f14525c4"
      },
      "outputs": [
        {
          "data": {
            "text/plain": [
              "643420"
            ]
          },
          "execution_count": 10,
          "metadata": {},
          "output_type": "execute_result"
        }
      ],
      "source": [
        "option_data_LT.count()"
      ]
    },
    {
      "cell_type": "code",
      "execution_count": null,
      "metadata": {
        "id": "RS4dlEHAjHhS",
        "outputId": "7ca81a62-5bb7-4765-873e-9f75e8da5040"
      },
      "outputs": [
        {
          "data": {
            "text/plain": [
              "94010"
            ]
          },
          "execution_count": 4,
          "metadata": {},
          "output_type": "execute_result"
        }
      ],
      "source": [
        "for name in all_option_1d_array"
      ]
    },
    {
      "cell_type": "code",
      "execution_count": null,
      "metadata": {
        "id": "gAqaDnU8jHhS",
        "outputId": "4f843cb4-7c40-4a01-d35a-5cd953f72eeb"
      },
      "outputs": [
        {
          "name": "stdout",
          "output_type": "stream",
          "text": [
            "  INSTRUMENT SYMBOL  EXPIRY_DT  STRIKE_PR OPTION_TYP  OPEN  HIGH  LOW   CLOSE  \\\n",
            "0     OPTSTK     LT 2020-09-24      680.0         CE   0.0   0.0  0.0  278.10   \n",
            "1     OPTSTK     LT 2020-09-24      700.0         CE   0.0   0.0  0.0  260.55   \n",
            "2     OPTSTK     LT 2020-09-24      720.0         CE   0.0   0.0  0.0  243.45   \n",
            "3     OPTSTK     LT 2020-09-24      740.0         CE   0.0   0.0  0.0  230.00   \n",
            "4     OPTSTK     LT 2020-09-24      760.0         CE   0.0   0.0  0.0  210.90   \n",
            "\n",
            "   SETTLE_PR  CONTRACTS  VAL_INLAKH  OPEN_INT  CHG_IN_OI    TIMESTAMP  Unnamed  \n",
            "0     266.85        0.0         0.0       0.0        0.0  31-AUG-2020      NaN  \n",
            "1     246.90        0.0         0.0       0.0        0.0  31-AUG-2020      NaN  \n",
            "2     227.00        0.0         0.0       0.0        0.0  31-AUG-2020      NaN  \n",
            "3     207.10        0.0         0.0    3300.0        0.0  31-AUG-2020      NaN  \n",
            "4     187.35        0.0         0.0       0.0        0.0  31-AUG-2020      NaN  \n",
            "                           EXPIRY_DT      STRIKE_PR           OPEN  \\\n",
            "count                         633054  633054.000000  633054.000000   \n",
            "mean   2014-06-01 22:19:29.985498624    1490.443138       8.102865   \n",
            "min              2006-09-28 00:00:00     500.000000       0.000000   \n",
            "25%              2011-05-26 00:00:00    1120.000000       0.000000   \n",
            "50%              2014-05-29 00:00:00    1380.000000       0.000000   \n",
            "75%              2017-09-28 00:00:00    1700.000000       0.000000   \n",
            "max              2020-11-26 00:00:00    4650.000000    1100.000000   \n",
            "std                              NaN     607.271254      32.885718   \n",
            "\n",
            "                HIGH            LOW          CLOSE      SETTLE_PR  \\\n",
            "count  633054.000000  633054.000000  633054.000000  633054.000000   \n",
            "mean        8.884736       7.426033     151.793237     152.822130   \n",
            "min         0.000000       0.000000       0.000000       0.000000   \n",
            "25%         0.000000       0.000000      14.250000       4.500000   \n",
            "50%         0.000000       0.000000      88.000000      68.000000   \n",
            "75%         0.000000       0.000000     232.850000     229.537500   \n",
            "max      1100.000000    1055.000000    1060.000000    2114.250000   \n",
            "std        34.579798      31.658891     177.185944     204.031608   \n",
            "\n",
            "           CONTRACTS     VAL_INLAKH      OPEN_INT      CHG_IN_OI  Unnamed  \n",
            "count  633054.000000  633054.000000  6.330540e+05  633054.000000      0.0  \n",
            "mean       40.552935     198.498555  1.354541e+04     611.510629      NaN  \n",
            "min         0.000000       0.000000  0.000000e+00 -651750.000000      NaN  \n",
            "25%         0.000000       0.000000  0.000000e+00       0.000000      NaN  \n",
            "50%         0.000000       0.000000  0.000000e+00       0.000000      NaN  \n",
            "75%         0.000000       0.000000  3.000000e+02       0.000000      NaN  \n",
            "max     27481.000000  127443.690000  2.146650e+06  963000.000000      NaN  \n",
            "std       268.023914    1373.474222  5.951689e+04   11441.694886      NaN  \n"
          ]
        },
        {
          "data": {
            "image/png": "[encoded data removed]",
            "text/plain": [
              "<Figure size 432x288 with 1 Axes>"
            ]
          },
          "metadata": {
            "needs_background": "light"
          },
          "output_type": "display_data"
        }
      ],
      "source": [
        "import pandas as pd\n",
        "import numpy as np\n",
        "import matplotlib.pyplot as plt\n",
        "\n",
        "# Read the data\n",
        "data = pd.read_csv('lt_option.csv')\n",
        "\n",
        "# Convert 'EXPIRY_DT' to datetime with mixed format\n",
        "data['EXPIRY_DT'] = pd.to_datetime(data['EXPIRY_DT'], format='mixed', dayfirst=True)\n",
        "\n",
        "# Perform basic EDA\n",
        "print(data.head())\n",
        "print(data.describe())\n",
        "\n",
        "# Plot stock price movements over time\n",
        "plt.plot(data['EXPIRY_DT'].values, data['CLOSE'].values)\n",
        "plt.xlabel('Date')\n",
        "plt.ylabel('Close Price')\n",
        "plt.title('Stock Price Movement')\n",
        "plt.show()\n"
      ]
    },
    {
      "cell_type": "code",
      "execution_count": null,
      "metadata": {
        "id": "zqESVNbbjHhT",
        "outputId": "7e1bf73e-4447-4700-ab03-84477e5d245e"
      },
      "outputs": [
        {
          "data": {
            "image/png": "[encoded data removed]",
            "text/plain": [
              "<Figure size 432x288 with 1 Axes>"
            ]
          },
          "metadata": {
            "needs_background": "light"
          },
          "output_type": "display_data"
        }
      ],
      "source": [
        "import pandas as pd\n",
        "import matplotlib.pyplot as plt\n",
        "\n",
        "# Read the data\n",
        "data_1 = pd.read_csv('lt_option.csv')\n",
        "\n",
        "# Convert 'EXPIRY_DT' to datetime with mixed format\n",
        "data_1['EXPIRY_DT'] = pd.to_datetime(data_1['EXPIRY_DT'], format='mixed', dayfirst=True)\n",
        "\n",
        "# Plot volume vs date\n",
        "plt.plot(data_1['EXPIRY_DT'].to_numpy(), data_1['CONTRACTS'].to_numpy())\n",
        "plt.xlabel('Date')\n",
        "plt.ylabel('Volume')\n",
        "plt.title('Volume vs Date')\n",
        "plt.xticks(rotation=45)  # Rotate x-axis labels for better readability\n",
        "plt.tight_layout()  # Adjust layout to prevent clipping of labels\n",
        "plt.show()\n"
      ]
    },
    {
      "cell_type": "markdown",
      "source": [
        "# Cleaning the dataset of any values wich are 0"
      ],
      "metadata": {
        "id": "VUACAinFl324"
      }
    },
    {
      "cell_type": "code",
      "execution_count": null,
      "metadata": {
        "id": "vIiZQrrSjHhT",
        "outputId": "58418451-351f-493c-cc50-16d3efe80608"
      },
      "outputs": [
        {
          "name": "stdout",
          "output_type": "stream",
          "text": [
            "+----------+------+-----------+---------+----------+-----+-----+-----+-----+---------+---------+----------+---------+---------+-----------+-------+\n",
            "|INSTRUMENT|SYMBOL|  EXPIRY_DT|STRIKE_PR|OPTION_TYP| OPEN| HIGH|  LOW|CLOSE|SETTLE_PR|CONTRACTS|VAL_INLAKH| OPEN_INT|CHG_IN_OI|  TIMESTAMP|Unnamed|\n",
            "+----------+------+-----------+---------+----------+-----+-----+-----+-----+---------+---------+----------+---------+---------+-----------+-------+\n",
            "|    OPTSTK|    LT|24-Sep-2020|    840.0|        CE|148.7|148.7|148.7|148.7|   111.25|      1.0|      5.43|    550.0|    550.0|31-AUG-2020|   NULL|\n",
            "|    OPTSTK|    LT|24-Sep-2020|    860.0|        CE|134.0|134.0|120.0|120.0|     94.0|      5.0|     27.04|   2750.0|   2750.0|31-AUG-2020|   NULL|\n",
            "|    OPTSTK|    LT|24-Sep-2020|    880.0|        CE| 84.0| 84.0| 83.8| 83.8|    77.95|      2.0|      10.6|   1100.0|   1100.0|31-AUG-2020|   NULL|\n",
            "|    OPTSTK|    LT|24-Sep-2020|    900.0|        CE|100.1|102.5| 65.0|68.05|    68.05|    154.0|    830.18| 152350.0|  29700.0|31-AUG-2020|   NULL|\n",
            "|    OPTSTK|    LT|24-Sep-2020|    940.0|        CE| 69.3|69.35|39.75|41.45|    41.45|    585.0|   3167.75| 169400.0|  -4950.0|31-AUG-2020|   NULL|\n",
            "|    OPTSTK|    LT|24-Sep-2020|    960.0|        CE| 54.7| 57.4|31.05| 32.9|     32.9|   1711.0|   9393.74| 338250.0| 121000.0|31-AUG-2020|   NULL|\n",
            "|    OPTSTK|    LT|24-Sep-2020|    980.0|        CE|44.35| 45.5| 23.9| 25.1|     25.1|   2590.0|  14401.04| 609400.0| 313500.0|31-AUG-2020|   NULL|\n",
            "|    OPTSTK|    LT|24-Sep-2020|   1000.0|        CE| 34.0|35.05| 18.7| 19.6|     19.6|   6152.0|  34681.95|2146650.0| 273900.0|31-AUG-2020|   NULL|\n",
            "|    OPTSTK|    LT|24-Sep-2020|   1020.0|        CE|26.25| 27.8| 14.5|15.25|    15.25|   3327.0|  19029.93| 754050.0| 110550.0|31-AUG-2020|   NULL|\n",
            "|    OPTSTK|    LT|24-Sep-2020|   1040.0|        CE| 20.6| 20.8| 11.1|11.75|    11.75|   2737.0|  15883.52| 691350.0| 133100.0|31-AUG-2020|   NULL|\n",
            "|    OPTSTK|    LT|24-Sep-2020|   1060.0|        CE| 15.1| 15.7|  8.5|  9.0|      9.0|   1261.0|   7430.55| 471350.0|  93500.0|31-AUG-2020|   NULL|\n",
            "|    OPTSTK|    LT|24-Sep-2020|   1080.0|        CE|12.05|12.05| 6.45| 6.85|     6.85|    652.0|   3904.51| 233200.0|  37950.0|31-AUG-2020|   NULL|\n",
            "|    OPTSTK|    LT|24-Sep-2020|   1100.0|        CE| 8.55|  9.1| 5.05| 5.35|     5.35|   1940.0|  11807.22| 884950.0| -17600.0|31-AUG-2020|   NULL|\n",
            "|    OPTSTK|    LT|24-Sep-2020|   1120.0|        CE|  6.6| 7.05|  4.1| 4.25|     4.25|    297.0|   1838.31| 114400.0|  24200.0|31-AUG-2020|   NULL|\n",
            "|    OPTSTK|    LT|24-Sep-2020|   1140.0|        CE| 7.25| 7.25|  3.2| 3.45|     3.45|    273.0|   1717.94| 176550.0|  13750.0|31-AUG-2020|   NULL|\n",
            "|    OPTSTK|    LT|24-Sep-2020|   1160.0|        CE|  3.9| 4.95|  2.5|  2.6|      2.6|    150.0|    959.65|  67650.0|  12650.0|31-AUG-2020|   NULL|\n",
            "|    OPTSTK|    LT|24-Sep-2020|   1180.0|        CE|  3.4|  3.4| 1.95| 2.15|     2.15|    200.0|   1300.59| 189750.0|  24200.0|31-AUG-2020|   NULL|\n",
            "|    OPTSTK|    LT|24-Sep-2020|    800.0|        PE| 1.25| 4.75| 1.25|  3.9|      3.9|     98.0|    432.91|  53350.0|  26950.0|31-AUG-2020|   NULL|\n",
            "|    OPTSTK|    LT|24-Sep-2020|    840.0|        PE|  2.1| 7.45|  2.1|  6.5|      6.5|     34.0|    158.24|  18150.0|   8250.0|31-AUG-2020|   NULL|\n",
            "|    OPTSTK|    LT|24-Sep-2020|    860.0|        PE|  2.5| 10.0|  2.1|  9.5|      9.5|    615.0|   2934.19| 147400.0| 105600.0|31-AUG-2020|   NULL|\n",
            "+----------+------+-----------+---------+----------+-----+-----+-----+-----+---------+---------+----------+---------+---------+-----------+-------+\n",
            "only showing top 20 rows\n",
            "\n"
          ]
        }
      ],
      "source": [
        "from pyspark.sql import SparkSession\n",
        "from pyspark.sql.functions import col\n",
        "\n",
        "# Assuming 'df' is your DataFrame containing the data\n",
        "# Read the data from CSV\n",
        "df = spark.read.csv(\"lt_option.csv\", header=True, inferSchema=True)\n",
        "\n",
        "# Drop rows with any column value equal to 0\n",
        "df_filtered = df.filter(~(col(\"OPEN\") == 0) &\n",
        "                        ~(col(\"HIGH\") == 0) &\n",
        "                        ~(col(\"LOW\") == 0) &\n",
        "                        ~(col(\"CLOSE\") == 0) &\n",
        "                        ~(col(\"SETTLE_PR\") == 0) &\n",
        "                        ~(col(\"CONTRACTS\") == 0) &\n",
        "                        ~(col(\"VAL_INLAKH\") == 0) &\n",
        "                        ~(col(\"OPEN_INT\") == 0) &\n",
        "                        ~(col(\"CHG_IN_OI\") == 0))\n",
        "\n",
        "# Show the resulting DataFrame\n",
        "df_filtered.show(vertical=True)\n"
      ]
    },
    {
      "cell_type": "code",
      "execution_count": null,
      "metadata": {
        "id": "h42-lK6FjHhT",
        "outputId": "ae27098f-d5fa-42e8-b538-96ac406290b6"
      },
      "outputs": [
        {
          "name": "stdout",
          "output_type": "stream",
          "text": [
            "-RECORD 0-----------------\n",
            " INSTRUMENT | OPTSTK      \n",
            " SYMBOL     | LT          \n",
            " EXPIRY_DT  | 24-Sep-2020 \n",
            " STRIKE_PR  | 840.0       \n",
            " OPTION_TYP | CE          \n",
            " OPEN       | 148.7       \n",
            " HIGH       | 148.7       \n",
            " LOW        | 148.7       \n",
            " CLOSE      | 148.7       \n",
            " SETTLE_PR  | 111.25      \n",
            " CONTRACTS  | 1.0         \n",
            " VAL_INLAKH | 5.43        \n",
            " OPEN_INT   | 550.0       \n",
            " CHG_IN_OI  | 550.0       \n",
            " TIMESTAMP  | 31-AUG-2020 \n",
            " Unnamed    | NULL        \n",
            "-RECORD 1-----------------\n",
            " INSTRUMENT | OPTSTK      \n",
            " SYMBOL     | LT          \n",
            " EXPIRY_DT  | 24-Sep-2020 \n",
            " STRIKE_PR  | 860.0       \n",
            " OPTION_TYP | CE          \n",
            " OPEN       | 134.0       \n",
            " HIGH       | 134.0       \n",
            " LOW        | 120.0       \n",
            " CLOSE      | 120.0       \n",
            " SETTLE_PR  | 94.0        \n",
            " CONTRACTS  | 5.0         \n",
            " VAL_INLAKH | 27.04       \n",
            " OPEN_INT   | 2750.0      \n",
            " CHG_IN_OI  | 2750.0      \n",
            " TIMESTAMP  | 31-AUG-2020 \n",
            " Unnamed    | NULL        \n",
            "-RECORD 2-----------------\n",
            " INSTRUMENT | OPTSTK      \n",
            " SYMBOL     | LT          \n",
            " EXPIRY_DT  | 24-Sep-2020 \n",
            " STRIKE_PR  | 880.0       \n",
            " OPTION_TYP | CE          \n",
            " OPEN       | 84.0        \n",
            " HIGH       | 84.0        \n",
            " LOW        | 83.8        \n",
            " CLOSE      | 83.8        \n",
            " SETTLE_PR  | 77.95       \n",
            " CONTRACTS  | 2.0         \n",
            " VAL_INLAKH | 10.6        \n",
            " OPEN_INT   | 1100.0      \n",
            " CHG_IN_OI  | 1100.0      \n",
            " TIMESTAMP  | 31-AUG-2020 \n",
            " Unnamed    | NULL        \n",
            "-RECORD 3-----------------\n",
            " INSTRUMENT | OPTSTK      \n",
            " SYMBOL     | LT          \n",
            " EXPIRY_DT  | 24-Sep-2020 \n",
            " STRIKE_PR  | 900.0       \n",
            " OPTION_TYP | CE          \n",
            " OPEN       | 100.1       \n",
            " HIGH       | 102.5       \n",
            " LOW        | 65.0        \n",
            " CLOSE      | 68.05       \n",
            " SETTLE_PR  | 68.05       \n",
            " CONTRACTS  | 154.0       \n",
            " VAL_INLAKH | 830.18      \n",
            " OPEN_INT   | 152350.0    \n",
            " CHG_IN_OI  | 29700.0     \n",
            " TIMESTAMP  | 31-AUG-2020 \n",
            " Unnamed    | NULL        \n",
            "-RECORD 4-----------------\n",
            " INSTRUMENT | OPTSTK      \n",
            " SYMBOL     | LT          \n",
            " EXPIRY_DT  | 24-Sep-2020 \n",
            " STRIKE_PR  | 940.0       \n",
            " OPTION_TYP | CE          \n",
            " OPEN       | 69.3        \n",
            " HIGH       | 69.35       \n",
            " LOW        | 39.75       \n",
            " CLOSE      | 41.45       \n",
            " SETTLE_PR  | 41.45       \n",
            " CONTRACTS  | 585.0       \n",
            " VAL_INLAKH | 3167.75     \n",
            " OPEN_INT   | 169400.0    \n",
            " CHG_IN_OI  | -4950.0     \n",
            " TIMESTAMP  | 31-AUG-2020 \n",
            " Unnamed    | NULL        \n",
            "-RECORD 5-----------------\n",
            " INSTRUMENT | OPTSTK      \n",
            " SYMBOL     | LT          \n",
            " EXPIRY_DT  | 24-Sep-2020 \n",
            " STRIKE_PR  | 960.0       \n",
            " OPTION_TYP | CE          \n",
            " OPEN       | 54.7        \n",
            " HIGH       | 57.4        \n",
            " LOW        | 31.05       \n",
            " CLOSE      | 32.9        \n",
            " SETTLE_PR  | 32.9        \n",
            " CONTRACTS  | 1711.0      \n",
            " VAL_INLAKH | 9393.74     \n",
            " OPEN_INT   | 338250.0    \n",
            " CHG_IN_OI  | 121000.0    \n",
            " TIMESTAMP  | 31-AUG-2020 \n",
            " Unnamed    | NULL        \n",
            "-RECORD 6-----------------\n",
            " INSTRUMENT | OPTSTK      \n",
            " SYMBOL     | LT          \n",
            " EXPIRY_DT  | 24-Sep-2020 \n",
            " STRIKE_PR  | 980.0       \n",
            " OPTION_TYP | CE          \n",
            " OPEN       | 44.35       \n",
            " HIGH       | 45.5        \n",
            " LOW        | 23.9        \n",
            " CLOSE      | 25.1        \n",
            " SETTLE_PR  | 25.1        \n",
            " CONTRACTS  | 2590.0      \n",
            " VAL_INLAKH | 14401.04    \n",
            " OPEN_INT   | 609400.0    \n",
            " CHG_IN_OI  | 313500.0    \n",
            " TIMESTAMP  | 31-AUG-2020 \n",
            " Unnamed    | NULL        \n",
            "-RECORD 7-----------------\n",
            " INSTRUMENT | OPTSTK      \n",
            " SYMBOL     | LT          \n",
            " EXPIRY_DT  | 24-Sep-2020 \n",
            " STRIKE_PR  | 1000.0      \n",
            " OPTION_TYP | CE          \n",
            " OPEN       | 34.0        \n",
            " HIGH       | 35.05       \n",
            " LOW        | 18.7        \n",
            " CLOSE      | 19.6        \n",
            " SETTLE_PR  | 19.6        \n",
            " CONTRACTS  | 6152.0      \n",
            " VAL_INLAKH | 34681.95    \n",
            " OPEN_INT   | 2146650.0   \n",
            " CHG_IN_OI  | 273900.0    \n",
            " TIMESTAMP  | 31-AUG-2020 \n",
            " Unnamed    | NULL        \n",
            "-RECORD 8-----------------\n",
            " INSTRUMENT | OPTSTK      \n",
            " SYMBOL     | LT          \n",
            " EXPIRY_DT  | 24-Sep-2020 \n",
            " STRIKE_PR  | 1020.0      \n",
            " OPTION_TYP | CE          \n",
            " OPEN       | 26.25       \n",
            " HIGH       | 27.8        \n",
            " LOW        | 14.5        \n",
            " CLOSE      | 15.25       \n",
            " SETTLE_PR  | 15.25       \n",
            " CONTRACTS  | 3327.0      \n",
            " VAL_INLAKH | 19029.93    \n",
            " OPEN_INT   | 754050.0    \n",
            " CHG_IN_OI  | 110550.0    \n",
            " TIMESTAMP  | 31-AUG-2020 \n",
            " Unnamed    | NULL        \n",
            "-RECORD 9-----------------\n",
            " INSTRUMENT | OPTSTK      \n",
            " SYMBOL     | LT          \n",
            " EXPIRY_DT  | 24-Sep-2020 \n",
            " STRIKE_PR  | 1040.0      \n",
            " OPTION_TYP | CE          \n",
            " OPEN       | 20.6        \n",
            " HIGH       | 20.8        \n",
            " LOW        | 11.1        \n",
            " CLOSE      | 11.75       \n",
            " SETTLE_PR  | 11.75       \n",
            " CONTRACTS  | 2737.0      \n",
            " VAL_INLAKH | 15883.52    \n",
            " OPEN_INT   | 691350.0    \n",
            " CHG_IN_OI  | 133100.0    \n",
            " TIMESTAMP  | 31-AUG-2020 \n",
            " Unnamed    | NULL        \n",
            "-RECORD 10----------------\n",
            " INSTRUMENT | OPTSTK      \n",
            " SYMBOL     | LT          \n",
            " EXPIRY_DT  | 24-Sep-2020 \n",
            " STRIKE_PR  | 1060.0      \n",
            " OPTION_TYP | CE          \n",
            " OPEN       | 15.1        \n",
            " HIGH       | 15.7        \n",
            " LOW        | 8.5         \n",
            " CLOSE      | 9.0         \n",
            " SETTLE_PR  | 9.0         \n",
            " CONTRACTS  | 1261.0      \n",
            " VAL_INLAKH | 7430.55     \n",
            " OPEN_INT   | 471350.0    \n",
            " CHG_IN_OI  | 93500.0     \n",
            " TIMESTAMP  | 31-AUG-2020 \n",
            " Unnamed    | NULL        \n",
            "-RECORD 11----------------\n",
            " INSTRUMENT | OPTSTK      \n",
            " SYMBOL     | LT          \n",
            " EXPIRY_DT  | 24-Sep-2020 \n",
            " STRIKE_PR  | 1080.0      \n",
            " OPTION_TYP | CE          \n",
            " OPEN       | 12.05       \n",
            " HIGH       | 12.05       \n",
            " LOW        | 6.45        \n",
            " CLOSE      | 6.85        \n",
            " SETTLE_PR  | 6.85        \n",
            " CONTRACTS  | 652.0       \n",
            " VAL_INLAKH | 3904.51     \n",
            " OPEN_INT   | 233200.0    \n",
            " CHG_IN_OI  | 37950.0     \n",
            " TIMESTAMP  | 31-AUG-2020 \n",
            " Unnamed    | NULL        \n",
            "-RECORD 12----------------\n",
            " INSTRUMENT | OPTSTK      \n",
            " SYMBOL     | LT          \n",
            " EXPIRY_DT  | 24-Sep-2020 \n",
            " STRIKE_PR  | 1100.0      \n",
            " OPTION_TYP | CE          \n",
            " OPEN       | 8.55        \n",
            " HIGH       | 9.1         \n",
            " LOW        | 5.05        \n",
            " CLOSE      | 5.35        \n",
            " SETTLE_PR  | 5.35        \n",
            " CONTRACTS  | 1940.0      \n",
            " VAL_INLAKH | 11807.22    \n",
            " OPEN_INT   | 884950.0    \n",
            " CHG_IN_OI  | -17600.0    \n",
            " TIMESTAMP  | 31-AUG-2020 \n",
            " Unnamed    | NULL        \n",
            "-RECORD 13----------------\n",
            " INSTRUMENT | OPTSTK      \n",
            " SYMBOL     | LT          \n",
            " EXPIRY_DT  | 24-Sep-2020 \n",
            " STRIKE_PR  | 1120.0      \n",
            " OPTION_TYP | CE          \n",
            " OPEN       | 6.6         \n",
            " HIGH       | 7.05        \n",
            " LOW        | 4.1         \n",
            " CLOSE      | 4.25        \n",
            " SETTLE_PR  | 4.25        \n",
            " CONTRACTS  | 297.0       \n",
            " VAL_INLAKH | 1838.31     \n",
            " OPEN_INT   | 114400.0    \n",
            " CHG_IN_OI  | 24200.0     \n",
            " TIMESTAMP  | 31-AUG-2020 \n",
            " Unnamed    | NULL        \n",
            "-RECORD 14----------------\n",
            " INSTRUMENT | OPTSTK      \n",
            " SYMBOL     | LT          \n",
            " EXPIRY_DT  | 24-Sep-2020 \n",
            " STRIKE_PR  | 1140.0      \n",
            " OPTION_TYP | CE          \n",
            " OPEN       | 7.25        \n",
            " HIGH       | 7.25        \n",
            " LOW        | 3.2         \n",
            " CLOSE      | 3.45        \n",
            " SETTLE_PR  | 3.45        \n",
            " CONTRACTS  | 273.0       \n",
            " VAL_INLAKH | 1717.94     \n",
            " OPEN_INT   | 176550.0    \n",
            " CHG_IN_OI  | 13750.0     \n",
            " TIMESTAMP  | 31-AUG-2020 \n",
            " Unnamed    | NULL        \n",
            "-RECORD 15----------------\n",
            " INSTRUMENT | OPTSTK      \n",
            " SYMBOL     | LT          \n",
            " EXPIRY_DT  | 24-Sep-2020 \n",
            " STRIKE_PR  | 1160.0      \n",
            " OPTION_TYP | CE          \n",
            " OPEN       | 3.9         \n",
            " HIGH       | 4.95        \n",
            " LOW        | 2.5         \n",
            " CLOSE      | 2.6         \n",
            " SETTLE_PR  | 2.6         \n",
            " CONTRACTS  | 150.0       \n",
            " VAL_INLAKH | 959.65      \n",
            " OPEN_INT   | 67650.0     \n",
            " CHG_IN_OI  | 12650.0     \n",
            " TIMESTAMP  | 31-AUG-2020 \n",
            " Unnamed    | NULL        \n",
            "-RECORD 16----------------\n",
            " INSTRUMENT | OPTSTK      \n",
            " SYMBOL     | LT          \n",
            " EXPIRY_DT  | 24-Sep-2020 \n",
            " STRIKE_PR  | 1180.0      \n",
            " OPTION_TYP | CE          \n",
            " OPEN       | 3.4         \n",
            " HIGH       | 3.4         \n",
            " LOW        | 1.95        \n",
            " CLOSE      | 2.15        \n",
            " SETTLE_PR  | 2.15        \n",
            " CONTRACTS  | 200.0       \n",
            " VAL_INLAKH | 1300.59     \n",
            " OPEN_INT   | 189750.0    \n",
            " CHG_IN_OI  | 24200.0     \n",
            " TIMESTAMP  | 31-AUG-2020 \n",
            " Unnamed    | NULL        \n",
            "-RECORD 17----------------\n",
            " INSTRUMENT | OPTSTK      \n",
            " SYMBOL     | LT          \n",
            " EXPIRY_DT  | 24-Sep-2020 \n",
            " STRIKE_PR  | 800.0       \n",
            " OPTION_TYP | PE          \n",
            " OPEN       | 1.25        \n",
            " HIGH       | 4.75        \n",
            " LOW        | 1.25        \n",
            " CLOSE      | 3.9         \n",
            " SETTLE_PR  | 3.9         \n",
            " CONTRACTS  | 98.0        \n",
            " VAL_INLAKH | 432.91      \n",
            " OPEN_INT   | 53350.0     \n",
            " CHG_IN_OI  | 26950.0     \n",
            " TIMESTAMP  | 31-AUG-2020 \n",
            " Unnamed    | NULL        \n",
            "-RECORD 18----------------\n",
            " INSTRUMENT | OPTSTK      \n",
            " SYMBOL     | LT          \n",
            " EXPIRY_DT  | 24-Sep-2020 \n",
            " STRIKE_PR  | 840.0       \n",
            " OPTION_TYP | PE          \n",
            " OPEN       | 2.1         \n",
            " HIGH       | 7.45        \n",
            " LOW        | 2.1         \n",
            " CLOSE      | 6.5         \n",
            " SETTLE_PR  | 6.5         \n",
            " CONTRACTS  | 34.0        \n",
            " VAL_INLAKH | 158.24      \n",
            " OPEN_INT   | 18150.0     \n",
            " CHG_IN_OI  | 8250.0      \n",
            " TIMESTAMP  | 31-AUG-2020 \n",
            " Unnamed    | NULL        \n",
            "-RECORD 19----------------\n",
            " INSTRUMENT | OPTSTK      \n",
            " SYMBOL     | LT          \n",
            " EXPIRY_DT  | 24-Sep-2020 \n",
            " STRIKE_PR  | 860.0       \n",
            " OPTION_TYP | PE          \n",
            " OPEN       | 2.5         \n",
            " HIGH       | 10.0        \n",
            " LOW        | 2.1         \n",
            " CLOSE      | 9.5         \n",
            " SETTLE_PR  | 9.5         \n",
            " CONTRACTS  | 615.0       \n",
            " VAL_INLAKH | 2934.19     \n",
            " OPEN_INT   | 147400.0    \n",
            " CHG_IN_OI  | 105600.0    \n",
            " TIMESTAMP  | 31-AUG-2020 \n",
            " Unnamed    | NULL        \n",
            "only showing top 20 rows\n",
            "\n"
          ]
        }
      ],
      "source": [
        "df_filtered.show(vertical=True)\n"
      ]
    },
    {
      "cell_type": "code",
      "execution_count": null,
      "metadata": {
        "id": "5ZvjAuwZjHhT",
        "outputId": "bc64b666-a35f-4dae-d0e7-f8c3c0e0e7c7"
      },
      "outputs": [
        {
          "data": {
            "image/png": "[encoded data removed]",
            "text/plain": [
              "<Figure size 720x432 with 1 Axes>"
            ]
          },
          "metadata": {
            "needs_background": "light"
          },
          "output_type": "display_data"
        }
      ],
      "source": []
    },
    {
      "cell_type": "code",
      "execution_count": null,
      "metadata": {
        "id": "31gOpA1ejHhT",
        "outputId": "cc64fd45-ee62-4342-ceb5-754e9c33b713"
      },
      "outputs": [
        {
          "name": "stdout",
          "output_type": "stream",
          "text": [
            "Empty DataFrame\n",
            "Columns: [EXPIRY_DT, CLOSE]\n",
            "Index: []\n"
          ]
        }
      ],
      "source": [
        "print(result_df)\n"
      ]
    },
    {
      "cell_type": "code",
      "execution_count": null,
      "metadata": {
        "id": "D1XlqtbrjHhT",
        "outputId": "fc642575-9e19-43a2-9485-ef5fbcb81aee"
      },
      "outputs": [
        {
          "name": "stdout",
          "output_type": "stream",
          "text": [
            "Filtered data has been saved to filtered_lt_option.csv\n"
          ]
        },
        {
          "name": "stderr",
          "output_type": "stream",
          "text": [
            "\r",
            "[Stage 10:>                                                         (0 + 1) / 1]\r",
            "\r",
            "                                                                                \r"
          ]
        }
      ],
      "source": [
        "# Specify the path where you want to save the CSV file\n",
        "output_path = \"filtered_lt_option.csv\"\n",
        "\n",
        "# Repartition the DataFrame into a single partition\n",
        "df_filtered_single_partition = df_filtered.coalesce(1)\n",
        "\n",
        "# Save the filtered DataFrame as a CSV file\n",
        "df_filtered_single_partition.write.csv(output_path, header=True, mode=\"overwrite\")\n",
        "\n",
        "# Print a message to confirm the CSV file has been saved\n",
        "print(f\"Filtered data has been saved to {output_path}\")\n"
      ]
    },
    {
      "cell_type": "code",
      "execution_count": null,
      "metadata": {
        "id": "kQsfjrmsjHhT"
      },
      "outputs": [],
      "source": [
        "from pyspark.sql.functions import col\n",
        "\n",
        "# Assuming futures_data is your DataFrame\n",
        "futures_data = futures_data.withColumn(\"SETTLE_PR\", col(\"SETTLE_PR\").cast(\"double\"))\n"
      ]
    },
    {
      "cell_type": "code",
      "execution_count": null,
      "metadata": {
        "id": "QqzAOFwLjHhT",
        "outputId": "5885003f-6499-4fd0-f043-6b6a04b17921"
      },
      "outputs": [
        {
          "name": "stdout",
          "output_type": "stream",
          "text": [
            "root\n",
            " |-- INSTRUMENT: string (nullable = true)\n",
            " |-- SYMBOL: string (nullable = true)\n",
            " |-- EXPIRY_DT: string (nullable = true)\n",
            " |-- STRIKE_PR: string (nullable = true)\n",
            " |-- OPTION_TYP: string (nullable = true)\n",
            " |-- OPEN: string (nullable = true)\n",
            " |-- HIGH: string (nullable = true)\n",
            " |-- LOW: string (nullable = true)\n",
            " |-- CLOSE: string (nullable = true)\n",
            " |-- SETTLE_PR: double (nullable = true)\n",
            " |-- CONTRACTS: string (nullable = true)\n",
            " |-- VAL_INLAKH: string (nullable = true)\n",
            " |-- OPEN_INT: string (nullable = true)\n",
            " |-- CHG_IN_OI: string (nullable = true)\n",
            " |-- TIMESTAMP: string (nullable = true)\n",
            " |-- Unnamed: 15: string (nullable = true)\n",
            "\n"
          ]
        }
      ],
      "source": [
        "futures_data.printSchema()"
      ]
    },
    {
      "cell_type": "markdown",
      "metadata": {
        "id": "6hz5q839jHhU"
      },
      "source": [
        "##### Now clean the FUTIDX data frame where the option type is xx"
      ]
    },
    {
      "cell_type": "code",
      "execution_count": null,
      "metadata": {
        "id": "hw3xF-cYjHhU",
        "outputId": "d01156e0-925b-44dc-e29d-9d99e261a788"
      },
      "outputs": [
        {
          "name": "stdout",
          "output_type": "stream",
          "text": [
            "-RECORD 0------------------\n",
            " INSTRUMENT  | FUTIDX      \n",
            " SYMBOL      | BANKNIFTY   \n",
            " EXPIRY_DT   | 24-Sep-2020 \n",
            " STRIKE_PR   | 0.0         \n",
            " OPTION_TYP  | XX          \n",
            " OPEN        | 24900.05    \n",
            " HIGH        | 25270.0     \n",
            " LOW         | 23371.0     \n",
            " CLOSE       | 23743.0     \n",
            " SETTLE_PR   | 23743.0     \n",
            " CONTRACTS   | 504222      \n",
            " VAL_INLAKH  | 3051593.27  \n",
            " OPEN_INT    | 1432850     \n",
            " CHG_IN_OI   | -54500      \n",
            " TIMESTAMP   | 31-AUG-2020 \n",
            " Unnamed: 15 | null        \n",
            "-RECORD 1------------------\n",
            " INSTRUMENT  | FUTIDX      \n",
            " SYMBOL      | BANKNIFTY   \n",
            " EXPIRY_DT   | 29-Oct-2020 \n",
            " STRIKE_PR   | 0.0         \n",
            " OPTION_TYP  | XX          \n",
            " OPEN        | 24937.55    \n",
            " HIGH        | 25315.9     \n",
            " LOW         | 23391.9     \n",
            " CLOSE       | 23770.1     \n",
            " SETTLE_PR   | 23770.1     \n",
            " CONTRACTS   | 10630       \n",
            " VAL_INLAKH  | 64526.57    \n",
            " OPEN_INT    | 91375       \n",
            " CHG_IN_OI   | 19325       \n",
            " TIMESTAMP   | 31-AUG-2020 \n",
            " Unnamed: 15 | null        \n",
            "-RECORD 2------------------\n",
            " INSTRUMENT  | FUTIDX      \n",
            " SYMBOL      | BANKNIFTY   \n",
            " EXPIRY_DT   | 26-Nov-2020 \n",
            " STRIKE_PR   | 0.0         \n",
            " OPTION_TYP  | XX          \n",
            " OPEN        | 24989.95    \n",
            " HIGH        | 25280.75    \n",
            " LOW         | 23437.15    \n",
            " CLOSE       | 23766.2     \n",
            " SETTLE_PR   | 23766.2     \n",
            " CONTRACTS   | 1171        \n",
            " VAL_INLAKH  | 7088.68     \n",
            " OPEN_INT    | 14400       \n",
            " CHG_IN_OI   | 8400        \n",
            " TIMESTAMP   | 31-AUG-2020 \n",
            " Unnamed: 15 | null        \n",
            "-RECORD 3------------------\n",
            " INSTRUMENT  | FUTIDX      \n",
            " SYMBOL      | NIFTY       \n",
            " EXPIRY_DT   | 24-Sep-2020 \n",
            " STRIKE_PR   | 0.0         \n",
            " OPTION_TYP  | XX          \n",
            " OPEN        | 11764.9     \n",
            " HIGH        | 11794.45    \n",
            " LOW         | 11350.5     \n",
            " CLOSE       | 11401.95    \n",
            " SETTLE_PR   | 11401.95    \n",
            " CONTRACTS   | 314090      \n",
            " VAL_INLAKH  | 2722114.47  \n",
            " OPEN_INT    | 11209650    \n",
            " CHG_IN_OI   | -1007775    \n",
            " TIMESTAMP   | 31-AUG-2020 \n",
            " Unnamed: 15 | null        \n",
            "-RECORD 4------------------\n",
            " INSTRUMENT  | FUTIDX      \n",
            " SYMBOL      | NIFTY       \n",
            " EXPIRY_DT   | 29-Oct-2020 \n",
            " STRIKE_PR   | 0.0         \n",
            " OPTION_TYP  | XX          \n",
            " OPEN        | 11765.6     \n",
            " HIGH        | 11804.3     \n",
            " LOW         | 11368.0     \n",
            " CLOSE       | 11430.5     \n",
            " SETTLE_PR   | 11430.5     \n",
            " CONTRACTS   | 8666        \n",
            " VAL_INLAKH  | 75149.14    \n",
            " OPEN_INT    | 536250      \n",
            " CHG_IN_OI   | 47925       \n",
            " TIMESTAMP   | 31-AUG-2020 \n",
            " Unnamed: 15 | null        \n",
            "-RECORD 5------------------\n",
            " INSTRUMENT  | FUTIDX      \n",
            " SYMBOL      | NIFTY       \n",
            " EXPIRY_DT   | 26-Nov-2020 \n",
            " STRIKE_PR   | 0.0         \n",
            " OPTION_TYP  | XX          \n",
            " OPEN        | 11789.0     \n",
            " HIGH        | 11814.95    \n",
            " LOW         | 11380.1     \n",
            " CLOSE       | 11426.95    \n",
            " SETTLE_PR   | 11426.95    \n",
            " CONTRACTS   | 1051        \n",
            " VAL_INLAKH  | 9127.75     \n",
            " OPEN_INT    | 37050       \n",
            " CHG_IN_OI   | 19575       \n",
            " TIMESTAMP   | 31-AUG-2020 \n",
            " Unnamed: 15 | null        \n",
            "-RECORD 6------------------\n",
            " INSTRUMENT  | FUTIDX      \n",
            " SYMBOL      | BANKNIFTY   \n",
            " EXPIRY_DT   | 24-Sep-2020 \n",
            " STRIKE_PR   | 0.0         \n",
            " OPTION_TYP  | XX          \n",
            " OPEN        | 23679.9     \n",
            " HIGH        | 24658.7     \n",
            " LOW         | 23601.5     \n",
            " CLOSE       | 24539.35    \n",
            " SETTLE_PR   | 24539.35    \n",
            " CONTRACTS   | 338932      \n",
            " VAL_INLAKH  | 2051998.73  \n",
            " OPEN_INT    | 1487350     \n",
            " CHG_IN_OI   | 214250      \n",
            " TIMESTAMP   | 28-AUG-2020 \n",
            " Unnamed: 15 | null        \n",
            "-RECORD 7------------------\n",
            " INSTRUMENT  | FUTIDX      \n",
            " SYMBOL      | BANKNIFTY   \n",
            " EXPIRY_DT   | 29-Oct-2020 \n",
            " STRIKE_PR   | 0.0         \n",
            " OPTION_TYP  | XX          \n",
            " OPEN        | 23562.75    \n",
            " HIGH        | 24650.0     \n",
            " LOW         | 23562.75    \n",
            " CLOSE       | 24543.2     \n",
            " SETTLE_PR   | 24543.2     \n",
            " CONTRACTS   | 6294        \n",
            " VAL_INLAKH  | 38105.29    \n",
            " OPEN_INT    | 72050       \n",
            " CHG_IN_OI   | 22825       \n",
            " TIMESTAMP   | 28-AUG-2020 \n",
            " Unnamed: 15 | null        \n",
            "-RECORD 8------------------\n",
            " INSTRUMENT  | FUTIDX      \n",
            " SYMBOL      | BANKNIFTY   \n",
            " EXPIRY_DT   | 26-Nov-2020 \n",
            " STRIKE_PR   | 0.0         \n",
            " OPTION_TYP  | XX          \n",
            " OPEN        | 23724.05    \n",
            " HIGH        | 24650.0     \n",
            " LOW         | 23000.0     \n",
            " CLOSE       | 24537.0     \n",
            " SETTLE_PR   | 24537.0     \n",
            " CONTRACTS   | 712         \n",
            " VAL_INLAKH  | 4323.63     \n",
            " OPEN_INT    | 6000        \n",
            " CHG_IN_OI   | 6000        \n",
            " TIMESTAMP   | 28-AUG-2020 \n",
            " Unnamed: 15 | null        \n",
            "-RECORD 9------------------\n",
            " INSTRUMENT  | FUTIDX      \n",
            " SYMBOL      | NIFTY       \n",
            " EXPIRY_DT   | 24-Sep-2020 \n",
            " STRIKE_PR   | 0.0         \n",
            " OPTION_TYP  | XX          \n",
            " OPEN        | 11633.6     \n",
            " HIGH        | 11698.0     \n",
            " LOW         | 11602.0     \n",
            " CLOSE       | 11675.25    \n",
            " SETTLE_PR   | 11675.25    \n",
            " CONTRACTS   | 151946      \n",
            " VAL_INLAKH  | 1327755.59  \n",
            " OPEN_INT    | 12217425    \n",
            " CHG_IN_OI   | 495975      \n",
            " TIMESTAMP   | 28-AUG-2020 \n",
            " Unnamed: 15 | null        \n",
            "-RECORD 10-----------------\n",
            " INSTRUMENT  | FUTIDX      \n",
            " SYMBOL      | NIFTY       \n",
            " EXPIRY_DT   | 29-Oct-2020 \n",
            " STRIKE_PR   | 0.0         \n",
            " OPTION_TYP  | XX          \n",
            " OPEN        | 11630.0     \n",
            " HIGH        | 11708.0     \n",
            " LOW         | 11617.05    \n",
            " CLOSE       | 11689.05    \n",
            " SETTLE_PR   | 11689.05    \n",
            " CONTRACTS   | 3475        \n",
            " VAL_INLAKH  | 30406.45    \n",
            " OPEN_INT    | 488325      \n",
            " CHG_IN_OI   | 47850       \n",
            " TIMESTAMP   | 28-AUG-2020 \n",
            " Unnamed: 15 | null        \n",
            "-RECORD 11-----------------\n",
            " INSTRUMENT  | FUTIDX      \n",
            " SYMBOL      | NIFTY       \n",
            " EXPIRY_DT   | 26-Nov-2020 \n",
            " STRIKE_PR   | 0.0         \n",
            " OPTION_TYP  | XX          \n",
            " OPEN        | 11640.2     \n",
            " HIGH        | 11712.65    \n",
            " LOW         | 11628.7     \n",
            " CLOSE       | 11697.1     \n",
            " SETTLE_PR   | 11697.1     \n",
            " CONTRACTS   | 471         \n",
            " VAL_INLAKH  | 4123.51     \n",
            " OPEN_INT    | 17475       \n",
            " CHG_IN_OI   | 17475       \n",
            " TIMESTAMP   | 28-AUG-2020 \n",
            " Unnamed: 15 | null        \n",
            "-RECORD 12-----------------\n",
            " INSTRUMENT  | FUTIDX      \n",
            " SYMBOL      | BANKNIFTY   \n",
            " EXPIRY_DT   | 27-Aug-2020 \n",
            " STRIKE_PR   | 0.0         \n",
            " OPTION_TYP  | XX          \n",
            " OPEN        | 23490.0     \n",
            " HIGH        | 23716.15    \n",
            " LOW         | 23473.5     \n",
            " CLOSE       | 23611.4     \n",
            " SETTLE_PR   | 23600.35    \n",
            " CONTRACTS   | 160721      \n",
            " VAL_INLAKH  | 949102.15   \n",
            " OPEN_INT    | 374975      \n",
            " CHG_IN_OI   | -474650     \n",
            " TIMESTAMP   | 27-AUG-2020 \n",
            " Unnamed: 15 | null        \n",
            "-RECORD 13-----------------\n",
            " INSTRUMENT  | FUTIDX      \n",
            " SYMBOL      | BANKNIFTY   \n",
            " EXPIRY_DT   | 24-Sep-2020 \n",
            " STRIKE_PR   | 0.0         \n",
            " OPTION_TYP  | XX          \n",
            " OPEN        | 23535.05    \n",
            " HIGH        | 23671.0     \n",
            " LOW         | 23436.25    \n",
            " CLOSE       | 23602.0     \n",
            " SETTLE_PR   | 23602.0     \n",
            " CONTRACTS   | 95524       \n",
            " VAL_INLAKH  | 563547.74   \n",
            " OPEN_INT    | 1273100     \n",
            " CHG_IN_OI   | 316325      \n",
            " TIMESTAMP   | 27-AUG-2020 \n",
            " Unnamed: 15 | null        \n",
            "-RECORD 14-----------------\n",
            " INSTRUMENT  | FUTIDX      \n",
            " SYMBOL      | BANKNIFTY   \n",
            " EXPIRY_DT   | 29-Oct-2020 \n",
            " STRIKE_PR   | 0.0         \n",
            " OPTION_TYP  | XX          \n",
            " OPEN        | 23517.15    \n",
            " HIGH        | 23660.0     \n",
            " LOW         | 23516.2     \n",
            " CLOSE       | 23590.75    \n",
            " SETTLE_PR   | 23590.75    \n",
            " CONTRACTS   | 1907        \n",
            " VAL_INLAKH  | 11249.65    \n",
            " OPEN_INT    | 49225       \n",
            " CHG_IN_OI   | 16550       \n",
            " TIMESTAMP   | 27-AUG-2020 \n",
            " Unnamed: 15 | null        \n",
            "-RECORD 15-----------------\n",
            " INSTRUMENT  | FUTIDX      \n",
            " SYMBOL      | NIFTY       \n",
            " EXPIRY_DT   | 27-Aug-2020 \n",
            " STRIKE_PR   | 0.0         \n",
            " OPTION_TYP  | XX          \n",
            " OPEN        | 11590.1     \n",
            " HIGH        | 11608.1     \n",
            " LOW         | 11547.0     \n",
            " CLOSE       | 11560.55    \n",
            " SETTLE_PR   | 11559.25    \n",
            " CONTRACTS   | 109982      \n",
            " VAL_INLAKH  | 955212.42   \n",
            " OPEN_INT    | 3055050     \n",
            " CHG_IN_OI   | -1689900    \n",
            " TIMESTAMP   | 27-AUG-2020 \n",
            " Unnamed: 15 | null        \n",
            "-RECORD 16-----------------\n",
            " INSTRUMENT  | FUTIDX      \n",
            " SYMBOL      | NIFTY       \n",
            " EXPIRY_DT   | 24-Sep-2020 \n",
            " STRIKE_PR   | 0.0         \n",
            " OPTION_TYP  | XX          \n",
            " OPEN        | 11577.8     \n",
            " HIGH        | 11622.95    \n",
            " LOW         | 11561.25    \n",
            " CLOSE       | 11580.05    \n",
            " SETTLE_PR   | 11580.05    \n",
            " CONTRACTS   | 109009      \n",
            " VAL_INLAKH  | 947792.15   \n",
            " OPEN_INT    | 11721450    \n",
            " CHG_IN_OI   | 3313500     \n",
            " TIMESTAMP   | 27-AUG-2020 \n",
            " Unnamed: 15 | null        \n",
            "-RECORD 17-----------------\n",
            " INSTRUMENT  | FUTIDX      \n",
            " SYMBOL      | NIFTY       \n",
            " EXPIRY_DT   | 29-Oct-2020 \n",
            " STRIKE_PR   | 0.0         \n",
            " OPTION_TYP  | XX          \n",
            " OPEN        | 11619.95    \n",
            " HIGH        | 11636.8     \n",
            " LOW         | 11575.5     \n",
            " CLOSE       | 11589.2     \n",
            " SETTLE_PR   | 11589.2     \n",
            " CONTRACTS   | 2571        \n",
            " VAL_INLAKH  | 22377.03    \n",
            " OPEN_INT    | 440475      \n",
            " CHG_IN_OI   | 36675       \n",
            " TIMESTAMP   | 27-AUG-2020 \n",
            " Unnamed: 15 | null        \n",
            "-RECORD 18-----------------\n",
            " INSTRUMENT  | FUTIDX      \n",
            " SYMBOL      | BANKNIFTY   \n",
            " EXPIRY_DT   | 27-Aug-2020 \n",
            " STRIKE_PR   | 0.0         \n",
            " OPTION_TYP  | XX          \n",
            " OPEN        | 23150.0     \n",
            " HIGH        | 23451.8     \n",
            " LOW         | 23070.0     \n",
            " CLOSE       | 23407.15    \n",
            " SETTLE_PR   | 23407.15    \n",
            " CONTRACTS   | 192914      \n",
            " VAL_INLAKH  | 1121732.62  \n",
            " OPEN_INT    | 849625      \n",
            " CHG_IN_OI   | -176300     \n",
            " TIMESTAMP   | 26-AUG-2020 \n",
            " Unnamed: 15 | null        \n",
            "-RECORD 19-----------------\n",
            " INSTRUMENT  | FUTIDX      \n",
            " SYMBOL      | BANKNIFTY   \n",
            " EXPIRY_DT   | 24-Sep-2020 \n",
            " STRIKE_PR   | 0.0         \n",
            " OPTION_TYP  | XX          \n",
            " OPEN        | 23123.4     \n",
            " HIGH        | 23699.9     \n",
            " LOW         | 23064.0     \n",
            " CLOSE       | 23399.9     \n",
            " SETTLE_PR   | 23399.9     \n",
            " CONTRACTS   | 48368       \n",
            " VAL_INLAKH  | 281129.32   \n",
            " OPEN_INT    | 956775      \n",
            " CHG_IN_OI   | 254275      \n",
            " TIMESTAMP   | 26-AUG-2020 \n",
            " Unnamed: 15 | null        \n",
            "only showing top 20 rows\n",
            "\n"
          ]
        }
      ],
      "source": [
        "futures_data.show(vertical=True)"
      ]
    },
    {
      "cell_type": "code",
      "execution_count": null,
      "metadata": {
        "id": "uCaXg1rXjHhU",
        "outputId": "a8d29ce5-46f2-41b4-a602-2e5696f146fc"
      },
      "outputs": [
        {
          "name": "stdout",
          "output_type": "stream",
          "text": [
            "+----------+---------+-----------+---------+----------+--------+--------+--------+--------+---------+---------+----------+--------+---------+-----------+-----------+\n",
            "|INSTRUMENT|   SYMBOL|  EXPIRY_DT|STRIKE_PR|OPTION_TYP|    OPEN|    HIGH|     LOW|   CLOSE|SETTLE_PR|CONTRACTS|VAL_INLAKH|OPEN_INT|CHG_IN_OI|  TIMESTAMP|Unnamed: 15|\n",
            "+----------+---------+-----------+---------+----------+--------+--------+--------+--------+---------+---------+----------+--------+---------+-----------+-----------+\n",
            "|    FUTIDX|BANKNIFTY|24-Sep-2020|      0.0|        XX|24900.05| 25270.0| 23371.0| 23743.0|  23743.0|   504222|3051593.27| 1432850|   -54500|31-AUG-2020|       null|\n",
            "|    FUTIDX|BANKNIFTY|29-Oct-2020|      0.0|        XX|24937.55| 25315.9| 23391.9| 23770.1|  23770.1|    10630|  64526.57|   91375|    19325|31-AUG-2020|       null|\n",
            "|    FUTIDX|BANKNIFTY|26-Nov-2020|      0.0|        XX|24989.95|25280.75|23437.15| 23766.2|  23766.2|     1171|   7088.68|   14400|     8400|31-AUG-2020|       null|\n",
            "|    FUTIDX|    NIFTY|24-Sep-2020|      0.0|        XX| 11764.9|11794.45| 11350.5|11401.95| 11401.95|   314090|2722114.47|11209650| -1007775|31-AUG-2020|       null|\n",
            "|    FUTIDX|    NIFTY|29-Oct-2020|      0.0|        XX| 11765.6| 11804.3| 11368.0| 11430.5|  11430.5|     8666|  75149.14|  536250|    47925|31-AUG-2020|       null|\n",
            "|    FUTIDX|    NIFTY|26-Nov-2020|      0.0|        XX| 11789.0|11814.95| 11380.1|11426.95| 11426.95|     1051|   9127.75|   37050|    19575|31-AUG-2020|       null|\n",
            "|    FUTIDX|BANKNIFTY|24-Sep-2020|      0.0|        XX| 23679.9| 24658.7| 23601.5|24539.35| 24539.35|   338932|2051998.73| 1487350|   214250|28-AUG-2020|       null|\n",
            "|    FUTIDX|BANKNIFTY|29-Oct-2020|      0.0|        XX|23562.75| 24650.0|23562.75| 24543.2|  24543.2|     6294|  38105.29|   72050|    22825|28-AUG-2020|       null|\n",
            "|    FUTIDX|BANKNIFTY|26-Nov-2020|      0.0|        XX|23724.05| 24650.0| 23000.0| 24537.0|  24537.0|      712|   4323.63|    6000|     6000|28-AUG-2020|       null|\n",
            "|    FUTIDX|    NIFTY|24-Sep-2020|      0.0|        XX| 11633.6| 11698.0| 11602.0|11675.25| 11675.25|   151946|1327755.59|12217425|   495975|28-AUG-2020|       null|\n",
            "|    FUTIDX|    NIFTY|29-Oct-2020|      0.0|        XX| 11630.0| 11708.0|11617.05|11689.05| 11689.05|     3475|  30406.45|  488325|    47850|28-AUG-2020|       null|\n",
            "|    FUTIDX|    NIFTY|26-Nov-2020|      0.0|        XX| 11640.2|11712.65| 11628.7| 11697.1|  11697.1|      471|   4123.51|   17475|    17475|28-AUG-2020|       null|\n",
            "|    FUTIDX|BANKNIFTY|27-Aug-2020|      0.0|        XX| 23490.0|23716.15| 23473.5| 23611.4| 23600.35|   160721| 949102.15|  374975|  -474650|27-AUG-2020|       null|\n",
            "|    FUTIDX|BANKNIFTY|24-Sep-2020|      0.0|        XX|23535.05| 23671.0|23436.25| 23602.0|  23602.0|    95524| 563547.74| 1273100|   316325|27-AUG-2020|       null|\n",
            "|    FUTIDX|BANKNIFTY|29-Oct-2020|      0.0|        XX|23517.15| 23660.0| 23516.2|23590.75| 23590.75|     1907|  11249.65|   49225|    16550|27-AUG-2020|       null|\n",
            "|    FUTIDX|    NIFTY|27-Aug-2020|      0.0|        XX| 11590.1| 11608.1| 11547.0|11560.55| 11559.25|   109982| 955212.42| 3055050| -1689900|27-AUG-2020|       null|\n",
            "|    FUTIDX|    NIFTY|24-Sep-2020|      0.0|        XX| 11577.8|11622.95|11561.25|11580.05| 11580.05|   109009| 947792.15|11721450|  3313500|27-AUG-2020|       null|\n",
            "|    FUTIDX|    NIFTY|29-Oct-2020|      0.0|        XX|11619.95| 11636.8| 11575.5| 11589.2|  11589.2|     2571|  22377.03|  440475|    36675|27-AUG-2020|       null|\n",
            "|    FUTIDX|BANKNIFTY|27-Aug-2020|      0.0|        XX| 23150.0| 23451.8| 23070.0|23407.15| 23407.15|   192914|1121732.62|  849625|  -176300|26-AUG-2020|       null|\n",
            "|    FUTIDX|BANKNIFTY|24-Sep-2020|      0.0|        XX| 23123.4| 23699.9| 23064.0| 23399.9|  23399.9|    48368| 281129.32|  956775|   254275|26-AUG-2020|       null|\n",
            "+----------+---------+-----------+---------+----------+--------+--------+--------+--------+---------+---------+----------+--------+---------+-----------+-----------+\n",
            "only showing top 20 rows\n",
            "\n"
          ]
        }
      ],
      "source": [
        "futures_data.show()"
      ]
    },
    {
      "cell_type": "markdown",
      "metadata": {
        "id": "ygvnrTYJjHhU"
      },
      "source": [
        "## Extract all the individual stock"
      ]
    },
    {
      "cell_type": "code",
      "execution_count": null,
      "metadata": {
        "id": "zYZ11LfljHhU",
        "outputId": "75826f9f-239c-4dad-ca08-28c03456e9d8"
      },
      "outputs": [
        {
          "name": "stdout",
          "output_type": "stream",
          "text": [
            "       INSTRUMENT SYMBOL  EXPIRY_DT  STRIKE_PR OPTION_TYP  OPEN  HIGH  LOW  \\\n",
            "0          OPTSTK     LT 2020-09-24      680.0         CE   0.0   0.0  0.0   \n",
            "1          OPTSTK     LT 2020-09-24      700.0         CE   0.0   0.0  0.0   \n",
            "2          OPTSTK     LT 2020-09-24      720.0         CE   0.0   0.0  0.0   \n",
            "3          OPTSTK     LT 2020-09-24      740.0         CE   0.0   0.0  0.0   \n",
            "4          OPTSTK     LT 2020-09-24      760.0         CE   0.0   0.0  0.0   \n",
            "...           ...    ...        ...        ...        ...   ...   ...  ...   \n",
            "633049     OPTSTK     LT 2006-11-30     2500.0         PA   0.0   0.0  0.0   \n",
            "633050     OPTSTK     LT 2006-11-30     2550.0         PA   0.0   0.0  0.0   \n",
            "633051     OPTSTK     LT 2006-11-30     2600.0         PA   0.0   0.0  0.0   \n",
            "633052     OPTSTK     LT 2006-11-30     2650.0         PA   0.0   0.0  0.0   \n",
            "633053     OPTSTK     LT 2006-11-30     2700.0         PA   0.0   0.0  0.0   \n",
            "\n",
            "         CLOSE  SETTLE_PR  CONTRACTS  VAL_INLAKH  OPEN_INT  CHG_IN_OI  \\\n",
            "0       278.10     266.85        0.0         0.0       0.0        0.0   \n",
            "1       260.55     246.90        0.0         0.0       0.0        0.0   \n",
            "2       243.45     227.00        0.0         0.0       0.0        0.0   \n",
            "3       230.00     207.10        0.0         0.0    3300.0        0.0   \n",
            "4       210.90     187.35        0.0         0.0       0.0        0.0   \n",
            "...        ...        ...        ...         ...       ...        ...   \n",
            "633049    0.00       0.00        0.0         0.0       0.0        0.0   \n",
            "633050    0.00       0.00        0.0         0.0       0.0        0.0   \n",
            "633051    0.00       0.00        0.0         0.0       0.0        0.0   \n",
            "633052    0.00       0.00        0.0         0.0       0.0        0.0   \n",
            "633053    0.00       0.00        0.0         0.0       0.0        0.0   \n",
            "\n",
            "          TIMESTAMP  Unnamed  \n",
            "0       31-AUG-2020      NaN  \n",
            "1       31-AUG-2020      NaN  \n",
            "2       31-AUG-2020      NaN  \n",
            "3       31-AUG-2020      NaN  \n",
            "4       31-AUG-2020      NaN  \n",
            "...             ...      ...  \n",
            "633049  14-SEP-2006      NaN  \n",
            "633050  14-SEP-2006      NaN  \n",
            "633051  14-SEP-2006      NaN  \n",
            "633052  14-SEP-2006      NaN  \n",
            "633053  14-SEP-2006      NaN  \n",
            "\n",
            "[633054 rows x 16 columns]\n"
          ]
        }
      ],
      "source": [
        "print(data)"
      ]
    },
    {
      "cell_type": "code",
      "execution_count": 16,
      "metadata": {
        "id": "WIaIklXvjHhU"
      },
      "outputs": [],
      "source": [
        "import csv\n",
        "for name in industry_leader_in_each_sector:\n",
        "  option_data_LT = data.filter( \\\n",
        "                        (data['SYMBOL'] == name) & \\\n",
        "                        (data['INSTRUMENT'] == 'OPTSTK') &\n",
        "                        ~(col(\"OPEN\") == 0) &  ~(col(\"HIGH\") == 0) & \\\n",
        "                        ~(col(\"LOW\") == 0) & \\\n",
        "                        ~(col(\"CLOSE\") == 0) & \\\n",
        "                        ~(col(\"SETTLE_PR\") == 0) & \\\n",
        "                        ~(col(\"CONTRACTS\") == 0) & \\\n",
        "                        ~(col(\"VAL_INLAKH\") == 0) & \\\n",
        "                        ~(col(\"OPEN_INT\") == 0) & \\\n",
        "                        ~(col(\"CHG_IN_OI\") == 0)\n",
        "                        ).collect()\n",
        "  header = ['INSTRUMENT','SYMBOL','EXPIRY_DT','STRIKE_PR','OPTION_TYP','OPEN','HIGH','LOW','CLOSE','SETTLE_PR','CONTRACTS','VAL_INLAKH','OPEN_INT','CHG_IN_OI','TIMESTAMP','Unnamed']\n",
        "  with open(f'options/{name}_option.csv','w') as f:\n",
        "      writer = csv.writer(f)\n",
        "      writer.writerow(header)\n",
        "      writer.writerows(option_data_LT)\n",
        "\n"
      ]
    }
  ],
  "metadata": {
    "kernelspec": {
      "display_name": "Python 3 (ipykernel)",
      "language": "python",
      "name": "python3"
    },
    "language_info": {
      "codemirror_mode": {
        "name": "ipython",
        "version": 3
      },
      "file_extension": ".py",
      "mimetype": "text/x-python",
      "name": "python",
      "nbconvert_exporter": "python",
      "pygments_lexer": "ipython3",
      "version": "3.10.12"
    },
    "colab": {
      "provenance": []
    }
  },
  "nbformat": 4,
  "nbformat_minor": 0
}