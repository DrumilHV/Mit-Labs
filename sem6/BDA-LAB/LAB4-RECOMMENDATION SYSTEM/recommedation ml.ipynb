{
 "cells": [
  {
   "cell_type": "markdown",
   "metadata": {},
   "source": [
    "#### Q1) Demonstrate how to load a dataset suitable for recommendation systems into a PySpark DataFrame."
   ]
  },
  {
   "cell_type": "code",
   "execution_count": 1,
   "metadata": {},
   "outputs": [
    {
     "name": "stderr",
     "output_type": "stream",
     "text": [
      "/home/lplab/anaconda3/lib/python3.7/site-packages/pyspark/context.py:317: FutureWarning: Python 3.7 support is deprecated in Spark 3.4.\n",
      "  warnings.warn(\"Python 3.7 support is deprecated in Spark 3.4.\", FutureWarning)\n"
     ]
    },
    {
     "name": "stdout",
     "output_type": "stream",
     "text": [
      "+--------------+----------+-----+\n",
      "|       user_id|product_id|score|\n",
      "+--------------+----------+-----+\n",
      "|A141HP4LYPWMSR|B003AI2VGA|  3.0|\n",
      "|A328S9RN3U5M68|B003AI2VGA|  3.0|\n",
      "|A1I7QGUDP043DG|B003AI2VGA|  5.0|\n",
      "|A1M5405JH9THP9|B003AI2VGA|  3.0|\n",
      "| ATXL536YX71TR|B003AI2VGA|  3.0|\n",
      "+--------------+----------+-----+\n",
      "only showing top 5 rows\n",
      "\n"
     ]
    }
   ],
   "source": [
    "from pyspark.sql import SparkSession\n",
    "from pyspark.sql import functions as f\n",
    "import findspark\n",
    "findspark.init()\n",
    "spark = SparkSession.builder.getOrCreate()\n",
    "\n",
    "ratings = spark.read.json(\"movies_1.json\").select(\"user_id\",\"product_id\",\"score\").cache()\n",
    "# ratings = ratings.head(10000)\n",
    "# ratings = spark.createDataFrame(ratings)\n",
    "\n",
    "ratings.show(5)"
   ]
  },
  {
   "cell_type": "markdown",
   "metadata": {},
   "source": [
    "#### Q2) Implement a PySpark script that splits the data and trains a recommendation model."
   ]
  },
  {
   "cell_type": "code",
   "execution_count": 2,
   "metadata": {
    "scrolled": true
   },
   "outputs": [
    {
     "name": "stdout",
     "output_type": "stream",
     "text": [
      "+--------------+----------+-----+-------------+----------------+-----------+\n",
      "|       user_id|product_id|score|user_id_index|product_id_index| prediction|\n",
      "+--------------+----------+-----+-------------+----------------+-----------+\n",
      "| A5KLP39OKXD5P|B0001G6PZC|  5.0|        540.0|             7.0|  4.6193957|\n",
      "| ADEETJWRKD6OA|B000063W82|  5.0|       5287.0|             6.0| -0.8339311|\n",
      "|A16QODENBJVUI1|B0012EM5GK|  5.0|         65.0|           303.0|-0.74546933|\n",
      "|A2SPL0BGAV9DMJ|B002OHDRF2|  5.0|       3834.0|            21.0|  3.2403333|\n",
      "|A3OIZEXS8CGBOD|B0001G6PZC|  1.0|       1005.0|             7.0|  0.9981969|\n",
      "|A3OIZEXS8CGBOD|B0001G6PZC|  1.0|       1005.0|             7.0|  0.9981969|\n",
      "|A2EIR50X0I6HHA|B0006FFRDE|  2.0|       3441.0|          1117.0|  1.9378917|\n",
      "|A34KBX6VF28QYN|6304286961|  3.0|       4182.0|            85.0| -1.0662425|\n",
      "|A2SY0QKQO1N34F|B002OHDRF2|  5.0|       3844.0|            21.0|  3.2403333|\n",
      "|A371J1XULN9E9W|B0001G6PZC|  2.0|       4263.0|             7.0| 0.25101998|\n",
      "+--------------+----------+-----+-------------+----------------+-----------+\n",
      "only showing top 10 rows\n",
      "\n"
     ]
    }
   ],
   "source": [
    "from pyspark.ml.recommendation import ALS\n",
    "from pyspark.ml.evaluation import RegressionEvaluator\n",
    "from pyspark.ml.feature import StringIndexer\n",
    "from pyspark.ml import Pipeline\n",
    "\n",
    "indexers = [\n",
    "    StringIndexer(inputCol=column, outputCol=column+\"_index\").fit(ratings)\n",
    "    for column in [\"user_id\", \"product_id\"]\n",
    "]\n",
    "\n",
    "pipeline = Pipeline(stages=indexers)\n",
    "ratings_indexed = pipeline.fit(ratings).transform(ratings)\n",
    "\n",
    "training_data,validation_data = ratings_indexed.randomSplit([8.0,2.0])\n",
    "\n",
    "als = ALS(userCol=\"user_id_index\",itemCol=\"product_id_index\",ratingCol=\"score\",rank=10,maxIter=5,regParam=0.01,coldStartStrategy=\"drop\")\n",
    "evaluator = RegressionEvaluator(metricName=\"rmse\",labelCol=\"score\",predictionCol=\"prediction\")\n",
    "\n",
    "model = als.fit(training_data)\n",
    "predictions=model.transform(validation_data)\n",
    "predictions.show(10,True)\n",
    "\n"
   ]
  },
  {
   "cell_type": "markdown",
   "metadata": {},
   "source": [
    "#### Q3) Implement a PySpark script using the ALS algorithm for collaborative filtering."
   ]
  },
  {
   "cell_type": "code",
   "execution_count": 3,
   "metadata": {},
   "outputs": [
    {
     "name": "stdout",
     "output_type": "stream",
     "text": [
      "+----------+--------------+-------------+----------------+\n",
      "|product_id|       user_id|user_id_index|product_id_index|\n",
      "+----------+--------------+-------------+----------------+\n",
      "|B000UGBOT0|A2NJO6YE954DBH|          1.0|            78.0|\n",
      "|B000AMWIVM|A2NJO6YE954DBH|          1.0|            11.0|\n",
      "|B003NEQ74S|A2NJO6YE954DBH|          1.0|           239.0|\n",
      "|B0000DK4QK|A2NJO6YE954DBH|          1.0|            51.0|\n",
      "|B0072V6PPE|A2NJO6YE954DBH|          1.0|            53.0|\n",
      "|B00005JMZK|A2NJO6YE954DBH|          1.0|            10.0|\n",
      "|B000OYTPJO|A2NJO6YE954DBH|          1.0|           112.0|\n",
      "|B00004CZR2|A2NJO6YE954DBH|          1.0|            55.0|\n",
      "|B00005Y6YM|A2NJO6YE954DBH|          1.0|           366.0|\n",
      "|B00005Y6YQ|A2NJO6YE954DBH|          1.0|           376.0|\n",
      "+----------+--------------+-------------+----------------+\n",
      "\n",
      "+----------+--------------+-------------+----------------+-----------+\n",
      "|product_id|       user_id|user_id_index|product_id_index| prediction|\n",
      "+----------+--------------+-------------+----------------+-----------+\n",
      "|B000OYTPJO|A2NJO6YE954DBH|          1.0|           112.0|  6.3260117|\n",
      "|B00005Y6YQ|A2NJO6YE954DBH|          1.0|           376.0|   4.944807|\n",
      "|B00005Y6YM|A2NJO6YE954DBH|          1.0|           366.0|  4.8825874|\n",
      "|B00004CZR2|A2NJO6YE954DBH|          1.0|            55.0|    3.65725|\n",
      "|B003NEQ74S|A2NJO6YE954DBH|          1.0|           239.0|  3.2258258|\n",
      "|B0072V6PPE|A2NJO6YE954DBH|          1.0|            53.0|  1.9756601|\n",
      "|B000UGBOT0|A2NJO6YE954DBH|          1.0|            78.0|   0.903318|\n",
      "|B00005JMZK|A2NJO6YE954DBH|          1.0|            10.0| 0.34746605|\n",
      "|B000AMWIVM|A2NJO6YE954DBH|          1.0|            11.0|-0.15682885|\n",
      "|B0000DK4QK|A2NJO6YE954DBH|          1.0|            51.0| -1.1083839|\n",
      "+----------+--------------+-------------+----------------+-----------+\n",
      "\n"
     ]
    }
   ],
   "source": [
    "user1 = validation_data.filter(validation_data['user_id_index']==1.0).select(['product_id','user_id','user_id_index','product_id_index'])\n",
    "user1.show()\n",
    "recommendations = model.transform(user1) \n",
    "recommendations.orderBy('prediction',ascending=False).show()"
   ]
  },
  {
   "cell_type": "markdown",
   "metadata": {},
   "source": [
    "#### Q4) Implement code to evaluate the performance of the recommendation model using appropriate metrics."
   ]
  },
  {
   "cell_type": "code",
   "execution_count": 4,
   "metadata": {},
   "outputs": [
    {
     "name": "stdout",
     "output_type": "stream",
     "text": [
      "Root Mean Squared Error (RMSE) = 4.613334467627979\n",
      "Mean Absolute Error (MAE) = 3.088277224188922\n"
     ]
    }
   ],
   "source": [
    "rmse = evaluator.evaluate(predictions)\n",
    "print(f\"Root Mean Squared Error (RMSE) = {rmse}\")\n",
    "\n",
    "# Additional Evaluation Metric: Mean Absolute Error (MAE)\n",
    "evaluator_mae = RegressionEvaluator(\n",
    "    metricName=\"mae\",\n",
    "    labelCol=\"score\",\n",
    "    predictionCol=\"prediction\"\n",
    ")\n",
    "\n",
    "mae = evaluator_mae.evaluate(predictions)\n",
    "print(f\"Mean Absolute Error (MAE) = {mae}\")"
   ]
  }
 ],
 "metadata": {
  "kernelspec": {
   "display_name": "Python 3",
   "language": "python",
   "name": "python3"
  },
  "language_info": {
   "codemirror_mode": {
    "name": "ipython",
    "version": 3
   },
   "file_extension": ".py",
   "mimetype": "text/x-python",
   "name": "python",
   "nbconvert_exporter": "python",
   "pygments_lexer": "ipython3",
   "version": "3.7.0"
  }
 },
 "nbformat": 4,
 "nbformat_minor": 2
}
