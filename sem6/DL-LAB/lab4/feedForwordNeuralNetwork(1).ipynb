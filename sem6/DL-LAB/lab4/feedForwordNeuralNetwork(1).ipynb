{
 "cells": [
  {
   "cell_type": "code",
   "execution_count": 1,
   "id": "cffe4299-c1c1-4d5c-b2fe-3d06f881c4c6",
   "metadata": {},
   "outputs": [],
   "source": [
    "import torch\n",
    "from matplotlib import pyplot as plt\n",
    "from torch.utils.data import Dataset, DataLoader\n",
    "import torch.nn as nn\n",
    "import numpy as np"
   ]
  },
  {
   "cell_type": "code",
   "execution_count": 2,
   "id": "ee340915-6347-4658-a5d1-b35b6fcec129",
   "metadata": {},
   "outputs": [
    {
     "data": {
      "text/plain": [
       "<torch._C.Generator at 0x7f5787f7e630>"
      ]
     },
     "execution_count": 2,
     "metadata": {},
     "output_type": "execute_result"
    }
   ],
   "source": [
    "loss_list = []\n",
    "torch.manual_seed(42)"
   ]
  },
  {
   "cell_type": "code",
   "execution_count": 3,
   "id": "81f074e0-9bf5-43d1-bfde-95d36caa317a",
   "metadata": {},
   "outputs": [],
   "source": [
    "X = torch.tensor([[0,0],[0,1],[1,0],[1,1]], dtype=torch.float32)\n",
    "Y = torch.tensor([0,1,1,0], dtype=torch.float32)"
   ]
  },
  {
   "cell_type": "code",
   "execution_count": 4,
   "id": "18d6976d-f309-4fd3-bdae-851179736d1e",
   "metadata": {},
   "outputs": [
    {
     "name": "stdout",
     "output_type": "stream",
     "text": [
      "XORModel(\n",
      "  (linear1): Linear(in_features=2, out_features=2, bias=True)\n",
      "  (activation1): Sigmoid()\n",
      "  (linear2): Linear(in_features=2, out_features=1, bias=True)\n",
      "  (activation2): ReLU()\n",
      ")\n"
     ]
    },
    {
     "name": "stderr",
     "output_type": "stream",
     "text": [
      "/opt/anaconda3/envs/pytorch_env/lib/python3.11/site-packages/torch/nn/modules/loss.py:535: UserWarning: Using a target size (torch.Size([1, 1])) that is different to the input size (torch.Size([1])). This will likely lead to incorrect results due to broadcasting. Please ensure they have the same size.\n",
      "  return F.mse_loss(input, target, reduction=self.reduction)\n"
     ]
    },
    {
     "name": "stdout",
     "output_type": "stream",
     "text": [
      "Epoch 0/10000, LOSS: 0.37214417196810246\n",
      "Epoch 1000/10000, LOSS: 0.21596083543408895\n",
      "Epoch 2000/10000, LOSS: 1.3145040611561853e-13\n",
      "Epoch 3000/10000, LOSS: 8.881784197001252e-14\n",
      "Epoch 4000/10000, LOSS: 1.3145040611561853e-13\n",
      "Epoch 5000/10000, LOSS: 8.881784197001252e-14\n",
      "Epoch 6000/10000, LOSS: 1.3145040611561853e-13\n",
      "Epoch 7000/10000, LOSS: 1.3855583347321954e-13\n",
      "Epoch 8000/10000, LOSS: 1.3145040611561853e-13\n",
      "Epoch 9000/10000, LOSS: 1.3500311979441904e-13\n"
     ]
    }
   ],
   "source": [
    "import torch\n",
    "import torch.nn as nn\n",
    "from torch.utils.data import Dataset, DataLoader\n",
    "\n",
    "X = torch.tensor([[0, 0], [0, 1], [1, 0], [1, 1]], dtype=torch.float32)\n",
    "Y = torch.tensor([0, 1, 1, 0], dtype=torch.float32)\n",
    "\n",
    "class XORModel(nn.Module):\n",
    "    def __init__(self):\n",
    "        super(XORModel, self).__init__()\n",
    "        self.linear1 = nn.Linear(2, 2, bias=True)\n",
    "        self.activation1 = nn.Sigmoid()\n",
    "        self.linear2 = nn.Linear(2, 1, bias=True)\n",
    "        self.activation2 = nn.ReLU()\n",
    "    def forward(self, x):\n",
    "        x = self.linear1(x)\n",
    "        x = self.activation1(x)\n",
    "        x = self.linear2(x)\n",
    "        # x = self.activation2(x)\n",
    "        return x\n",
    "\n",
    "class MyDataset(Dataset):\n",
    "    def __init__(self, X, Y):\n",
    "        self.X = X\n",
    "        self.Y = Y\n",
    "\n",
    "    def __len__(self):\n",
    "        return len(self.X)\n",
    "\n",
    "    def __getitem__(self, idx):\n",
    "        return self.X[idx].to(device), self.Y[idx].to(device)\n",
    "\n",
    "full_dataset = MyDataset(X, Y)\n",
    "batch_size = 1\n",
    "train_data_loader = DataLoader(full_dataset, batch_size=batch_size, shuffle=True)\n",
    "\n",
    "device = torch.device(\"cuda\" if torch.cuda.is_available() else \"cpu\")\n",
    "model = XORModel().to(device)\n",
    "print(model)\n",
    "\n",
    "loss_fn = torch.nn.MSELoss()\n",
    "optimizer = torch.optim.SGD(model.parameters(), lr=0.1)\n",
    "\n",
    "def train_one_epoch(epoch_index):\n",
    "    total_loss = 0\n",
    "    for i, data in enumerate(train_data_loader):\n",
    "        inputs, labels = data\n",
    "        optimizer.zero_grad()\n",
    "        outputs = model(inputs)\n",
    "        loss = loss_fn(outputs.flatten(), labels.view(-1, 1))\n",
    "        loss.backward()\n",
    "        optimizer.step()\n",
    "        total_loss += loss.item()\n",
    "    return total_loss / (len(train_data_loader) * batch_size)\n",
    "\n",
    "EPOCHES = 10000\n",
    "loss_list = []\n",
    "\n",
    "for epoch in range(EPOCHES):\n",
    "    model.train(True)\n",
    "    avg_loss = train_one_epoch(epoch)\n",
    "    loss_list.append(avg_loss)\n",
    "    if epoch % 1000 == 0:\n",
    "        print(f\"Epoch {epoch}/{EPOCHES}, LOSS: {avg_loss}\")\n"
   ]
  },
  {
   "cell_type": "code",
   "execution_count": 5,
   "id": "57a24d15-170f-4368-85e6-9e8d971fae2d",
   "metadata": {},
   "outputs": [
    {
     "name": "stdout",
     "output_type": "stream",
     "text": [
      "('linear1.weight', Parameter containing:\n",
      "tensor([[-1.9244,  1.9162],\n",
      "        [-3.5163,  3.4869]], device='cuda:0', requires_grad=True))\n",
      "('linear1.bias', Parameter containing:\n",
      "tensor([ 0.5972, -2.6076], device='cuda:0', requires_grad=True))\n",
      "('linear2.weight', Parameter containing:\n",
      "tensor([[-2.7182,  2.7605]], device='cuda:0', requires_grad=True))\n",
      "('linear2.bias', Parameter containing:\n",
      "tensor([1.5638], device='cuda:0', requires_grad=True))\n",
      "The input is tensor([0., 1.], device='cuda:0') \n",
      "output y predicted = tensor([1.0000], device='cuda:0', grad_fn=<ViewBackward0>)\n"
     ]
    },
    {
     "data": {
      "image/png": "[encoded data removed]",
      "text/plain": [
       "<Figure size 640x480 with 1 Axes>"
      ]
     },
     "metadata": {},
     "output_type": "display_data"
    }
   ],
   "source": [
    "for param in model.named_parameters():\n",
    "    print(param)\n",
    "input = torch.tensor([0,1], dtype=torch.float32).to(device)\n",
    "model.eval()\n",
    "print(f\"The input is {input} \\noutput y predicted = {model(input)}\")\n",
    "plt.plot(loss_list)\n",
    "plt.show()"
   ]
  },
  {
   "cell_type": "code",
   "execution_count": 6,
   "id": "2a3ee2db-2938-4295-97a1-c0e3fef2652b",
   "metadata": {},
   "outputs": [
    {
     "name": "stdout",
     "output_type": "stream",
     "text": [
      "Manually calculated output:\n",
      "tensor([[0.1370],\n",
      "        [0.7874],\n",
      "        [0.7856],\n",
      "        [0.3178]])\n"
     ]
    }
   ],
   "source": [
    "# q3\n",
    "\n",
    "weights_linear1 = torch.tensor([[-5.1631, -4.8568],[-2.2602, -2.2065]], dtype=torch.float32)\n",
    "biases_linear1 = torch.tensor([1.3139, 2.9795], dtype=torch.float32)\n",
    "\n",
    "\n",
    "weights_linear2 = torch.tensor([[-5.7169,  4.4677]], dtype=torch.float32)\n",
    "biases_linear2 = torch.tensor([-1.5865], dtype=torch.float32)\n",
    "\n",
    "def sigmoid(x):\n",
    "    return 1 / (1 + torch.exp(-x))\n",
    "\n",
    "linear1_output = torch.matmul(X, weights_linear1.t()) + biases_linear1\n",
    "activation1_output = sigmoid(linear1_output)\n",
    "linear2_output = torch.matmul(activation1_output, weights_linear2.t()) + biases_linear2\n",
    "output = sigmoid(linear2_output)\n",
    "\n",
    "print(\"Manually calculated output:\")\n",
    "print(output)\n"
   ]
  },
  {
   "cell_type": "code",
   "execution_count": 9,
   "id": "ab58d185-6576-4ef8-a5df-2d54020c3874",
   "metadata": {},
   "outputs": [],
   "source": [
    "# q4\n",
    "\n",
    "import torch\n",
    "from matplotlib import pyplot as plt\n",
    "from torch.utils.data import Dataset,DataLoader\n",
    "import torch.nn as nn\n",
    "import numpy as np\n",
    "import torchvision\n",
    "import torchvision.transforms as transforms\n",
    "from sklearn.metrics import confusion_matrix\n",
    "import seaborn as sns\n",
    "\n",
    "device = torch.device('cuda' if torch.cuda.is_available() else 'cpu')\n",
    "\n",
    "input_size = 28 * 28  \n",
    "hidden_size1 = 500\n",
    "hidden_size2 = 200\n",
    "num_classes = 10\n",
    "num_epochs = 5\n",
    "batch_size = 100\n",
    "learning_rate = 0.001\n",
    "\n",
    "train_dataset = torchvision.datasets.MNIST(root='./data', train=True, transform=transforms.ToTensor(), download=True)\n",
    "test_dataset = torchvision.datasets.MNIST(root='./data', train=False, transform=transforms.ToTensor())\n",
    "\n",
    "\n",
    "train_loader = torch.utils.data.DataLoader(dataset=train_dataset, batch_size=batch_size, shuffle=True)\n",
    "test_loader = torch.utils.data.DataLoader(dataset=test_dataset, batch_size=batch_size, shuffle=False)\n",
    "\n"
   ]
  },
  {
   "cell_type": "code",
   "execution_count": null,
   "id": "7ec8e1d8-ef72-42e3-98af-e770e89143a9",
   "metadata": {},
   "outputs": [],
   "source": [
    "class FFNN(nn.Module):\n",
    "    def __init__(self, input_size, hidden_size1, hidden_size2, num_classes):\n",
    "        super(FFNN, self).__init__()\n",
    "        self.fc1 = nn.Linear(input_size, hidden_size1)\n",
    "        self.relu1 = nn.ReLU()\n",
    "        self.fc2 = nn.Linear(hidden_size1, hidden_size2)\n",
    "        self.relu2 = nn.ReLU()\n",
    "        self.fc3 = nn.Linear(hidden_size2, num_classes)\n",
    "    \n",
    "    def forward(self, x):\n",
    "        out = self.fc1(x)\n",
    "        out = self.relu1(out)\n",
    "        out = self.fc2(out)\n",
    "        out = self.relu2(out)\n",
    "        out = self.fc3(out)\n",
    "        return out\n",
    "\n",
    "model = FFNN(input_size, hidden_size1, hidden_size2, num_classes).to(device)\n",
    "\n",
    "\n",
    "criterion = nn.CrossEntropyLoss()\n",
    "optimizer = torch.optim.Adam(model.parameters(), lr=learning_rate)\n",
    "\n",
    "total_step = len(train_loader)\n",
    "for epoch in range(num_epochs):\n",
    "    for i, (images, labels) in enumerate(train_loader):\n",
    "        images = images.reshape(-1, 28*28).to(device)\n",
    "        labels = labels.to(device)\n",
    "\n",
    "        outputs = model(images)\n",
    "        loss = criterion(outputs, labels)\n",
    "\n",
    "        optimizer.zero_grad()\n",
    "        loss.backward()\n",
    "        optimizer.step()\n",
    "        \n",
    "        if (i+1) % 100 == 0:\n",
    "            print ('Epoch [{}/{}], Step [{}/{}], Loss: {:.4f}' \n",
    "                   .format(epoch+1, num_epochs, i+1, total_step, loss.item()))\n",
    "\n",
    "\n",
    "model.eval() \n",
    "with torch.no_grad():\n",
    "    correct = 0\n",
    "    total = 0\n",
    "    all_labels = []\n",
    "    all_predictions = []\n",
    "    for images, labels in test_loader:\n",
    "        images = images.reshape(-1, 28*28).to(device)\n",
    "        labels = labels.to(device)\n",
    "        outputs = model(images)\n",
    "        _, predicted = torch.max(outputs.data, 1)\n",
    "        total += labels.size(0)\n",
    "        correct += (predicted == labels).sum().item()\n",
    "        all_labels.extend(labels.cpu().numpy())\n",
    "        all_predictions.extend(predicted.cpu().numpy())\n",
    "\n",
    "    print('Test Accuracy of the model on the 10000 test images: {} %'.format(100 * correct / total))\n",
    "\n",
    "\n"
   ]
  },
  {
   "cell_type": "code",
   "execution_count": null,
   "id": "437be3bd-37bd-4c41-b7c7-f16ee11ef28a",
   "metadata": {},
   "outputs": [],
   "source": []
  }
 ],
 "metadata": {
  "kernelspec": {
   "display_name": "Python 3 (ipykernel)",
   "language": "python",
   "name": "python3"
  },
  "language_info": {
   "codemirror_mode": {
    "name": "ipython",
    "version": 3
   },
   "file_extension": ".py",
   "mimetype": "text/x-python",
   "name": "python",
   "nbconvert_exporter": "python",
   "pygments_lexer": "ipython3",
   "version": "3.11.7"
  }
 },
 "nbformat": 4,
 "nbformat_minor": 5
}
