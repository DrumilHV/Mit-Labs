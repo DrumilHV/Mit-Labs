{
 "cells": [
  {
   "cell_type": "markdown",
   "id": "1c05b28d-bf69-45b2-9b60-59cf3dfe6940",
   "metadata": {},
   "source": [
    "## Q1. Implement Auto-Encoder for latent representation of MNIST dataset."
   ]
  },
  {
   "cell_type": "code",
   "execution_count": 1,
   "id": "0147842e-02bd-4a0c-ae89-5d7d312df22e",
   "metadata": {},
   "outputs": [],
   "source": [
    "import torch\n",
    "import torch.nn as nn\n",
    "import torch.nn.functional as f\n",
    "import torch.optim as optim\n",
    "from torch.utils import data\n",
    "import torchvision.transforms as t\n",
    "from torchvision.datasets import MNIST"
   ]
  },
  {
   "cell_type": "code",
   "execution_count": null,
   "id": "735c74fb-eb48-4708-8b09-b4c35c8686b2",
   "metadata": {},
   "outputs": [],
   "source": []
  },
  {
   "cell_type": "code",
   "execution_count": 2,
   "id": "d68a0bd6-49f3-4a38-bba0-9ab6e3bfcd5a",
   "metadata": {},
   "outputs": [],
   "source": [
    "EPOCHS = 20\n",
    "BATCH_SIZE_TRAIN = 128\n",
    "BATCH_SIZE_TEST = 1000\n",
    "LR = 0.001\n",
    "DEVICE = torch.device(\"cuda\" if torch.cuda.is_available() else \"cpu\")"
   ]
  },
  {
   "cell_type": "code",
   "execution_count": null,
   "id": "5c5b47aa-8f8d-4dc1-b0dc-2e4c3493cd32",
   "metadata": {},
   "outputs": [],
   "source": []
  },
  {
   "cell_type": "code",
   "execution_count": 3,
   "id": "dbf57666-bf49-47e9-8591-bf8c2c66c693",
   "metadata": {},
   "outputs": [],
   "source": [
    "class AutoEncoder(nn.Module):\n",
    "    def __init__(self):\n",
    "        super(AutoEncoder, self).__init__()\n",
    "\n",
    "        self.encoder = nn.Sequential(\n",
    "            nn.Linear(784, 100),\n",
    "            nn.ReLU(),\n",
    "            nn.Dropout(0.2),\n",
    "            nn.Linear(100, 50),\n",
    "            nn.Sigmoid(),\n",
    "        )\n",
    "\n",
    "        self.decoder = nn.Sequential(\n",
    "            nn.Linear(50, 100),\n",
    "            nn.ReLU(),\n",
    "            nn.Dropout(0.2),\n",
    "            nn.Linear(100, 784),\n",
    "            nn.Sigmoid(),\n",
    "        )\n",
    "\n",
    "    def forward(self, x):\n",
    "        x = x.view(-1, 784)\n",
    "        x = self.encoder(x)\n",
    "        x = self.decoder(x)\n",
    "        x = x.view(-1, 1, 28, 28)\n",
    "        return x"
   ]
  },
  {
   "cell_type": "code",
   "execution_count": 4,
   "id": "034878e4-a1fa-49bb-9e83-c047c03dc57f",
   "metadata": {},
   "outputs": [],
   "source": [
    "def train(model, train_loader, criterion, optimizer, device=\"cpu\"):\n",
    "    model.train()\n",
    "    running_loss = 0.0\n",
    "    for data, _ in train_loader:\n",
    "        data = data.to(device)\n",
    "        target = torch.empty_like(data).copy_(data)\n",
    "        optimizer.zero_grad()\n",
    "        output = model(data)\n",
    "        loss = criterion(output, target)\n",
    "        loss.backward()\n",
    "        optimizer.step()\n",
    "        running_loss += loss.item()\n",
    "    running_loss /= len(train_loader)\n",
    "    return running_loss\n",
    "\n",
    "def test(model, test_loader, criterion, device=\"cpu\"):\n",
    "    model.eval()\n",
    "    running_loss = 0.0\n",
    "    with torch.no_grad():\n",
    "        for data, _ in test_loader:\n",
    "            data = data.to(device)\n",
    "            target = torch.empty_like(data).copy_(data)\n",
    "            output = model(data)\n",
    "            running_loss += criterion(output, target).item()\n",
    "    running_loss /= len(test_loader)\n",
    "    return running_loss"
   ]
  },
  {
   "cell_type": "code",
   "execution_count": null,
   "id": "7b5c2e41-9527-4fbb-844b-2854d0d643e0",
   "metadata": {},
   "outputs": [],
   "source": []
  },
  {
   "cell_type": "code",
   "execution_count": 5,
   "id": "798baf46-f705-4c7c-9be0-1daee10e92a5",
   "metadata": {},
   "outputs": [],
   "source": [
    "train_dataset = MNIST('data/', train=True, download=True, transform=t.ToTensor())\n",
    "test_dataset = MNIST('data/', train=False, download=True, transform=t.ToTensor())\n",
    "\n",
    "train_loader = data.DataLoader(train_dataset, batch_size=BATCH_SIZE_TRAIN, shuffle=True)\n",
    "test_loader = data.DataLoader(test_dataset, batch_size=BATCH_SIZE_TEST, shuffle=True)"
   ]
  },
  {
   "cell_type": "code",
   "execution_count": 6,
   "id": "baae244d-feea-49a3-8ab1-fa52af19d3e6",
   "metadata": {},
   "outputs": [
    {
     "name": "stdout",
     "output_type": "stream",
     "text": [
      "AutoEncoder(\n",
      "  (encoder): Sequential(\n",
      "    (0): Linear(in_features=784, out_features=100, bias=True)\n",
      "    (1): ReLU()\n",
      "    (2): Dropout(p=0.2, inplace=False)\n",
      "    (3): Linear(in_features=100, out_features=50, bias=True)\n",
      "    (4): Sigmoid()\n",
      "  )\n",
      "  (decoder): Sequential(\n",
      "    (0): Linear(in_features=50, out_features=100, bias=True)\n",
      "    (1): ReLU()\n",
      "    (2): Dropout(p=0.2, inplace=False)\n",
      "    (3): Linear(in_features=100, out_features=784, bias=True)\n",
      "    (4): Sigmoid()\n",
      "  )\n",
      ")\n"
     ]
    }
   ],
   "source": [
    "model = AutoEncoder().to(DEVICE)\n",
    "\n",
    "print(model)"
   ]
  },
  {
   "cell_type": "code",
   "execution_count": 7,
   "id": "fba6c5fb-5142-4542-ba4b-4372cb531122",
   "metadata": {},
   "outputs": [],
   "source": [
    "criterion = nn.BCELoss()\n",
    "optimizer = optim.Adam(model.parameters(), lr=LR)"
   ]
  },
  {
   "cell_type": "code",
   "execution_count": 8,
   "id": "ff7badf9-9351-46cf-ba69-8c8f11229eaa",
   "metadata": {},
   "outputs": [
    {
     "name": "stdout",
     "output_type": "stream",
     "text": [
      "Epoch: 1\n",
      "\tTraining: Loss: 0.275081\n",
      "\tTesting: Loss: 0.241396\n",
      "\n",
      "Epoch: 2\n",
      "\tTraining: Loss: 0.230498\n",
      "\tTesting: Loss: 0.200173\n",
      "\n",
      "Epoch: 3\n",
      "\tTraining: Loss: 0.191819\n",
      "\tTesting: Loss: 0.170909\n",
      "\n",
      "Epoch: 4\n",
      "\tTraining: Loss: 0.17728\n",
      "\tTesting: Loss: 0.15945\n",
      "\n",
      "Epoch: 5\n",
      "\tTraining: Loss: 0.168909\n",
      "\tTesting: Loss: 0.149973\n",
      "\n",
      "Epoch: 6\n",
      "\tTraining: Loss: 0.162849\n",
      "\tTesting: Loss: 0.144057\n",
      "\n",
      "Epoch: 7\n",
      "\tTraining: Loss: 0.158819\n",
      "\tTesting: Loss: 0.139755\n",
      "\n",
      "Epoch: 8\n",
      "\tTraining: Loss: 0.155664\n",
      "\tTesting: Loss: 0.135875\n",
      "\n",
      "Epoch: 9\n",
      "\tTraining: Loss: 0.15324\n",
      "\tTesting: Loss: 0.132807\n",
      "\n",
      "Epoch: 10\n",
      "\tTraining: Loss: 0.151086\n",
      "\tTesting: Loss: 0.130347\n",
      "\n",
      "Epoch: 11\n",
      "\tTraining: Loss: 0.149367\n",
      "\tTesting: Loss: 0.128278\n",
      "\n",
      "Epoch: 12\n",
      "\tTraining: Loss: 0.147952\n",
      "\tTesting: Loss: 0.126568\n",
      "\n",
      "Epoch: 13\n",
      "\tTraining: Loss: 0.146897\n",
      "\tTesting: Loss: 0.125222\n",
      "\n",
      "Epoch: 14\n",
      "\tTraining: Loss: 0.145919\n",
      "\tTesting: Loss: 0.124196\n",
      "\n",
      "Epoch: 15\n",
      "\tTraining: Loss: 0.145211\n",
      "\tTesting: Loss: 0.122918\n",
      "\n",
      "Epoch: 16\n",
      "\tTraining: Loss: 0.144499\n",
      "\tTesting: Loss: 0.122378\n",
      "\n",
      "Epoch: 17\n",
      "\tTraining: Loss: 0.143962\n",
      "\tTesting: Loss: 0.121463\n",
      "\n",
      "Epoch: 18\n",
      "\tTraining: Loss: 0.143443\n",
      "\tTesting: Loss: 0.120898\n",
      "\n",
      "Epoch: 19\n",
      "\tTraining: Loss: 0.142908\n",
      "\tTesting: Loss: 0.120183\n",
      "\n",
      "Epoch: 20\n",
      "\tTraining: Loss: 0.142484\n",
      "\tTesting: Loss: 0.11977\n",
      "\n"
     ]
    }
   ],
   "source": [
    "for epoch in range(1, EPOCHS + 1):\n",
    "    print(f\"Epoch: {epoch}\")\n",
    "\n",
    "    print(\"\\tTraining: \", end='')\n",
    "    train_loss = train(model, train_loader, criterion, optimizer, DEVICE)\n",
    "    print(\"Loss: {:.6}\".format(train_loss))\n",
    "\n",
    "    print(\"\\tTesting: \", end='')\n",
    "    test_loss = test(model, test_loader, criterion, DEVICE)\n",
    "    print(\"Loss: {:.6}\".format(test_loss))\n",
    "\n",
    "    print()\n"
   ]
  },
  {
   "cell_type": "code",
   "execution_count": null,
   "id": "7074afdf-d8e2-46ca-9eda-264cab1e9b4e",
   "metadata": {},
   "outputs": [],
   "source": []
  },
  {
   "cell_type": "code",
   "execution_count": 9,
   "id": "9dffe4a0-a3db-442a-8f12-1f4efaa01b13",
   "metadata": {},
   "outputs": [],
   "source": [
    "import matplotlib.pyplot as plt"
   ]
  },
  {
   "cell_type": "code",
   "execution_count": 10,
   "id": "53a195ea-c2f5-4145-8fc4-8b5f67cf174c",
   "metadata": {},
   "outputs": [],
   "source": [
    "NUM_COLUMNS = 5"
   ]
  },
  {
   "cell_type": "code",
   "execution_count": 11,
   "id": "efe44065-e92f-4a19-a827-42fadaf1b4ec",
   "metadata": {},
   "outputs": [
    {
     "data": {
      "image/png": "[encoded data removed]",
      "text/plain": [
       "<Figure size 720x432 with 10 Axes>"
      ]
     },
     "metadata": {},
     "output_type": "display_data"
    }
   ],
   "source": [
    "iterator = iter(test_loader)\n",
    "data, _ = next(iterator)\n",
    "out = model(data.to(DEVICE))\n",
    "\n",
    "tensor2image = t.ToPILImage()\n",
    "\n",
    "fig, axs = plt.subplots(2, NUM_COLUMNS, figsize=(10, 6))\n",
    "axs[0, 0].set_ylabel('Original Image')\n",
    "axs[1, 0].set_ylabel('Generated Images\\nfrom AutoEncoder')\n",
    "for i in range(NUM_COLUMNS):\n",
    "    axs[0, i].imshow(tensor2image(data[i]), cmap = 'gray')\n",
    "    axs[0, i].set_xticks([])\n",
    "    axs[0, i].set_yticks([])\n",
    "\n",
    "    axs[1, i].imshow(tensor2image(out[i]), cmap='gray')\n",
    "    axs[1, i].set_xticks([])\n",
    "    axs[1, i].set_yticks([])\n",
    "\n",
    "plt.tight_layout()\n",
    "plt.show()"
   ]
  },
  {
   "cell_type": "markdown",
   "id": "2e9d53b1-9929-4cfd-bc12-c18ef519761b",
   "metadata": {},
   "source": [
    "## Q2. Implement VAE for synthesizing digits using MNIST training data.\n"
   ]
  },
  {
   "cell_type": "code",
   "execution_count": 12,
   "id": "76614ff4-0ce3-4d1f-93c4-3a05e05358b5",
   "metadata": {},
   "outputs": [],
   "source": [
    "import torch\n",
    "import torch.nn as nn\n",
    "import torch.nn.functional as f\n",
    "import torch.optim as optim\n",
    "from torch.utils import data\n",
    "import torchvision.transforms as t\n",
    "from torchvision.datasets import MNIST\n"
   ]
  },
  {
   "cell_type": "code",
   "execution_count": 13,
   "id": "8478ca7f-c5c4-4af4-9e34-7e2d3f10ff18",
   "metadata": {},
   "outputs": [],
   "source": [
    "EPOCHS = 20\n",
    "BATCH_SIZE_TRAIN = 128\n",
    "BATCH_SIZE_TEST = 1000\n",
    "LR = 0.001\n",
    "DEVICE = torch.device(\"cuda\" if torch.cuda.is_available() else \"cpu\")\n"
   ]
  },
  {
   "cell_type": "code",
   "execution_count": 14,
   "id": "f41a6610-b960-4782-a8a5-81ab060e1451",
   "metadata": {},
   "outputs": [],
   "source": [
    "class VariationalAutoEncoder(nn.Module):\n",
    "    def __init__(self):\n",
    "        super(VariationalAutoEncoder, self).__init__()\n",
    "\n",
    "        self.encoder = nn.Sequential(\n",
    "            nn.Linear(784, 100),\n",
    "            nn.ReLU(),\n",
    "            nn.Dropout(0.2),\n",
    "            nn.Linear(100, 50),\n",
    "            nn.Sigmoid(),\n",
    "        )\n",
    "\n",
    "        self.mean = nn.Linear(50, 10, bias=True)\n",
    "        self.std = nn.Linear(50, 10, bias=True)\n",
    "\n",
    "        self.decoder = nn.Sequential(\n",
    "            nn.BatchNorm1d(10),\n",
    "            nn.Linear(10, 50),\n",
    "            nn.ReLU(),\n",
    "            nn.Linear(50, 100),\n",
    "            nn.ReLU(),\n",
    "            nn.Dropout(0.2),\n",
    "            nn.Linear(100, 784),\n",
    "            nn.Sigmoid(),\n",
    "        )\n",
    "\n",
    "    def forward(self, x):\n",
    "        x = x.view(-1, 784)\n",
    "        enc = self.encoder(x)\n",
    "        mean = self.mean(enc)\n",
    "        std = self.std(enc)\n",
    "        z = mean + std * torch.randn_like(std)\n",
    "        dec = self.decoder(z)\n",
    "        dec = dec.view(-1, 1, 28, 28)\n",
    "        return mean, std, dec\n"
   ]
  },
  {
   "cell_type": "code",
   "execution_count": 15,
   "id": "469fd435-abbd-4fe8-ac1f-ed91e566b2d2",
   "metadata": {},
   "outputs": [],
   "source": [
    "def loss_function(x, x_hat, mean, log_var):\n",
    "    reproduction_loss = f.binary_cross_entropy(x_hat, x, reduction='sum')\n",
    "    KLD = - 0.5 * torch.sum(1 + log_var - mean.pow(2) - log_var.exp())\n",
    "    return reproduction_loss + KLD\n"
   ]
  },
  {
   "cell_type": "code",
   "execution_count": 16,
   "id": "f73a31f9-04a7-42da-aa7b-277527cfd815",
   "metadata": {},
   "outputs": [],
   "source": [
    "def train(model, train_loader, criterion, optimizer, device=\"cpu\"):\n",
    "    model.train()\n",
    "    running_loss = 0.0\n",
    "    for data, _ in train_loader:\n",
    "        data = data.to(device)\n",
    "        target = torch.empty_like(data).copy_(data)\n",
    "        optimizer.zero_grad()\n",
    "        mean, std, output = model(data)\n",
    "        loss = criterion(target, output, mean, std)\n",
    "        loss.backward()\n",
    "        optimizer.step()\n",
    "        running_loss += loss.item()\n",
    "    running_loss /= len(train_loader)\n",
    "    return running_loss\n",
    "\n",
    "def test(model, test_loader, criterion, device=\"cpu\"):\n",
    "    model.eval()\n",
    "    running_loss = 0.0\n",
    "    with torch.no_grad():\n",
    "        for data, _ in test_loader:\n",
    "            data = data.to(device)\n",
    "            target = torch.empty_like(data).copy_(data)\n",
    "            optimizer.zero_grad()\n",
    "            mean, std, output = model(data)\n",
    "            loss = criterion(target, output, mean, std)\n",
    "            running_loss += loss.item()\n",
    "    running_loss /= len(test_loader)\n",
    "    return running_loss\n"
   ]
  },
  {
   "cell_type": "code",
   "execution_count": 17,
   "id": "b404eeec-0cae-4fb0-a6a1-2e9bd905b6cf",
   "metadata": {},
   "outputs": [],
   "source": [
    "train_dataset = MNIST('data/', train=True, download=True, transform=t.ToTensor())\n",
    "test_dataset = MNIST('data/', train=False, download=True, transform=t.ToTensor())\n",
    "\n",
    "train_loader = data.DataLoader(train_dataset, batch_size=BATCH_SIZE_TRAIN, shuffle=True)\n",
    "test_loader = data.DataLoader(test_dataset, batch_size=BATCH_SIZE_TEST, shuffle=True)\n"
   ]
  },
  {
   "cell_type": "code",
   "execution_count": 18,
   "id": "54af91c2-e00a-42cb-b28d-aecfe45dc41f",
   "metadata": {},
   "outputs": [
    {
     "name": "stdout",
     "output_type": "stream",
     "text": [
      "VariationalAutoEncoder(\n",
      "  (encoder): Sequential(\n",
      "    (0): Linear(in_features=784, out_features=100, bias=True)\n",
      "    (1): ReLU()\n",
      "    (2): Dropout(p=0.2, inplace=False)\n",
      "    (3): Linear(in_features=100, out_features=50, bias=True)\n",
      "    (4): Sigmoid()\n",
      "  )\n",
      "  (mean): Linear(in_features=50, out_features=10, bias=True)\n",
      "  (std): Linear(in_features=50, out_features=10, bias=True)\n",
      "  (decoder): Sequential(\n",
      "    (0): BatchNorm1d(10, eps=1e-05, momentum=0.1, affine=True, track_running_stats=True)\n",
      "    (1): Linear(in_features=10, out_features=50, bias=True)\n",
      "    (2): ReLU()\n",
      "    (3): Linear(in_features=50, out_features=100, bias=True)\n",
      "    (4): ReLU()\n",
      "    (5): Dropout(p=0.2, inplace=False)\n",
      "    (6): Linear(in_features=100, out_features=784, bias=True)\n",
      "    (7): Sigmoid()\n",
      "  )\n",
      ")\n"
     ]
    }
   ],
   "source": [
    "model = VariationalAutoEncoder().to(DEVICE)\n",
    "\n",
    "print(model)\n"
   ]
  },
  {
   "cell_type": "code",
   "execution_count": 19,
   "id": "b09a1382-1366-46dd-b262-712ed417c8be",
   "metadata": {},
   "outputs": [],
   "source": [
    "criterion = loss_function\n",
    "optimizer = optim.Adam(model.parameters(), lr=LR)"
   ]
  },
  {
   "cell_type": "code",
   "execution_count": 20,
   "id": "b9357c43-c598-46f6-bd45-c607f550052d",
   "metadata": {},
   "outputs": [
    {
     "name": "stdout",
     "output_type": "stream",
     "text": [
      "Epoch: 1\n",
      "\tTraining: Loss: 24239.3\n",
      "\tTesting: Loss: 1.38226e+05\n",
      "\n",
      "Epoch: 2\n",
      "\tTraining: Loss: 17752.5\n",
      "\tTesting: Loss: 1.22227e+05\n",
      "\n",
      "Epoch: 3\n",
      "\tTraining: Loss: 16440.6\n",
      "\tTesting: Loss: 1.1377e+05\n",
      "\n",
      "Epoch: 4\n",
      "\tTraining: Loss: 15765.3\n",
      "\tTesting: Loss: 1.09222e+05\n",
      "\n",
      "Epoch: 5\n",
      "\tTraining: Loss: 15374.4\n",
      "\tTesting: Loss: 1.06596e+05\n",
      "\n",
      "Epoch: 6\n",
      "\tTraining: Loss: 15146.4\n",
      "\tTesting: Loss: 1.04153e+05\n",
      "\n",
      "Epoch: 7\n",
      "\tTraining: Loss: 14939.6\n",
      "\tTesting: Loss: 1.0237e+05\n",
      "\n",
      "Epoch: 8\n",
      "\tTraining: Loss: 14786.6\n",
      "\tTesting: Loss: 1.01128e+05\n",
      "\n",
      "Epoch: 9\n",
      "\tTraining: Loss: 14662.6\n",
      "\tTesting: Loss: 1.00192e+05\n",
      "\n",
      "Epoch: 10\n",
      "\tTraining: Loss: 14580.5\n",
      "\tTesting: Loss: 99576.8\n",
      "\n",
      "Epoch: 11\n",
      "\tTraining: Loss: 14515.1\n",
      "\tTesting: Loss: 99100.8\n",
      "\n",
      "Epoch: 12\n",
      "\tTraining: Loss: 14448.8\n",
      "\tTesting: Loss: 98657.1\n",
      "\n",
      "Epoch: 13\n",
      "\tTraining: Loss: 14393.8\n",
      "\tTesting: Loss: 98296.7\n",
      "\n",
      "Epoch: 14\n",
      "\tTraining: Loss: 14360.9\n",
      "\tTesting: Loss: 97830.6\n",
      "\n",
      "Epoch: 15\n",
      "\tTraining: Loss: 14317.5\n",
      "\tTesting: Loss: 97687.1\n",
      "\n",
      "Epoch: 16\n",
      "\tTraining: Loss: 14275.2\n",
      "\tTesting: Loss: 97328.2\n",
      "\n",
      "Epoch: 17\n",
      "\tTraining: Loss: 14256.5\n",
      "\tTesting: Loss: 97161.1\n",
      "\n",
      "Epoch: 18\n",
      "\tTraining: Loss: 14213.2\n",
      "\tTesting: Loss: 96916.4\n",
      "\n",
      "Epoch: 19\n",
      "\tTraining: Loss: 14188.7\n",
      "\tTesting: Loss: 96843.2\n",
      "\n",
      "Epoch: 20\n",
      "\tTraining: Loss: 14154.6\n",
      "\tTesting: Loss: 96748.5\n",
      "\n"
     ]
    }
   ],
   "source": [
    "for epoch in range(1, EPOCHS + 1):\n",
    "    print(f\"Epoch: {epoch}\")\n",
    "\n",
    "    print(\"\\tTraining: \", end='')\n",
    "    train_loss = train(model, train_loader, criterion, optimizer, DEVICE)\n",
    "    print(\"Loss: {:.6}\".format(train_loss))\n",
    "\n",
    "    print(\"\\tTesting: \", end='')\n",
    "    test_loss = test(model, test_loader, criterion, DEVICE)\n",
    "    print(\"Loss: {:.6}\".format(test_loss))\n",
    "\n",
    "    print()"
   ]
  },
  {
   "cell_type": "code",
   "execution_count": 21,
   "id": "91d2a9c0-2541-4206-b7a0-06f5c8b67d57",
   "metadata": {},
   "outputs": [],
   "source": [
    "import matplotlib.pyplot as plt\n",
    "NUM_COLUMNS = 5"
   ]
  },
  {
   "cell_type": "code",
   "execution_count": 22,
   "id": "25846c99-ce33-401e-b452-e012994491c8",
   "metadata": {},
   "outputs": [
    {
     "data": {
      "image/png": "[encoded data removed]",
      "text/plain": [
       "<Figure size 720x432 with 10 Axes>"
      ]
     },
     "metadata": {},
     "output_type": "display_data"
    }
   ],
   "source": [
    "iterator = iter(test_loader)\n",
    "data, _ = next(iterator)\n",
    "mean, std, out = model(data.to(DEVICE))\n",
    "\n",
    "tensor2image = t.ToPILImage()\n",
    "\n",
    "fig, axs = plt.subplots(2, NUM_COLUMNS, figsize=(10, 6))\n",
    "axs[0, 0].set_ylabel('Original Image')\n",
    "axs[1, 0].set_ylabel('Generated Images from\\nVariationalAutoEncoder')\n",
    "for i in range(NUM_COLUMNS):\n",
    "    axs[0, i].imshow(tensor2image(data[i]), cmap = 'gray')\n",
    "    axs[0, i].set_xticks([])\n",
    "    axs[0, i].set_yticks([])\n",
    "\n",
    "    axs[1, i].imshow(tensor2image(out[i]), cmap='gray')\n",
    "    axs[1, i].set_xticks([])\n",
    "    axs[1, i].set_yticks([])\n",
    "\n",
    "plt.tight_layout()\n",
    "plt.show()\n"
   ]
  },
  {
   "cell_type": "code",
   "execution_count": 23,
   "id": "911800ee-dffc-4601-9b7b-c13f3331e1f1",
   "metadata": {},
   "outputs": [
    {
     "data": {
      "image/png": "[encoded data removed]",
      "text/plain": [
       "<Figure size 720x432 with 5 Axes>"
      ]
     },
     "metadata": {},
     "output_type": "display_data"
    }
   ],
   "source": [
    "tensor2image = t.ToPILImage()\n",
    "\n",
    "fig, axs = plt.subplots(1, NUM_COLUMNS, figsize=(10, 6))\n",
    "axs[0].set_ylabel('Images Generated\\nFrom Latent Vectors')\n",
    "for i in range(NUM_COLUMNS):\n",
    "    mean = torch.zeros((1, 10))\n",
    "    var = torch.ones((1, 10))\n",
    "    z_sample = mean + var * torch.randn_like(var)\n",
    "    out = model.decoder(z_sample.to(DEVICE))\n",
    "    out = out.view(-1, 28, 28)\n",
    "    axs[i].imshow(tensor2image(out[0]), cmap = 'gray')\n",
    "    axs[i].set_xticks([])\n",
    "    axs[i].set_yticks([])\n",
    "\n",
    "plt.tight_layout()\n",
    "plt.show()\n"
   ]
  },
  {
   "cell_type": "code",
   "execution_count": null,
   "id": "152f532c-01d2-4e26-a894-8eb4e3c8f75d",
   "metadata": {},
   "outputs": [],
   "source": []
  }
 ],
 "metadata": {
  "kernelspec": {
   "display_name": "Python 3 (ipykernel)",
   "language": "python",
   "name": "python3"
  },
  "language_info": {
   "codemirror_mode": {
    "name": "ipython",
    "version": 3
   },
   "file_extension": ".py",
   "mimetype": "text/x-python",
   "name": "python",
   "nbconvert_exporter": "python",
   "pygments_lexer": "ipython3",
   "version": "3.10.12"
  }
 },
 "nbformat": 4,
 "nbformat_minor": 5
}
