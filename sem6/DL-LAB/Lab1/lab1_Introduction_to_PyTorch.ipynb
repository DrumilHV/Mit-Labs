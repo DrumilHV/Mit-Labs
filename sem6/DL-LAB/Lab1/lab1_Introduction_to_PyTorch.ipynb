{
  "nbformat": 4,
  "nbformat_minor": 0,
  "metadata": {
    "colab": {
      "provenance": [],
      "gpuType": "T4"
    },
    "kernelspec": {
      "name": "python3",
      "display_name": "Python 3"
    },
    "language_info": {
      "name": "python"
    },
    "accelerator": "GPU"
  },
  "cells": [
    {
      "cell_type": "code",
      "execution_count": null,
      "metadata": {
        "colab": {
          "base_uri": "https://localhost:8080/"
        },
        "id": "BCncH7Fv8T3D",
        "outputId": "6d835eab-e6e4-4d05-c6bf-169fe3610f1b"
      },
      "outputs": [
        {
          "output_type": "stream",
          "name": "stdout",
          "text": [
            "Original Tensor:\n",
            "tensor([1, 2, 3, 4, 5, 6, 7, 8])\n",
            "\n",
            "Reshaped Tensor:\n",
            "tensor([[1, 2, 3, 4],\n",
            "        [5, 6, 7, 8]])\n"
          ]
        }
      ],
      "source": [
        "# 1\n",
        "import torch\n",
        "\n",
        "# Create a tensor\n",
        "x = torch.arange(1, 9)\n",
        "\n",
        "# Reshape the tensor to a 2x4 matrix\n",
        "reshaped_x = x.view(2, 4)\n",
        "\n",
        "print(\"Original Tensor:\")\n",
        "print(x)\n",
        "print(\"\\nReshaped Tensor:\")\n",
        "print(reshaped_x)\n"
      ]
    },
    {
      "cell_type": "code",
      "source": [
        "# Resize the tensor to a 3x3 matrix, discarding or copying elements if necessary\n",
        "resized_x = x.resize_(3, 2)\n",
        "\n",
        "print(\"Resized Tensor:\")\n",
        "print(resized_x)\n"
      ],
      "metadata": {
        "colab": {
          "base_uri": "https://localhost:8080/"
        },
        "id": "S1en1sR1-JrN",
        "outputId": "307b205a-5270-4308-df72-0657fdf8c9b8"
      },
      "execution_count": null,
      "outputs": [
        {
          "output_type": "stream",
          "name": "stdout",
          "text": [
            "Resized Tensor:\n",
            "tensor([[1, 2],\n",
            "        [3, 4],\n",
            "        [5, 6]])\n"
          ]
        }
      ]
    },
    {
      "cell_type": "code",
      "source": [
        "# Create a tensor with a singleton dimension\n",
        "y = torch.randn(1, 3, 1, 4)\n",
        "\n",
        "# Squeeze the tensor to remove singleton dimensions\n",
        "squeezed_y = y.squeeze()\n",
        "\n",
        "print(\"Original Tensor:\")\n",
        "print(y.size())\n",
        "print(\"\\nSqueezed Tensor:\")\n",
        "print(squeezed_y.size(),)\n"
      ],
      "metadata": {
        "colab": {
          "base_uri": "https://localhost:8080/"
        },
        "id": "0rB2dNzl-wV2",
        "outputId": "d3073844-ddd3-4818-eee4-bebe5384503c"
      },
      "execution_count": null,
      "outputs": [
        {
          "output_type": "stream",
          "name": "stdout",
          "text": [
            "Original Tensor:\n",
            "torch.Size([1, 3, 1, 4])\n",
            "\n",
            "Squeezed Tensor:\n",
            "torch.Size([3, 4])\n"
          ]
        }
      ]
    },
    {
      "cell_type": "code",
      "source": [
        "import torch\n",
        "\n",
        "# Create two tensors\n",
        "tensor1 = torch.tensor([1, 2, 3])\n",
        "tensor2 = torch.tensor([4, 5, 6])\n",
        "\n",
        "# Stack the tensors along a new dimension (default is dim=0)\n",
        "stacked_tensor = torch.stack([tensor1, tensor2])\n",
        "\n",
        "print(\"Original Tensor 1:\")\n",
        "print(tensor1)\n",
        "\n",
        "print(\"\\nOriginal Tensor 2:\")\n",
        "print(tensor2)\n",
        "\n",
        "print(\"\\nStacked Tensor:\")\n",
        "print(stacked_tensor)\n"
      ],
      "metadata": {
        "colab": {
          "base_uri": "https://localhost:8080/"
        },
        "id": "gQzv3sw1_Re9",
        "outputId": "5070ea8b-e281-433b-c75c-8ef414482a89"
      },
      "execution_count": null,
      "outputs": [
        {
          "output_type": "stream",
          "name": "stdout",
          "text": [
            "Original Tensor 1:\n",
            "tensor([1, 2, 3])\n",
            "\n",
            "Original Tensor 2:\n",
            "tensor([4, 5, 6])\n",
            "\n",
            "Stacked Tensor:\n",
            "tensor([[1, 2, 3],\n",
            "        [4, 5, 6]])\n"
          ]
        }
      ]
    },
    {
      "cell_type": "code",
      "source": [
        "# Unsqueeze the tensor along the first dimension\n",
        "unsqueezed_y = squeezed_y.unsqueeze(0)\n",
        "\n",
        "print(\"Original Tensor:\")\n",
        "print(squeezed_y.size())\n",
        "print(\"\\nUnsqueezed Tensor:\")\n",
        "print(unsqueezed_y.size())\n"
      ],
      "metadata": {
        "colab": {
          "base_uri": "https://localhost:8080/"
        },
        "id": "ELO_WQrSCym6",
        "outputId": "f0fe5aaa-62b5-4442-a7de-56266e29301c"
      },
      "execution_count": null,
      "outputs": [
        {
          "output_type": "stream",
          "name": "stdout",
          "text": [
            "Original Tensor:\n",
            "torch.Size([3, 4])\n",
            "\n",
            "Unsqueezed Tensor:\n",
            "torch.Size([1, 3, 4])\n"
          ]
        }
      ]
    },
    {
      "cell_type": "code",
      "source": [
        "# 2\n",
        "# Create a 3D tensor\n",
        "tensor_3d = torch.tensor([[[1, 2], [3, 4]], [[5, 6], [7, 8]], [[9, 10], [11, 12]]])\n",
        "\n",
        "print(\"Original 3D Tensor:\")\n",
        "print(tensor_3d)\n",
        "print(\"Original Tensor Shape:\", tensor_3d.shape)\n",
        "\n",
        "# Permute the dimensions\n",
        "permuted_tensor_3d = tensor_3d.permute(2, 0, 1)\n",
        "\n",
        "print(\"\\nPermuted 3D Tensor:\")\n",
        "print(permuted_tensor_3d)\n",
        "print(\"Permuted Tensor Shape:\", permuted_tensor_3d.shape)\n"
      ],
      "metadata": {
        "colab": {
          "base_uri": "https://localhost:8080/"
        },
        "id": "2cbO3Y5RD6y4",
        "outputId": "730f625b-d904-4d6d-a6c1-bf45c6cd90f9"
      },
      "execution_count": null,
      "outputs": [
        {
          "output_type": "stream",
          "name": "stdout",
          "text": [
            "Original 3D Tensor:\n",
            "tensor([[[ 1,  2],\n",
            "         [ 3,  4]],\n",
            "\n",
            "        [[ 5,  6],\n",
            "         [ 7,  8]],\n",
            "\n",
            "        [[ 9, 10],\n",
            "         [11, 12]]])\n",
            "Original Tensor Shape: torch.Size([3, 2, 2])\n",
            "\n",
            "Permuted 3D Tensor:\n",
            "tensor([[[ 1,  3],\n",
            "         [ 5,  7],\n",
            "         [ 9, 11]],\n",
            "\n",
            "        [[ 2,  4],\n",
            "         [ 6,  8],\n",
            "         [10, 12]]])\n",
            "Permuted Tensor Shape: torch.Size([2, 3, 2])\n"
          ]
        }
      ]
    },
    {
      "cell_type": "code",
      "source": [
        "# 3\n",
        "import torch\n",
        "\n",
        "# Create a tensor\n",
        "tensor = torch.tensor([[1, 2, 3], [4, 5, 6], [7, 8, 9]])\n",
        "\n",
        "# Access a specific element\n",
        "element = tensor[1, 2]\n",
        "print(\"Element at index (1, 2):\", element)\n",
        "\n",
        "# Access a whole row or column\n",
        "row = tensor[1, :]\n",
        "column = tensor[:, 2]\n",
        "\n",
        "print(\"\\nRow at index 1:\")\n",
        "print(row)\n",
        "\n",
        "print(\"\\nColumn at index 2:\")\n",
        "print(column)\n"
      ],
      "metadata": {
        "colab": {
          "base_uri": "https://localhost:8080/"
        },
        "id": "Xl5SrhpTFrkQ",
        "outputId": "8e1aaa97-ee00-400b-fbf7-348481335fb9"
      },
      "execution_count": null,
      "outputs": [
        {
          "output_type": "stream",
          "name": "stdout",
          "text": [
            "Element at index (1, 2): tensor(6)\n",
            "\n",
            "Row at index 1:\n",
            "tensor([4, 5, 6])\n",
            "\n",
            "Column at index 2:\n",
            "tensor([3, 6, 9])\n"
          ]
        }
      ]
    },
    {
      "cell_type": "code",
      "source": [
        "# 4\n",
        "import numpy as np\n",
        "import torch\n",
        "\n",
        "# Create a NumPy array\n",
        "numpy_array = np.array([[1, 2, 3], [4, 5, 6]])\n",
        "\n",
        "# Convert NumPy array to PyTorch tensor\n",
        "torch_tensor = torch.from_numpy(numpy_array)\n",
        "\n",
        "print(\"NumPy Array:\")\n",
        "print(numpy_array)\n",
        "\n",
        "print(\"\\nPyTorch Tensor:\")\n",
        "print(torch_tensor)\n",
        "# Convert PyTorch tensor to NumPy array\n",
        "numpy_array_back = torch_tensor.numpy()\n",
        "\n",
        "\n",
        "print(\"\\nNumPy Array:\")\n",
        "print(numpy_array_back)\n"
      ],
      "metadata": {
        "colab": {
          "base_uri": "https://localhost:8080/"
        },
        "id": "meZTXymbGIQS",
        "outputId": "a625b3ac-08a4-4f9e-b6b6-b4b8825271ab"
      },
      "execution_count": null,
      "outputs": [
        {
          "output_type": "stream",
          "name": "stdout",
          "text": [
            "NumPy Array:\n",
            "[[1 2 3]\n",
            " [4 5 6]]\n",
            "\n",
            "PyTorch Tensor:\n",
            "tensor([[1, 2, 3],\n",
            "        [4, 5, 6]])\n",
            "\n",
            "NumPy Array:\n",
            "[[1 2 3]\n",
            " [4 5 6]]\n"
          ]
        }
      ]
    },
    {
      "cell_type": "code",
      "source": [
        "# 5\n",
        "import torch\n",
        "\n",
        "# Create a random tensor of size 7x7\n",
        "random_tensor = torch.randn(7, 7)\n",
        "\n",
        "print(\"Random Tensor of Size 7x7:\")\n",
        "print(random_tensor)\n"
      ],
      "metadata": {
        "colab": {
          "base_uri": "https://localhost:8080/"
        },
        "id": "mUnq0QEZJCXU",
        "outputId": "4898ee0d-2525-4528-aefd-f33a7a762d9f"
      },
      "execution_count": null,
      "outputs": [
        {
          "output_type": "stream",
          "name": "stdout",
          "text": [
            "Random Tensor of Size 7x7:\n",
            "tensor([[ 1.1116,  0.8983, -0.5236,  2.2763, -0.3374,  1.0498,  0.4906],\n",
            "        [ 0.1120,  0.9980, -0.3010,  1.0759, -0.7126, -0.0906,  0.8540],\n",
            "        [ 0.7834,  1.0693, -1.2048,  0.0883,  0.6009,  0.8211, -0.5672],\n",
            "        [ 0.5749, -1.2088,  0.1611, -1.6035,  0.5991,  0.5905,  2.3432],\n",
            "        [ 0.0453, -0.9913, -0.1932, -0.0166, -1.0873,  1.1005, -0.7763],\n",
            "        [-0.4083,  0.9364,  0.3306,  1.1694,  1.7606,  0.1469, -0.3243],\n",
            "        [-2.3216,  1.6120,  0.6496,  0.3387, -0.0169,  0.2874, -0.1823]])\n"
          ]
        }
      ]
    },
    {
      "cell_type": "code",
      "source": [
        "# 6\n",
        "import torch\n",
        "\n",
        "# Create a random tensor of size 7x7\n",
        "row_tensor = torch.randn(7, 7)\n",
        "\n",
        "# Create a tensor of size 7x1\n",
        "column_tensor = torch.randn(7, 1)\n",
        "\n",
        "# Multiply the tensors\n",
        "result_tensor = row_tensor.matmul(column_tensor)\n",
        "\n",
        "print(\"row Tensor (7x7):\")\n",
        "print(row_tensor)\n",
        "\n",
        "print(\"\\nColumn Tensor (7x1):\")\n",
        "print(column_tensor)\n",
        "\n",
        "print(\"\\nResult Tensor after Multiplication:\")\n",
        "print(result_tensor)\n"
      ],
      "metadata": {
        "colab": {
          "base_uri": "https://localhost:8080/"
        },
        "id": "BAvvuKjgK32H",
        "outputId": "b8b131b2-f337-4cac-9d33-791eadfb50a2"
      },
      "execution_count": null,
      "outputs": [
        {
          "output_type": "stream",
          "name": "stdout",
          "text": [
            "row Tensor (7x7):\n",
            "tensor([[ 0.9380, -0.2529,  0.8072,  1.2946, -0.1206, -0.1409, -1.3976],\n",
            "        [ 0.2961, -1.0944,  0.0669,  0.7631,  0.3813, -1.6050, -0.3871],\n",
            "        [-0.8116, -1.5249,  0.6676,  1.5396, -0.1050,  0.4484,  0.9708],\n",
            "        [ 0.0905,  0.1431,  2.4081, -0.0931, -0.0296,  0.5167,  0.8063],\n",
            "        [-1.9213, -0.9025,  1.7194,  1.2070,  0.5626, -0.6492,  0.4772],\n",
            "        [-0.1050, -0.9342, -1.8059, -0.1685, -1.8332,  1.4625, -0.0041],\n",
            "        [-1.1506,  0.7972, -1.6275,  0.7658, -0.2148,  0.4959, -1.2545]])\n",
            "\n",
            "Column Tensor (7x1):\n",
            "tensor([[-1.5262],\n",
            "        [-0.1260],\n",
            "        [ 0.3673],\n",
            "        [ 1.4186],\n",
            "        [ 0.6303],\n",
            "        [-0.4748],\n",
            "        [-0.3896]])\n",
            "\n",
            "Result Tensor after Multiplication:\n",
            "tensor([[ 1.2689],\n",
            "        [ 1.9463],\n",
            "        [ 3.2027],\n",
            "        [ 0.0181],\n",
            "        [ 5.8665],\n",
            "        [-2.4725],\n",
            "        [ 2.2621]])\n"
          ]
        }
      ]
    },
    {
      "cell_type": "code",
      "source": [
        "# 7\n",
        "import torch\n",
        "\n",
        "# Create two tensors on the CPU\n",
        "tensor1 = torch.randn((2, 3))\n",
        "tensor2 = torch.randn((2, 3))\n",
        "\n",
        "# Check the device of the tensors (should be 'cpu' initially)\n",
        "print(\"Tensor 1 Device:\", tensor1.device)\n",
        "print(\"Tensor 2 Device:\", tensor2.device)\n",
        "\n",
        "# Move the tensors to the GPU (assuming a GPU is available)\n",
        "device = torch.device(\"cuda\" if torch.cuda.is_available() else \"cpu\")\n",
        "tensor1 = tensor1.to(device)\n",
        "tensor2 = tensor2.to(device)\n",
        "\n",
        "# Check the device of the tensors after moving to GPU\n",
        "print(\"\\nAfter Moving to GPU:\")\n",
        "print(\"Tensor 1 Device:\", tensor1.device)\n",
        "print(\"Tensor 2 Device:\", tensor2.device)\n"
      ],
      "metadata": {
        "colab": {
          "base_uri": "https://localhost:8080/"
        },
        "id": "7Mi0b9XtNma-",
        "outputId": "c6f523db-3add-4a45-818c-7f38c9887cce"
      },
      "execution_count": null,
      "outputs": [
        {
          "output_type": "stream",
          "name": "stdout",
          "text": [
            "Tensor 1 Device: cpu\n",
            "Tensor 2 Device: cpu\n",
            "\n",
            "After Moving to GPU:\n",
            "Tensor 1 Device: cuda:0\n",
            "Tensor 2 Device: cuda:0\n"
          ]
        }
      ]
    },
    {
      "cell_type": "code",
      "source": [
        "# 9 and 10\n",
        "import torch\n",
        "\n",
        "# Create a random tensor of size 7x7\n",
        "tensor_7x7 = torch.randn(7, 7)\n",
        "\n",
        "# Create a random tensor of size 7x1\n",
        "column_tensor = torch.randn(7, 1)\n",
        "\n",
        "# Perform matrix multiplication\n",
        "result_tensor = tensor_7x7.matmul(column_tensor)\n",
        "\n",
        "# Find max and min in the 7x7 tensor\n",
        "max_value_7x7 = torch.max(tensor_7x7)\n",
        "min_value_7x7 = torch.min(tensor_7x7)\n",
        "\n",
        "# Find max and min in the result tensor\n",
        "max_value_result = torch.max(result_tensor)\n",
        "min_value_result = torch.min(result_tensor)\n",
        "\n",
        "print(\"Max value in the 7x7 tensor:\", max_value_7x7.item())\n",
        "print(\"Min value in the 7x7 tensor:\", min_value_7x7.item())\n",
        "\n",
        "print(\"\\nMax value in the result tensor:\", max_value_result.item())\n",
        "print(\"Min value in the result tensor:\", min_value_result.item())\n"
      ],
      "metadata": {
        "colab": {
          "base_uri": "https://localhost:8080/"
        },
        "id": "c-3181nJN3Rh",
        "outputId": "b2b750e4-3f29-4524-a947-6dd3918e8468"
      },
      "execution_count": null,
      "outputs": [
        {
          "output_type": "stream",
          "name": "stdout",
          "text": [
            "Max value in the 7x7 tensor: 2.1846022605895996\n",
            "Min value in the 7x7 tensor: -1.9242759943008423\n",
            "\n",
            "Max value in the result tensor: 4.181865692138672\n",
            "Min value in the result tensor: -4.148242950439453\n"
          ]
        }
      ]
    },
    {
      "cell_type": "code",
      "source": [
        "import torch\n",
        "\n",
        "# Set seed for reproducibility\n",
        "torch.manual_seed(7)\n",
        "\n",
        "# Create a random tensor of size (1, 1, 1, 10)\n",
        "tensor_original = torch.randn(1, 1, 1, 10)\n",
        "\n",
        "# Remove all dimensions of size 1\n",
        "tensor_removed_dims = tensor_original.squeeze()\n",
        "\n",
        "# Print the dimensions of both tensors\n",
        "print(\"Original Tensor Size:\", tensor_original.size())\n",
        "print(\"Tensor after Removing Dimensions of Size 1:\", tensor_removed_dims.size())\n"
      ],
      "metadata": {
        "id": "UO1fRz0NREDZ",
        "outputId": "d8f70f8c-6af5-4bf6-a982-fda6159c1689",
        "colab": {
          "base_uri": "https://localhost:8080/"
        }
      },
      "execution_count": null,
      "outputs": [
        {
          "output_type": "stream",
          "name": "stdout",
          "text": [
            "Original Tensor Size: torch.Size([1, 1, 1, 10])\n",
            "Tensor after Removing Dimensions of Size 1: torch.Size([10])\n"
          ]
        }
      ]
    }
  ]
}