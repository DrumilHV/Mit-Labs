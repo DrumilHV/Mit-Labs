{
 "cells": [
  {
   "cell_type": "code",
   "execution_count": 32,
   "id": "24e37964-b212-4396-a078-aaf71d106ae4",
   "metadata": {},
   "outputs": [],
   "source": [
    "import torch\n",
    "import numpy as np"
   ]
  },
  {
   "cell_type": "code",
   "execution_count": 11,
   "id": "d8b208ab-b4bd-4a47-96ae-a195905c79c6",
   "metadata": {},
   "outputs": [
    {
     "name": "stdout",
     "output_type": "stream",
     "text": [
      "x tensor(3.5000, requires_grad=True) \n",
      " y tensor(12.2500, grad_fn=<MulBackward0>) \n",
      " z tensor(27.5000, grad_fn=<AddBackward0>)\n"
     ]
    }
   ],
   "source": [
    "#  Example 1\n",
    "x = torch.tensor(3.500, requires_grad=True)\n",
    "\n",
    "y = x*x\n",
    "\n",
    "z = 2*y+3\n",
    "print(\"x\",x,\"\\n\",\"y\",y,\"\\n\",\"z\",z)"
   ]
  },
  {
   "cell_type": "code",
   "execution_count": 12,
   "id": "32892958-32a9-4a42-bb87-43faea2043bd",
   "metadata": {},
   "outputs": [
    {
     "name": "stdout",
     "output_type": "stream",
     "text": [
      "Gradient at x = 3.5 tensor(14.)\n"
     ]
    }
   ],
   "source": [
    "z.backward()\n",
    "\n",
    "print(\"Gradient at x = 3.5\", x.grad)"
   ]
  },
  {
   "cell_type": "code",
   "execution_count": 27,
   "id": "63a9da3b-e781-4ed0-aa56-a179c4924f46",
   "metadata": {},
   "outputs": [
    {
     "name": "stdout",
     "output_type": "stream",
     "text": [
      "tensor(-2.)\n",
      "pytorch gradient \n",
      " f'(x) = tensor(-2.) \n",
      " analatical f'(x)=-2\n"
     ]
    }
   ],
   "source": [
    "# Exaple 2\n",
    "x = torch.tensor(1.0, requires_grad=True)\n",
    "\n",
    "y = (x-2)**2\n",
    "\n",
    "y.backward()\n",
    "print(x.grad)\n",
    "print(\"pytorch gradient \\n f'(x) = %s \\n analatical f'(x)=%s\"%(x.grad, -2))"
   ]
  },
  {
   "cell_type": "code",
   "execution_count": 34,
   "id": "872c900d-e813-4c3d-aae6-26219651edc6",
   "metadata": {},
   "outputs": [
    {
     "name": "stdout",
     "output_type": "stream",
     "text": [
      "s'(x) =  tensor(0.1052)\n"
     ]
    }
   ],
   "source": [
    "# Example 4\n",
    "\n",
    "x = torch.tensor(2.0, requires_grad=True)\n",
    "a = -x\n",
    "b = 2.71**a\n",
    "c = 1 + b\n",
    "s = 1/c\n",
    "# sig = \n",
    "s.backward()\n",
    "\n",
    "print(\"s'(x) = \", x.grad)"
   ]
  },
  {
   "cell_type": "code",
   "execution_count": 36,
   "id": "511fccce-f2d7-4465-b276-e72f85da28c0",
   "metadata": {},
   "outputs": [
    {
     "name": "stdout",
     "output_type": "stream",
     "text": [
      "dz/da =  None\n"
     ]
    },
    {
     "name": "stderr",
     "output_type": "stream",
     "text": [
      "/tmp/ipykernel_21687/689393586.py:10: UserWarning: The .grad attribute of a Tensor that is not a leaf Tensor is being accessed. Its .grad attribute won't be populated during autograd.backward(). If you indeed want the .grad field to be populated for a non-leaf Tensor, use .retain_grad() on the non-leaf Tensor. If you access the non-leaf Tensor by mistake, make sure you access the leaf Tensor instead. See github.com/pytorch/pytorch/pull/30531 for more informations. (Triggered internally at /opt/conda/conda-bld/pytorch_1702400440653/work/build/aten/src/ATen/core/TensorBody.h:489.)\n",
      "  print(\"dz/da = \", x.grad)\n"
     ]
    }
   ],
   "source": [
    "a = torch.tensor(1.0, requires_grad=True)\n",
    "b = torch.tensor(2.0, requires_grad=True)\n",
    "\n",
    "x = 2*a + 3*b\n",
    "y = 5*a*a + 3*b*b*b\n",
    "z = 2*x + 3*y\n",
    "\n",
    "z.backward()\n",
    "\n",
    "print(\"dz/da = \", x.grad)"
   ]
  },
  {
   "cell_type": "code",
   "execution_count": 40,
   "id": "6f871a58-5b1f-4f86-96a6-b4841663ead2",
   "metadata": {},
   "outputs": [
    {
     "name": "stdout",
     "output_type": "stream",
     "text": [
      "dz/da = 34.0\n",
      "dz/da = 114.0\n"
     ]
    }
   ],
   "source": [
    "import torch\n",
    "\n",
    "a = torch.tensor(1.0, requires_grad=True)\n",
    "b = torch.tensor(2.0, requires_grad=True)\n",
    "\n",
    "x = 2*a + 3*b\n",
    "y = 5*a*a + 3*b*b*b\n",
    "z = 2*x + 3*y\n",
    "\n",
    "# Zero the gradients before calling backward()\n",
    "z.backward()\n",
    "\n",
    "print(\"dz/da =\", a.grad.item())\n",
    "print(\"dz/da =\", b.grad.item())\n",
    "\n"
   ]
  },
  {
   "cell_type": "code",
   "execution_count": 43,
   "id": "974ce8a9-ef6b-4e71-b671-7e0940f82464",
   "metadata": {},
   "outputs": [
    {
     "name": "stdout",
     "output_type": "stream",
     "text": [
      "df/dx =  -3.0\n"
     ]
    }
   ],
   "source": [
    "x = torch.tensor(0.0, requires_grad=True)\n",
    "y = torch.sin(x)\n",
    "z = 2*x\n",
    "a = x**2\n",
    "\n",
    "f = torch.exp(-(y+z+a))\n",
    "\n",
    "f.backward()\n",
    "\n",
    "print(\"df/dx = \", x.grad.item())"
   ]
  },
  {
   "cell_type": "code",
   "execution_count": 45,
   "id": "4b3d0314-350c-46ef-a3c4-d4e452431f41",
   "metadata": {},
   "outputs": [
    {
     "name": "stdout",
     "output_type": "stream",
     "text": [
      "dy/dx =  6.0\n"
     ]
    }
   ],
   "source": [
    "x = torch.tensor(0.0, requires_grad=True)\n",
    "\n",
    "y = 8*x**4+3*x**3+7*x**2+6*x+3\n",
    "\n",
    "y.backward()\n",
    "\n",
    "print(\"dy/dx = \", x.grad.item())"
   ]
  }
 ],
 "metadata": {
  "kernelspec": {
   "display_name": "Python 3 (ipykernel)",
   "language": "python",
   "name": "python3"
  },
  "language_info": {
   "codemirror_mode": {
    "name": "ipython",
    "version": 3
   },
   "file_extension": ".py",
   "mimetype": "text/x-python",
   "name": "python",
   "nbconvert_exporter": "python",
   "pygments_lexer": "ipython3",
   "version": "3.11.7"
  }
 },
 "nbformat": 4,
 "nbformat_minor": 5
}
